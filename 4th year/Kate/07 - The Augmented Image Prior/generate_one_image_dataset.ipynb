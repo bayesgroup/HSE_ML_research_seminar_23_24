{
  "nbformat": 4,
  "nbformat_minor": 0,
  "metadata": {
    "colab": {
      "provenance": []
    },
    "kernelspec": {
      "name": "python3",
      "display_name": "Python 3"
    },
    "language_info": {
      "name": "python"
    }
  },
  "cells": [
    {
      "cell_type": "markdown",
      "source": [
        "# Prepare files and install conda"
      ],
      "metadata": {
        "id": "jrpDB4h9L7To"
      }
    },
    {
      "cell_type": "code",
      "execution_count": null,
      "metadata": {
        "id": "j3UgPwtGvXbW"
      },
      "outputs": [],
      "source": [
        "!wget \"https://raw.githubusercontent.com/yukimasano/single-img-extrapolating/master/data_generation/make_single_img_dataset.py\"\n",
        "!wget \"https://raw.githubusercontent.com/yukimasano/single-img-extrapolating/master/in1k/requirements.txt\"\n",
        "!wget \"https://raw.githubusercontent.com/yukimasano/single-img-extrapolating/master/data_generation/images/animals.png\"\n",
        "!wget \"https://raw.githubusercontent.com/yukimasano/single-img-extrapolating/master/data_generation/images/ameyoko.jpg\"\n",
        "!wget \"https://raw.githubusercontent.com/yukimasano/single-img-extrapolating/master/data_generation/images/img_a.jpg\"\n",
        "!mkdir train_set\n",
        "!wget \"https://repo.anaconda.com/miniconda/Miniconda3-latest-Linux-x86_64.sh\""
      ]
    },
    {
      "cell_type": "code",
      "source": [
        "!bash Miniconda3-latest-Linux-x86_64.sh"
      ],
      "metadata": {
        "id": "Rbtq-A6yKXyn"
      },
      "execution_count": null,
      "outputs": []
    },
    {
      "cell_type": "code",
      "source": [
        "!/root/miniconda3/bin/conda list   # check that conda is installed"
      ],
      "metadata": {
        "id": "r4JW8CHSLILe"
      },
      "execution_count": null,
      "outputs": []
    },
    {
      "cell_type": "markdown",
      "source": [
        "# Transform requirements.txt and set up environment"
      ],
      "metadata": {
        "id": "ttEoV5i8MDGB"
      }
    },
    {
      "cell_type": "code",
      "source": [
        "SCRIPT = '''#!/usr/bin/env awk -f\n",
        "#' Author: Mervin Fansler\n",
        "#' GitHub: @mfansler\n",
        "#' License: MIT\n",
        "#'\n",
        "#' Basic usage\n",
        "#' $ conda list --export | awk -f list_export_to_yaml.awk\n",
        "#'\n",
        "#' Omitting builds with 'no_builds'\n",
        "#' $ conda list --export | awk -v no_builds=1 -f list_export_to_yaml.awk\n",
        "#'\n",
        "#' Specifying channels with 'channels'\n",
        "#' $ conda list --export | awk -v channels=\"conda-forge,defaults\" -f list_export_to_yaml.awk\n",
        "\n",
        "BEGIN {\n",
        "  FS=\"=\";\n",
        "  if (channels) split(channels, channels_arr, \",\");\n",
        "  else channels_arr[0]=\"defaults\";\n",
        "}\n",
        "{\n",
        "  # skip header\n",
        "  if ($1 ~ /^#/) next;\n",
        "\n",
        "  if ($3 ~ /pypi/) {  # pypi packages\n",
        "    pip=1;\n",
        "    pypi[i++]=\"    - \"$1\"==\"$2\" \";\n",
        "  } else {  # conda packages\n",
        "    if ($1 ~ /pip/) pip=1;\n",
        "    else {  # should we keep builds?\n",
        "      if (no_builds) conda[j++]=\"  - \"$1\"=\"$2\" \";\n",
        "      else conda[j++]=\"  - \"$1\"=\"$2\"=\"$3\" \";\n",
        "    }\n",
        "  }\n",
        "}\n",
        "END {\n",
        "  # emit channel info\n",
        "  print \"channels: \";\n",
        "  for (k in channels_arr) print \"  - \"channels_arr[k]\" \";\n",
        "\n",
        "  # emit conda pkg info\n",
        "  print \"dependencies: \";\n",
        "  for (j in conda) print conda[j];\n",
        "\n",
        "  # emit PyPI pkg info\n",
        "  if (pip) print \"  - pip \";\n",
        "  if (length(pypi) > 0) {\n",
        "      print \"  - pip: \";\n",
        "      for (i in pypi) print pypi[i];\n",
        "  }\n",
        "}\n",
        "'''\n",
        "\n",
        "with open('list_export_to_yaml.awk', 'w') as f:\n",
        "    f.write(SCRIPT)"
      ],
      "metadata": {
        "id": "xqQEtvflL5qn"
      },
      "execution_count": 4,
      "outputs": []
    },
    {
      "cell_type": "code",
      "source": [
        "!awk -f list_export_to_yaml.awk -v channels='anaconda,conda-forge,defaults,pytorch,intel,bioconda' requirements.txt > req.yaml"
      ],
      "metadata": {
        "id": "-pA23X-MMtAx"
      },
      "execution_count": 5,
      "outputs": []
    },
    {
      "cell_type": "code",
      "source": [
        "!/root/miniconda3/bin/conda config --add channels anaconda\n",
        "!/root/miniconda3/bin/conda config --add channels conda-forge\n",
        "!/root/miniconda3/bin/conda config --add channels defaults\n",
        "!/root/miniconda3/bin/conda config --add channels pytorch\n",
        "!/root/miniconda3/bin/conda config --add channels intel\n",
        "!/root/miniconda3/bin/conda config --add channels bioconda\n",
        "\n",
        "!/root/miniconda3/bin/conda config --show channels"
      ],
      "metadata": {
        "colab": {
          "base_uri": "https://localhost:8080/"
        },
        "id": "NuDayAGrNFzE",
        "outputId": "228b7f30-d2a3-4d31-891a-84e30a406389"
      },
      "execution_count": 6,
      "outputs": [
        {
          "output_type": "stream",
          "name": "stdout",
          "text": [
            "Warning: 'defaults' already in 'channels' list, moving to the top\n",
            "channels:\n",
            "  - bioconda\n",
            "  - intel\n",
            "  - pytorch\n",
            "  - defaults\n",
            "  - conda-forge\n",
            "  - anaconda\n"
          ]
        }
      ]
    },
    {
      "cell_type": "code",
      "source": [
        "!/root/miniconda3/bin/conda env create --name venv --file req.yaml   # takes A LOT OF TIME"
      ],
      "metadata": {
        "id": "5BlJaGDlxW9A"
      },
      "execution_count": null,
      "outputs": []
    },
    {
      "cell_type": "code",
      "source": [
        "!/root/miniconda3/bin/activate venv"
      ],
      "metadata": {
        "id": "mPVx-iYlPzKl"
      },
      "execution_count": 8,
      "outputs": []
    },
    {
      "cell_type": "markdown",
      "source": [
        "# running make_single_img_dataset.py script"
      ],
      "metadata": {
        "id": "kVWZr0rjVDAB"
      }
    },
    {
      "cell_type": "code",
      "source": [
        "# pass your --imgpath below\n",
        "!/root/miniconda3/envs/venv/bin/python make_single_img_dataset.py --imgpath ameyoko.jpg --targetpath ./train_set --threads 1"
      ],
      "metadata": {
        "colab": {
          "base_uri": "https://localhost:8080/"
        },
        "id": "Un9KfXVqw_70",
        "outputId": "b9f8eb39-1a51-44d7-8d61-cc3cbbc5d70b"
      },
      "execution_count": 9,
      "outputs": [
        {
          "output_type": "stream",
          "name": "stdout",
          "text": [
            "Namespace(img_size=32, batch_size=32, num_imgs=50000, threads=1, vflip=False, deg=30, shear=30, cropfirst=True, initcrop=0.5, scale=[500, 1], randinterp=False, debug=False, imgpath='ameyoko.jpg', targetpath='./train_set', img_per_thread=50000)\n",
            "will save 50000 patches in ./train_set32_singleameyoko_init0.5_deg30_scale500_1_shear30_randinterp_False_vflipFalse_cropfirstTrue_new_50000/train/dummy\n",
            "/root/miniconda3/envs/venv/lib/python3.9/site-packages/torchvision/transforms/transforms.py:852: UserWarning: Argument interpolation should be of type InterpolationMode instead of int. Please, use InterpolationMode enum.\n",
            "  warnings.warn(\n",
            "/root/miniconda3/envs/venv/lib/python3.9/site-packages/torchvision/transforms/transforms.py:1361: UserWarning: Argument resample is deprecated and will be removed since v0.10.0. Please, use interpolation instead\n",
            "  warnings.warn(\n",
            "/root/miniconda3/envs/venv/lib/python3.9/site-packages/torchvision/transforms/transforms.py:1375: UserWarning: Argument fillcolor is deprecated and will be removed since v0.10.0. Please, use fill instead\n",
            "  warnings.warn(\n",
            "transforms: [RandomCrop(size=(960, 960), padding=None), MyRandomResizedCrop(size=(45, 45), scale=(0.002, 1.0), ratio=(0.75, 1.3333), interpolation=bicubic), RandomAffine(degrees=[-30.0, 30.0], shear=[-30.0, 30.0], interpolation=bilinear), CenterCrop(size=(32, 32)), RandomApply(\n",
            "    p=0.5\n",
            "    ColorJitter(brightness=[0.6, 1.4], contrast=[0.6, 1.4], saturation=[0.6, 1.4], hue=[-0.1, 0.1])\n",
            "), ToTensor()]\n",
            "50016images per thread\n",
            "50000 took 5.82min with 1 threads\n"
          ]
        }
      ]
    },
    {
      "cell_type": "code",
      "source": [
        "# path below also depends on your imgpath\n",
        "!ls train_set32_singleameyoko_init0.5_deg30_scale500_1_shear30_randinterp_False_vflipFalse_cropfirstTrue_new_50000/train/dummy | wc -l"
      ],
      "metadata": {
        "colab": {
          "base_uri": "https://localhost:8080/"
        },
        "id": "V8Av6uGhTi5g",
        "outputId": "b4c2818c-86c0-4e94-9960-9fbaa6707714"
      },
      "execution_count": 13,
      "outputs": [
        {
          "output_type": "stream",
          "name": "stdout",
          "text": [
            "49984\n"
          ]
        }
      ]
    },
    {
      "cell_type": "markdown",
      "source": [
        "# dataset archivation"
      ],
      "metadata": {
        "id": "_f7do4vYUg8d"
      }
    },
    {
      "cell_type": "code",
      "source": [
        "# path below also depends on your imgpath\n",
        "!mv train_set32_singleameyoko_init0.5_deg30_scale500_1_shear30_randinterp_False_vflipFalse_cropfirstTrue_new_50000/train/dummy single_image_dataset"
      ],
      "metadata": {
        "id": "zOOE-YuZdbh-"
      },
      "execution_count": 14,
      "outputs": []
    },
    {
      "cell_type": "code",
      "source": [
        "!zip -r single_image_dataset.zip single_image_dataset"
      ],
      "metadata": {
        "id": "wM-yxti9djyX"
      },
      "execution_count": null,
      "outputs": []
    }
  ]
}