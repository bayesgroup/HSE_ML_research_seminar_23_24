{
  "cells": [
    {
      "cell_type": "code",
      "execution_count": null,
      "metadata": {
        "id": "lwCUj-p6RhFD",
        "outputId": "e15271e0-9c3d-4206-8f8d-5716c3276488"
      },
      "outputs": [
        {
          "data": {
            "text/plain": [
              "[PosixPath('data/amex/READY'),\n",
              " PosixPath('data/amex/X_num_test.npy'),\n",
              " PosixPath('data/amex/X_num_train.npy'),\n",
              " PosixPath('data/amex/X_num_val.npy'),\n",
              " PosixPath('data/amex/Y_test.npy'),\n",
              " PosixPath('data/amex/Y_train.npy'),\n",
              " PosixPath('data/amex/Y_val.npy'),\n",
              " PosixPath('data/amex/info.json')]"
            ]
          },
          "execution_count": 1,
          "metadata": {},
          "output_type": "execute_result"
        }
      ],
      "source": [
        "import numpy as np\n",
        "import pandas as pd\n",
        "import matplotlib.pyplot as plt\n",
        "import seaborn as sns\n",
        "from pathlib import Path\n",
        "\n",
        "sns.set_style('whitegrid')\n",
        "\n",
        "# dataset from https://www.kaggle.com/competitions/amex-default-prediction/data\n",
        "california = Path('data/amex/')\n",
        "assert california.exists()\n",
        "sorted(california.iterdir())"
      ]
    },
    {
      "cell_type": "code",
      "execution_count": null,
      "metadata": {
        "id": "9MP4RbE_RhFF",
        "outputId": "3dd513c0-b03b-4038-8014-fba8f0b30fd8"
      },
      "outputs": [
        {
          "name": "stdout",
          "output_type": "stream",
          "text": [
            "X_num_train.npy (32000, 78) float32\n",
            "X_num_val.npy (8000, 78) float32\n",
            "X_num_test.npy (10000, 78) float32\n",
            "Y_train.npy (32000,) int64\n",
            "Y_val.npy (8000,) int64\n",
            "Y_test.npy (10000,) int64\n"
          ]
        }
      ],
      "source": [
        "for name in ['X_num_train.npy', 'X_num_val.npy', 'X_num_test.npy', 'Y_train.npy', 'Y_val.npy', 'Y_test.npy']:\n",
        "    tmp = np.load(california / name)\n",
        "    assert np.isnan(tmp).sum() == 0\n",
        "    print(name, tmp.shape, tmp.dtype)"
      ]
    },
    {
      "cell_type": "code",
      "execution_count": null,
      "metadata": {
        "id": "RHzwuFfeRhFF"
      },
      "outputs": [],
      "source": [
        "X_path = Path('../train_data.csv')\n",
        "y_path = Path('../train_labels.csv')\n",
        "assert X_path.exists() and y_path.exists()"
      ]
    },
    {
      "cell_type": "code",
      "execution_count": null,
      "metadata": {
        "id": "W7qEzetdRhFF"
      },
      "outputs": [],
      "source": [
        "y = pd.read_csv(y_path)"
      ]
    },
    {
      "cell_type": "code",
      "execution_count": null,
      "metadata": {
        "id": "DRs5xP2MRhFF"
      },
      "outputs": [],
      "source": [
        "import csv\n",
        "from tqdm.notebook import tqdm\n",
        "\n",
        "\n",
        "clean_data_path = Path('../train_clean_data.csv')\n",
        "\n",
        "if not clean_data_path.exists():\n",
        "    X_clean = []\n",
        "    with open(X_path, 'r') as csv_file:\n",
        "        iterator = iter(csv.reader(csv_file))\n",
        "        header = next(iterator)\n",
        "        print(header)\n",
        "        i = 0\n",
        "        for row in tqdm(iterator, total=len(y) * 13):\n",
        "            id = row[0]\n",
        "            if X_clean and row[0] == X_clean[-1][0]:\n",
        "                X_clean[-1] = row\n",
        "            else:\n",
        "                X_clean.append(row)\n",
        "    for i, row in tqdm(enumerate(X_clean), total=len(X_clean)):\n",
        "        X_clean[i] = [row[0], row[1]] + [(float(x) if x != '' else None) for x in row[2:53] + row[55:]]\n",
        "    X_clean = pd.DataFrame(X_clean, columns=header[:53] + header[55:])\n",
        "    assert (X_clean['customer_ID'] == y['customer_ID']).all()\n",
        "    X_clean.to_csv(clean_data_path, index=False)\n",
        "else:\n",
        "    X_clean = pd.read_csv(clean_data_path)"
      ]
    },
    {
      "cell_type": "code",
      "execution_count": null,
      "metadata": {
        "id": "QS8-qqeVRhFF"
      },
      "outputs": [],
      "source": [
        "DATASET_SIZE = 50000\n",
        "current_size = len(X_clean)\n",
        "ind = np.random.choice(range(current_size), replace=False, size=DATASET_SIZE)"
      ]
    },
    {
      "cell_type": "code",
      "execution_count": null,
      "metadata": {
        "id": "ytfjYz9iRhFG"
      },
      "outputs": [],
      "source": [
        "y_clean = y.loc[ind, 'target']"
      ]
    },
    {
      "cell_type": "code",
      "execution_count": null,
      "metadata": {
        "id": "teiZLv8iRhFG",
        "outputId": "2053c430-25e9-412e-9633-897c918e85fa"
      },
      "outputs": [
        {
          "data": {
            "image/png": "[encoded data removed]",
            "text/plain": [
              "<Figure size 640x480 with 1 Axes>"
            ]
          },
          "metadata": {},
          "output_type": "display_data"
        }
      ],
      "source": [
        "nan_ratios = X_clean.isna().sum() / len(X_clean) * 100\n",
        "plt.plot(nan_ratios.sort_values().values)\n",
        "plt.xlabel('Feature number')\n",
        "plt.ylabel('NaN, %')\n",
        "plt.title('NaN ratios for different features')\n",
        "plt.show()"
      ]
    },
    {
      "cell_type": "code",
      "execution_count": null,
      "metadata": {
        "id": "YsW8PXFzRhFG",
        "outputId": "bf7e1b63-18ed-4761-f96c-096cb71ed2bc"
      },
      "outputs": [
        {
          "name": "stdout",
          "output_type": "stream",
          "text": [
            "['customer_ID', 'S_2', 'D_39', 'B_1', 'R_1', 'B_4', 'B_5', 'R_2', 'D_47', 'B_7', 'D_51', 'B_9', 'R_3', 'B_10', 'S_5', 'B_11', 'S_6', 'R_4', 'B_12', 'S_8', 'R_5', 'D_58', 'B_14', 'D_60', 'S_11', 'D_65', 'B_18', 'S_12', 'R_6', 'S_13', 'B_21', 'D_71', 'S_15', 'B_23', 'P_4', 'D_75', 'B_24', 'R_7', 'R_8', 'S_16', 'R_10', 'R_11', 'S_17', 'R_12', 'B_28', 'R_13', 'R_14', 'R_15', 'R_16', 'S_18', 'D_86', 'R_17', 'R_18', 'B_31', 'S_19', 'R_19', 'B_32', 'S_20', 'R_20', 'R_21', 'R_22', 'R_23', 'D_92', 'D_93', 'D_94', 'R_24', 'R_25', 'D_96', 'S_26', 'D_102', 'B_36', 'B_37', 'B_40', 'D_126', 'D_127', 'B_41', 'D_133', 'R_28', 'D_140', 'D_144']\n"
          ]
        },
        {
          "data": {
            "text/plain": [
              "(80, 42.5531914893617)"
            ]
          },
          "execution_count": 9,
          "metadata": {},
          "output_type": "execute_result"
        }
      ],
      "source": [
        "take_columns = X_clean.columns[(nan_ratios == 0)]\n",
        "print(list(take_columns))\n",
        "len(take_columns), len(take_columns) / len(X_clean.columns) * 100"
      ]
    },
    {
      "cell_type": "code",
      "execution_count": null,
      "metadata": {
        "id": "fE5srVctRhFG"
      },
      "outputs": [],
      "source": [
        "from sklearn.model_selection import train_test_split\n",
        "\n",
        "\n",
        "# Test = 20%\n",
        "# Validation = 16%\n",
        "X_train, X_val, y_train, y_val = train_test_split(X_clean.loc[ind, take_columns].astype(np.float32), y_clean, test_size=0.36, random_state=1, shuffle=True)\n",
        "X_val, X_test, y_val, y_test = train_test_split(X_val, y_val, test_size=20 / (20 + 16), random_state=1, shuffle=True)"
      ]
    },
    {
      "cell_type": "code",
      "execution_count": null,
      "metadata": {
        "id": "qjH_GueXRhFH"
      },
      "outputs": [],
      "source": [
        "dataset_path = Path('data/amex/')\n",
        "\n",
        "np.save(dataset_path / 'X_num_train.npy', X_train.values)\n",
        "np.save(dataset_path / 'X_num_val.npy', X_val.values)\n",
        "np.save(dataset_path / 'X_num_test.npy', X_test.values)\n",
        "np.save(dataset_path / 'Y_train.npy', y_train.values)\n",
        "np.save(dataset_path / 'Y_val.npy', y_val.values)\n",
        "np.save(dataset_path / 'Y_test.npy', y_test.values)"
      ]
    },
    {
      "cell_type": "code",
      "execution_count": null,
      "metadata": {
        "id": "pzr7WomFRhFH"
      },
      "outputs": [],
      "source": []
    }
  ],
  "metadata": {
    "kernelspec": {
      "display_name": "Python 3",
      "language": "python",
      "name": "python3"
    },
    "language_info": {
      "codemirror_mode": {
        "name": "ipython",
        "version": 3
      },
      "file_extension": ".py",
      "mimetype": "text/x-python",
      "name": "python",
      "nbconvert_exporter": "python",
      "pygments_lexer": "ipython3",
      "version": "3.10.13"
    },
    "colab": {
      "provenance": []
    }
  },
  "nbformat": 4,
  "nbformat_minor": 0
}