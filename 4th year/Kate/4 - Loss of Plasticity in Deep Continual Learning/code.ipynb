{
 "cells": [
  {
   "cell_type": "code",
   "execution_count": 1,
   "id": "357541ad",
   "metadata": {
    "_cell_guid": "b1076dfc-b9ad-4769-8c92-a6c4dae69d19",
    "_uuid": "8f2839f25d086af736a60e9eeb907d3b93b6e0e5",
    "execution": {
     "iopub.execute_input": "2023-10-03T16:44:26.077268Z",
     "iopub.status.busy": "2023-10-03T16:44:26.076949Z",
     "iopub.status.idle": "2023-10-03T16:46:22.129109Z",
     "shell.execute_reply": "2023-10-03T16:46:22.128059Z"
    },
    "papermill": {
     "duration": 116.062179,
     "end_time": "2023-10-03T16:46:22.131414",
     "exception": false,
     "start_time": "2023-10-03T16:44:26.069235",
     "status": "completed"
    },
    "tags": []
   },
   "outputs": [
    {
     "name": "stdout",
     "output_type": "stream",
     "text": [
      "Retrieving notices: ...working... done\r\n",
      "Collecting package metadata (current_repodata.json): \\ \b\b| \b\b/ \b\b- \b\b\\ \b\b| \b\b/ \b\b- \b\b\\ \b\b| \b\b/ \b\b- \b\b\\ \b\b| \b\b/ \b\b- \b\b\\ \b\b| \b\b/ \b\b- \b\b\\ \b\b| \b\b/ \b\b- \b\b\\ \b\b| \b\b/ \b\b- \b\b\\ \b\b| \b\b/ \b\b- \b\b\\ \b\b| \b\b/ \b\b- \b\b\\ \b\b| \b\b/ \b\b- \b\b\\ \b\b| \b\b/ \b\b- \b\b\\ \b\b| \b\b/ \b\b- \b\b\\ \b\b| \b\b/ \b\b- \b\b\\ \b\b| \b\b/ \b\b- \b\b\\ \b\b| \b\b/ \b\b- \b\b\\ \b\b| \b\b/ \b\b- \b\b\\ \b\b| \b\b/ \b\b- \b\b\\ \b\b| \b\b/ \b\b- \b\b\\ \b\b| \b\b/ \b\b- \b\b\\ \b\b| \b\b/ \b\b- \b\b\\ \b\b| \b\b/ \b\b- \b\b\\ \b\b| \b\b/ \b\b- \b\b\\ \b\b| \b\b/ \b\b- \b\b\\ \b\b| \b\b/ \b\b- \b\b\\ \b\b| \b\b/ \b\b- \b\b\\ \b\b| \b\b/ \b\b- \b\b\\ \b\b| \b\b/ \b\b- \b\b\\ \b\b| \b\b/ \b\b- \b\b\\ \b\b| \b\b/ \b\b- \b\b\\ \b\b| \b\b/ \b\b- \b\b\\ \b\b| \b\b/ \b\b- \b\b\\ \b\b| \b\b/ \b\b- \b\b\\ \b\b| \b\b/ \b\b- \b\b\\ \b\b| \b\b/ \b\b- \b\b\\ \b\b| \b\b/ \b\b- \b\b\\ \b\b| \b\b/ \b\b- \b\b\\ \b\b| \b\b/ \b\b- \b\b\\ \b\b| \b\b/ \b\b- \b\b\\ \b\b| \b\b/ \b\b- \b\b\\ \b\b| \b\b/ \b\b- \b\b\\ \b\b| \b\b/ \b\b- \b\b\\ \b\b| \b\b/ \b\b- \b\b\\ \b\b| \b\b/ \b\b- \b\b\\ \b\b| \b\b/ \b\b- \b\b\\ \b\b| \b\b/ \b\b- \b\b\\ \b\b| \b\b/ \b\b- \b\b\\ \b\b| \b\b/ \b\b- \b\b\\ \b\b| \b\b/ \b\b- \b\b\\ \b\b| \b\b/ \b\b- \b\b\\ \b\b| \b\b/ \b\b- \b\b\\ \b\b| \b\b/ \b\b- \b\b\\ \b\b| \b\b/ \b\b- \b\b\\ \b\b| \b\b/ \b\b- \b\b\\ \b\b| \b\b/ \b\b- \b\b\\ \b\b| \b\b/ \b\b- \b\b\\ \b\b| \b\b/ \b\b- \b\b\\ \b\b| \b\b/ \b\b- \b\b\\ \b\b| \b\b/ \b\b- \b\b\\ \b\b| \b\b/ \b\b- \b\b\\ \b\b| \b\b/ \b\b- \b\b\\ \b\b| \b\b/ \b\b- \b\b\\ \b\b| \b\b/ \b\b- \b\b\\ \b\b| \b\b/ \b\b- \b\b\\ \b\b| \b\b/ \b\b- \b\b\\ \b\bdone\r\n",
      "Solving environment: / \b\b- \b\b\\ \b\b| \b\b/ \b\b- \b\b\\ \b\b| \b\b/ \b\b- \b\b\\ \b\b| \b\b/ \b\b- \b\b\\ \b\b| \b\b/ \b\b- \b\b\\ \b\b| \b\b/ \b\b- \b\b\\ \b\b| \b\b/ \b\b- \b\b\\ \b\b| \b\b/ \b\b- \b\b\\ \b\b| \b\b/ \b\b- \b\b\\ \b\b| \b\b/ \b\b- \b\b\\ \b\b| \b\b/ \b\b- \b\b\\ \b\b| \b\b/ \b\b- \b\b\\ \b\b| \b\b/ \b\b- \b\b\\ \b\b| \b\b/ \b\b- \b\b\\ \b\b| \b\b/ \b\b- \b\b\\ \b\b| \b\b/ \b\b- \b\b\\ \b\b| \b\b/ \b\b- \b\b\\ \b\b| \b\b/ \b\b- \b\b\\ \b\b| \b\b/ \b\b- \b\b\\ \b\b| \b\b/ \b\b- \b\b\\ \b\b| \b\b/ \b\b- \b\b\\ \b\b| \b\b/ \b\b- \b\b\\ \b\b| \b\b/ \b\b- \b\b\\ \b\b| \b\b/ \b\b- \b\b\\ \b\b| \b\b/ \b\b- \b\b\\ \b\b| \b\b/ \b\b- \b\b\\ \b\b| \b\b/ \b\b- \b\b\\ \b\b| \b\b/ \b\b- \b\b\\ \b\b| \b\b/ \b\b- \b\b\\ \b\b| \b\b/ \b\b- \b\b\\ \b\b| \b\b/ \b\b- \b\b\\ \b\b| \b\b/ \b\b- \b\b\\ \b\b| \b\b/ \b\b- \b\b\\ \b\b| \b\b/ \b\b- \b\b\\ \b\b| \b\b/ \b\b- \b\b\\ \b\b| \b\b/ \b\b- \b\b\\ \b\b| \b\b/ \b\b- \b\b\\ \b\b| \b\b/ \b\b- \b\b\\ \b\b| \b\b/ \b\b- \b\b\\ \b\b| \b\b/ \b\b- \b\b\\ \b\b| \b\b/ \b\b- \b\b\\ \b\b| \b\b/ \b\b- \b\b\\ \b\b| \b\b/ \b\b- \b\b\\ \b\b| \b\b/ \b\b- \b\b\\ \b\b| \b\b/ \b\b- \b\b\\ \b\b| \b\b/ \b\b- \b\b\\ \b\b| \b\b/ \b\b- \b\b\\ \b\b| \b\b/ \b\b- \b\b\\ \b\b| \b\b/ \b\b- \b\b\\ \b\b| \b\b/ \b\b- \b\b\\ \b\b| \b\b/ \b\b- \b\b\\ \b\b| \b\b/ \b\b- \b\b\\ \b\b| \b\b/ \b\b- \b\b\\ \b\b| \b\b/ \b\b- \b\b\\ \b\b| \b\b/ \b\b- \b\b\\ \b\b| \b\b/ \b\b- \b\b\\ \b\b| \b\b/ \b\b- \b\b\\ \b\b| \b\b/ \b\b- \b\b\\ \b\b| \b\b/ \b\b- \b\b\\ \b\b| \b\b/ \b\b- \b\b\\ \b\b| \b\b/ \b\b- \b\b\\ \b\b| \b\b/ \b\b- \b\b\\ \b\b| \b\b/ \b\b- \b\b\\ \b\b| \b\b/ \b\b- \b\b\\ \b\b| \b\b/ \b\b- \b\b\\ \b\b| \b\b/ \b\b- \b\b\\ \b\b| \b\b/ \b\b- \b\b\\ \b\b| \b\b/ \b\b- \b\b\\ \b\b| \b\b/ \b\b- \b\b\\ \b\b| \b\b/ \b\b- \b\b\\ \b\b| \b\b/ \b\b- \b\b\\ \b\b| \b\b/ \b\b- \b\b\\ \b\b| \b\b/ \b\b- \b\b\\ \b\b| \b\b/ \b\b- \b\b\\ \b\b| \b\b/ \b\b- \b\b\\ \b\b| \b\b/ \b\b- \b\b\\ \b\b| \b\b/ \b\b- \b\b\\ \b\b| \b\b/ \b\b- \b\b\\ \b\b| \b\b/ \b\b- \b\b\\ \b\b| \b\b/ \b\b- \b\b\\ \b\b| \b\b/ \b\b- \b\b\\ \b\b| \b\b/ \b\b- \b\b\\ \b\b| \b\b/ \b\b- \b\b\\ \b\b| \b\b/ \b\b- \b\b\\ \b\b| \b\b/ \b\b- \b\b\\ \b\b| \b\b/ \b\b- \b\b\\ \b\b| \b\b/ \b\b- \b\b\\ \b\b| \b\b/ \b\b- \b\b\\ \b\b| \b\b/ \b\b- \b\b\\ \b\b| \b\b/ \b\b- \b\b\\ \b\b| \b\b/ \b\b- \b\b\\ \b\b| \b\b/ \b\b- \b\b\\ \b\b| \b\b/ \b\b- \b\b\\ \b\b| \b\b/ \b\b- \b\b\\ \b\b| \b\b/ \b\b- \b\b\\ \b\b| \b\b/ \b\b- \b\b\\ \b\b| \b\b/ \b\b- \b\b\\ \b\b| \b\b/ \b\b- \b\b\\ \b\b| \b\b/ \b\b- \b\b\\ \b\b| \b\b/ \b\bdone\r\n",
      "\r\n",
      "## Package Plan ##\r\n",
      "\r\n",
      "  environment location: /opt/conda\r\n",
      "\r\n",
      "  added / updated specs:\r\n",
      "    - gdown\r\n",
      "\r\n",
      "\r\n",
      "The following packages will be downloaded:\r\n",
      "\r\n",
      "    package                    |            build\r\n",
      "    ---------------------------|-----------------\r\n",
      "    conda-23.7.4               |  py310hff52083_0        1006 KB  conda-forge\r\n",
      "    filelock-3.12.4            |     pyhd8ed1ab_0          15 KB  conda-forge\r\n",
      "    gdown-4.7.1                |     pyhd8ed1ab_0          19 KB  conda-forge\r\n",
      "    openssl-3.1.3              |       hd590300_0         2.5 MB  conda-forge\r\n",
      "    ------------------------------------------------------------\r\n",
      "                                           Total:         3.5 MB\r\n",
      "\r\n",
      "The following NEW packages will be INSTALLED:\r\n",
      "\r\n",
      "  filelock           conda-forge/noarch::filelock-3.12.4-pyhd8ed1ab_0 \r\n",
      "  gdown              conda-forge/noarch::gdown-4.7.1-pyhd8ed1ab_0 \r\n",
      "\r\n",
      "The following packages will be UPDATED:\r\n",
      "\r\n",
      "  conda                              23.7.3-py310hff52083_0 --> 23.7.4-py310hff52083_0 \r\n",
      "  openssl                                  3.1.2-hd590300_0 --> 3.1.3-hd590300_0 \r\n",
      "\r\n",
      "\r\n",
      "\r\n",
      "Downloading and Extracting Packages\r\n",
      "conda-23.7.4         | 1006 KB   |                                       |   0% \r\n",
      "filelock-3.12.4      | 15 KB     |                                       |   0% \u001b[A\r\n",
      "\r\n",
      "openssl-3.1.3        | 2.5 MB    |                                       |   0% \u001b[A\u001b[A\r\n",
      "\r\n",
      "\r\n",
      "conda-23.7.4         | 1006 KB   | #######6                              |  21% \r\n",
      "\r\n",
      "openssl-3.1.3        | 2.5 MB    | ###############1                      |  41% \u001b[A\u001b[A\r\n",
      "\r\n",
      "\r\n",
      "gdown-4.7.1          | 19 KB     | ##################################### | 100% \u001b[A\u001b[A\u001b[A\r\n",
      "filelock-3.12.4      | 15 KB     | ##################################### | 100% \u001b[A\r\n",
      "filelock-3.12.4      | 15 KB     | ##################################### | 100% \u001b[A\r\n",
      "\r\n",
      "\r\n",
      "gdown-4.7.1          | 19 KB     | ##################################### | 100% \u001b[A\u001b[A\u001b[A\r\n",
      "\r\n",
      "openssl-3.1.3        | 2.5 MB    | ##################################### | 100% \u001b[A\u001b[A\r\n",
      "\r\n",
      "\r\n",
      "                                                                                \u001b[A\r\n",
      "\r\n",
      "                                                                                \u001b[A\u001b[A\r\n",
      "\r\n",
      "\r\n",
      "\r\n",
      "Preparing transaction: \\ \b\bdone\r\n",
      "Verifying transaction: / \b\b- \b\bdone\r\n",
      "Executing transaction: | \b\b/ \b\b- \b\b\\ \b\b| \b\b/ \b\b- \b\b\\ \b\b| \b\b/ \b\b- \b\b\\ \b\b| \b\b/ \b\b- \b\b\\ \b\b| \b\b/ \b\b- \b\b\\ \b\b| \b\b/ \b\b- \b\b\\ \b\b| \b\b/ \b\b- \b\b\\ \b\b| \b\b/ \b\b- \b\b\\ \b\b| \b\b/ \b\b- \b\b\\ \b\b| \b\b/ \b\b- \b\b\\ \b\b| \b\b/ \b\b- \b\b\\ \b\b| \b\bdone\r\n"
     ]
    }
   ],
   "source": [
    "!conda install -y gdown"
   ]
  },
  {
   "cell_type": "code",
   "execution_count": 2,
   "id": "5e3eb4af",
   "metadata": {
    "execution": {
     "iopub.execute_input": "2023-10-03T16:46:22.201117Z",
     "iopub.status.busy": "2023-10-03T16:46:22.200795Z",
     "iopub.status.idle": "2023-10-03T16:46:26.119865Z",
     "shell.execute_reply": "2023-10-03T16:46:26.118608Z"
    },
    "papermill": {
     "duration": 3.955765,
     "end_time": "2023-10-03T16:46:26.121892",
     "exception": false,
     "start_time": "2023-10-03T16:46:22.166127",
     "status": "completed"
    },
    "tags": []
   },
   "outputs": [
    {
     "name": "stdout",
     "output_type": "stream",
     "text": [
      "Downloading...\r\n",
      "From: https://github.com/shibhansh/loss-of-plasticity/archive/refs/heads/main.zip\r\n",
      "To: /kaggle/working/main.zip\r\n",
      "11.0MB [00:01, 5.85MB/s]\r\n"
     ]
    }
   ],
   "source": [
    "!gdown https://github.com/shibhansh/loss-of-plasticity/archive/refs/heads/main.zip"
   ]
  },
  {
   "cell_type": "code",
   "execution_count": 3,
   "id": "70d21d68",
   "metadata": {
    "execution": {
     "iopub.execute_input": "2023-10-03T16:46:26.237413Z",
     "iopub.status.busy": "2023-10-03T16:46:26.237069Z",
     "iopub.status.idle": "2023-10-03T16:46:30.655954Z",
     "shell.execute_reply": "2023-10-03T16:46:30.654666Z"
    },
    "papermill": {
     "duration": 4.455848,
     "end_time": "2023-10-03T16:46:30.658034",
     "exception": false,
     "start_time": "2023-10-03T16:46:26.202186",
     "status": "completed"
    },
    "scrolled": true,
    "tags": []
   },
   "outputs": [
    {
     "name": "stdout",
     "output_type": "stream",
     "text": [
      "Archive:  /kaggle/working/main.zip\r\n",
      "646307016f9ea083cc7e88ee623d014ab04a9fca\r\n",
      "   creating: /kaggle/working/loss-of-plasticity-main/\r\n",
      "  inflating: /kaggle/working/loss-of-plasticity-main/.gitignore  \r\n",
      "  inflating: /kaggle/working/loss-of-plasticity-main/README.md  \r\n",
      "   creating: /kaggle/working/loss-of-plasticity-main/lop/\r\n",
      "   creating: /kaggle/working/loss-of-plasticity-main/lop/algos/\r\n",
      "  inflating: /kaggle/working/loss-of-plasticity-main/lop/algos/bp.py  \r\n",
      "  inflating: /kaggle/working/loss-of-plasticity-main/lop/algos/cbp.py  \r\n",
      "  inflating: /kaggle/working/loss-of-plasticity-main/lop/algos/convCBP.py  \r\n",
      "  inflating: /kaggle/working/loss-of-plasticity-main/lop/algos/convGnT.py  \r\n",
      "  inflating: /kaggle/working/loss-of-plasticity-main/lop/algos/gnt.py  \r\n",
      "   creating: /kaggle/working/loss-of-plasticity-main/lop/imagenet/\r\n",
      "  inflating: /kaggle/working/loss-of-plasticity-main/lop/imagenet/README.md  \r\n",
      "  inflating: /kaggle/working/loss-of-plasticity-main/lop/imagenet/all_methods_imagenet.png  \r\n",
      "  inflating: /kaggle/working/loss-of-plasticity-main/lop/imagenet/all_plot.py  \r\n",
      "  inflating: /kaggle/working/loss-of-plasticity-main/lop/imagenet/bp_imagenet.png  \r\n",
      "  inflating: /kaggle/working/loss-of-plasticity-main/lop/imagenet/bp_plot.py  \r\n",
      "   creating: /kaggle/working/loss-of-plasticity-main/lop/imagenet/cfg/\r\n",
      "  inflating: /kaggle/working/loss-of-plasticity-main/lop/imagenet/cfg/bp.json  \r\n",
      "  inflating: /kaggle/working/loss-of-plasticity-main/lop/imagenet/cfg/cbp.json  \r\n",
      "  inflating: /kaggle/working/loss-of-plasticity-main/lop/imagenet/cfg/l2.json  \r\n",
      "  inflating: /kaggle/working/loss-of-plasticity-main/lop/imagenet/cfg/snp.json  \r\n",
      "  inflating: /kaggle/working/loss-of-plasticity-main/lop/imagenet/class_order  \r\n",
      "  inflating: /kaggle/working/loss-of-plasticity-main/lop/imagenet/multi_param_expr.py  \r\n",
      "  inflating: /kaggle/working/loss-of-plasticity-main/lop/imagenet/single_expr.py  \r\n",
      "   creating: /kaggle/working/loss-of-plasticity-main/lop/nets/\r\n",
      "  inflating: /kaggle/working/loss-of-plasticity-main/lop/nets/conv_net.py  \r\n",
      "  inflating: /kaggle/working/loss-of-plasticity-main/lop/nets/deep_ffnn.py  \r\n",
      "  inflating: /kaggle/working/loss-of-plasticity-main/lop/nets/ffnn.py  \r\n",
      "  inflating: /kaggle/working/loss-of-plasticity-main/lop/nets/fix_ltu_net.py  \r\n",
      "  inflating: /kaggle/working/loss-of-plasticity-main/lop/nets/linear.py  \r\n",
      "   creating: /kaggle/working/loss-of-plasticity-main/lop/permuted_mnist/\r\n",
      "  inflating: /kaggle/working/loss-of-plasticity-main/lop/permuted_mnist/README.md  \r\n",
      "   creating: /kaggle/working/loss-of-plasticity-main/lop/permuted_mnist/cfg/\r\n",
      "  inflating: /kaggle/working/loss-of-plasticity-main/lop/permuted_mnist/cfg/adam.json  \r\n",
      "   creating: /kaggle/working/loss-of-plasticity-main/lop/permuted_mnist/cfg/bp/\r\n",
      "  inflating: /kaggle/working/loss-of-plasticity-main/lop/permuted_mnist/cfg/bp/rate.json  \r\n",
      "  inflating: /kaggle/working/loss-of-plasticity-main/lop/permuted_mnist/cfg/bp/small_net.json  \r\n",
      "  inflating: /kaggle/working/loss-of-plasticity-main/lop/permuted_mnist/cfg/bp/std_net.json  \r\n",
      "  inflating: /kaggle/working/loss-of-plasticity-main/lop/permuted_mnist/cfg/bp/width.json  \r\n",
      "  inflating: /kaggle/working/loss-of-plasticity-main/lop/permuted_mnist/cfg/cbp.json  \r\n",
      "  inflating: /kaggle/working/loss-of-plasticity-main/lop/permuted_mnist/cfg/l2.json  \r\n",
      "  inflating: /kaggle/working/loss-of-plasticity-main/lop/permuted_mnist/cfg/snp.json  \r\n",
      "  inflating: /kaggle/working/loss-of-plasticity-main/lop/permuted_mnist/load_mnist.py  \r\n",
      "  inflating: /kaggle/working/loss-of-plasticity-main/lop/permuted_mnist/multi_param_expr.py  \r\n",
      "  inflating: /kaggle/working/loss-of-plasticity-main/lop/permuted_mnist/online_expr.py  \r\n",
      "   creating: /kaggle/working/loss-of-plasticity-main/lop/permuted_mnist/plots/\r\n",
      "  inflating: /kaggle/working/loss-of-plasticity-main/lop/permuted_mnist/plots/all_metrics.py  \r\n",
      "  inflating: /kaggle/working/loss-of-plasticity-main/lop/permuted_mnist/plots/bp_metrics.py  \r\n",
      "  inflating: /kaggle/working/loss-of-plasticity-main/lop/permuted_mnist/plots/mnist_accuracy.png  \r\n",
      "   creating: /kaggle/working/loss-of-plasticity-main/lop/slowly_changing_regression/\r\n",
      "  inflating: /kaggle/working/loss-of-plasticity-main/lop/slowly_changing_regression/README.md  \r\n",
      "   creating: /kaggle/working/loss-of-plasticity-main/lop/slowly_changing_regression/cfg/\r\n",
      "   creating: /kaggle/working/loss-of-plasticity-main/lop/slowly_changing_regression/cfg/adam/\r\n",
      "   creating: /kaggle/working/loss-of-plasticity-main/lop/slowly_changing_regression/cfg/adam/bp/\r\n",
      "  inflating: /kaggle/working/loss-of-plasticity-main/lop/slowly_changing_regression/cfg/adam/bp/5m.json  \r\n",
      "  inflating: /kaggle/working/loss-of-plasticity-main/lop/slowly_changing_regression/cfg/adam/bp/elu.json  \r\n",
      "  inflating: /kaggle/working/loss-of-plasticity-main/lop/slowly_changing_regression/cfg/adam/bp/elu_snp.json  \r\n",
      "  inflating: /kaggle/working/loss-of-plasticity-main/lop/slowly_changing_regression/cfg/adam/bp/elu_wd.json  \r\n",
      "  inflating: /kaggle/working/loss-of-plasticity-main/lop/slowly_changing_regression/cfg/adam/bp/leaky_relu.json  \r\n",
      "  inflating: /kaggle/working/loss-of-plasticity-main/lop/slowly_changing_regression/cfg/adam/bp/leaky_relu_snp.json  \r\n",
      "  inflating: /kaggle/working/loss-of-plasticity-main/lop/slowly_changing_regression/cfg/adam/bp/leaky_relu_wd.json  \r\n",
      "  inflating: /kaggle/working/loss-of-plasticity-main/lop/slowly_changing_regression/cfg/adam/bp/linear.json  \r\n",
      "  inflating: /kaggle/working/loss-of-plasticity-main/lop/slowly_changing_regression/cfg/adam/bp/linear_1.json  \r\n",
      "  inflating: /kaggle/working/loss-of-plasticity-main/lop/slowly_changing_regression/cfg/adam/bp/relu.json  \r\n",
      "  inflating: /kaggle/working/loss-of-plasticity-main/lop/slowly_changing_regression/cfg/adam/bp/relu_snp.json  \r\n",
      "  inflating: /kaggle/working/loss-of-plasticity-main/lop/slowly_changing_regression/cfg/adam/bp/relu_wd.json  \r\n",
      "  inflating: /kaggle/working/loss-of-plasticity-main/lop/slowly_changing_regression/cfg/adam/bp/sigmoid.json  \r\n",
      "  inflating: /kaggle/working/loss-of-plasticity-main/lop/slowly_changing_regression/cfg/adam/bp/sigmoid_snp.json  \r\n",
      "  inflating: /kaggle/working/loss-of-plasticity-main/lop/slowly_changing_regression/cfg/adam/bp/sigmoid_wd.json  \r\n",
      "  inflating: /kaggle/working/loss-of-plasticity-main/lop/slowly_changing_regression/cfg/adam/bp/swish.json  \r\n",
      "  inflating: /kaggle/working/loss-of-plasticity-main/lop/slowly_changing_regression/cfg/adam/bp/swish_snp.json  \r\n",
      "  inflating: /kaggle/working/loss-of-plasticity-main/lop/slowly_changing_regression/cfg/adam/bp/swish_wd.json  \r\n",
      "  inflating: /kaggle/working/loss-of-plasticity-main/lop/slowly_changing_regression/cfg/adam/bp/tanh.json  \r\n",
      "  inflating: /kaggle/working/loss-of-plasticity-main/lop/slowly_changing_regression/cfg/adam/bp/tanh_snp.json  \r\n",
      "  inflating: /kaggle/working/loss-of-plasticity-main/lop/slowly_changing_regression/cfg/adam/bp/tanh_wd.json  \r\n",
      "   creating: /kaggle/working/loss-of-plasticity-main/lop/slowly_changing_regression/cfg/flip_one/\r\n",
      "  inflating: /kaggle/working/loss-of-plasticity-main/lop/slowly_changing_regression/cfg/flip_one/elu.json  \r\n",
      "  inflating: /kaggle/working/loss-of-plasticity-main/lop/slowly_changing_regression/cfg/flip_one/leaky_relu.json  \r\n",
      "  inflating: /kaggle/working/loss-of-plasticity-main/lop/slowly_changing_regression/cfg/flip_one/linear.json  \r\n",
      "  inflating: /kaggle/working/loss-of-plasticity-main/lop/slowly_changing_regression/cfg/flip_one/relu.json  \r\n",
      "  inflating: /kaggle/working/loss-of-plasticity-main/lop/slowly_changing_regression/cfg/flip_one/sigmoid.json  \r\n",
      "  inflating: /kaggle/working/loss-of-plasticity-main/lop/slowly_changing_regression/cfg/flip_one/swish.json  \r\n",
      "  inflating: /kaggle/working/loss-of-plasticity-main/lop/slowly_changing_regression/cfg/flip_one/tanh.json  \r\n",
      "  inflating: /kaggle/working/loss-of-plasticity-main/lop/slowly_changing_regression/cfg/flip_one_prob.json  \r\n",
      "  inflating: /kaggle/working/loss-of-plasticity-main/lop/slowly_changing_regression/cfg/prob.json  \r\n",
      "   creating: /kaggle/working/loss-of-plasticity-main/lop/slowly_changing_regression/cfg/sgd/\r\n",
      "   creating: /kaggle/working/loss-of-plasticity-main/lop/slowly_changing_regression/cfg/sgd/bp/\r\n",
      "  inflating: /kaggle/working/loss-of-plasticity-main/lop/slowly_changing_regression/cfg/sgd/bp/5m.json  \r\n",
      "  inflating: /kaggle/working/loss-of-plasticity-main/lop/slowly_changing_regression/cfg/sgd/bp/elu.json  \r\n",
      "  inflating: /kaggle/working/loss-of-plasticity-main/lop/slowly_changing_regression/cfg/sgd/bp/elu_snp.json  \r\n",
      "  inflating: /kaggle/working/loss-of-plasticity-main/lop/slowly_changing_regression/cfg/sgd/bp/elu_wd.json  \r\n",
      "  inflating: /kaggle/working/loss-of-plasticity-main/lop/slowly_changing_regression/cfg/sgd/bp/leaky_relu.json  \r\n",
      "  inflating: /kaggle/working/loss-of-plasticity-main/lop/slowly_changing_regression/cfg/sgd/bp/leaky_relu_snp.json  \r\n",
      "  inflating: /kaggle/working/loss-of-plasticity-main/lop/slowly_changing_regression/cfg/sgd/bp/leaky_relu_wd.json  \r\n",
      "  inflating: /kaggle/working/loss-of-plasticity-main/lop/slowly_changing_regression/cfg/sgd/bp/linear.json  \r\n",
      "  inflating: /kaggle/working/loss-of-plasticity-main/lop/slowly_changing_regression/cfg/sgd/bp/linear_1.json  \r\n",
      "  inflating: /kaggle/working/loss-of-plasticity-main/lop/slowly_changing_regression/cfg/sgd/bp/relu.json  \r\n",
      "  inflating: /kaggle/working/loss-of-plasticity-main/lop/slowly_changing_regression/cfg/sgd/bp/relu_snp.json  \r\n",
      "  inflating: /kaggle/working/loss-of-plasticity-main/lop/slowly_changing_regression/cfg/sgd/bp/relu_wd.json  \r\n",
      "  inflating: /kaggle/working/loss-of-plasticity-main/lop/slowly_changing_regression/cfg/sgd/bp/sigmoid.json  \r\n",
      "  inflating: /kaggle/working/loss-of-plasticity-main/lop/slowly_changing_regression/cfg/sgd/bp/sigmoid_snp.json  \r\n",
      "  inflating: /kaggle/working/loss-of-plasticity-main/lop/slowly_changing_regression/cfg/sgd/bp/sigmoid_wd.json  \r\n",
      "  inflating: /kaggle/working/loss-of-plasticity-main/lop/slowly_changing_regression/cfg/sgd/bp/swish.json  \r\n",
      "  inflating: /kaggle/working/loss-of-plasticity-main/lop/slowly_changing_regression/cfg/sgd/bp/swish_snp.json  \r\n",
      "  inflating: /kaggle/working/loss-of-plasticity-main/lop/slowly_changing_regression/cfg/sgd/bp/swish_wd.json  \r\n",
      "  inflating: /kaggle/working/loss-of-plasticity-main/lop/slowly_changing_regression/cfg/sgd/bp/tanh.json  \r\n",
      "  inflating: /kaggle/working/loss-of-plasticity-main/lop/slowly_changing_regression/cfg/sgd/bp/tanh_snp.json  \r\n",
      "  inflating: /kaggle/working/loss-of-plasticity-main/lop/slowly_changing_regression/cfg/sgd/bp/tanh_wd.json  \r\n",
      "   creating: /kaggle/working/loss-of-plasticity-main/lop/slowly_changing_regression/cfg/sgd/cbp/\r\n",
      "  inflating: /kaggle/working/loss-of-plasticity-main/lop/slowly_changing_regression/cfg/sgd/cbp/relu.json  \r\n",
      "  inflating: /kaggle/working/loss-of-plasticity-main/lop/slowly_changing_regression/expr.py  \r\n",
      "  inflating: /kaggle/working/loss-of-plasticity-main/lop/slowly_changing_regression/multi_param_expr.py  \r\n",
      "   creating: /kaggle/working/loss-of-plasticity-main/lop/slowly_changing_regression/plots/\r\n",
      "  inflating: /kaggle/working/loss-of-plasticity-main/lop/slowly_changing_regression/plots/bp_bfp_error.png  \r\n",
      "  inflating: /kaggle/working/loss-of-plasticity-main/lop/slowly_changing_regression/plots/online_performance.py  \r\n",
      "  inflating: /kaggle/working/loss-of-plasticity-main/lop/slowly_changing_regression/slowly_changing_regression.py  \r\n",
      "   creating: /kaggle/working/loss-of-plasticity-main/lop/utils/\r\n",
      "  inflating: /kaggle/working/loss-of-plasticity-main/lop/utils/AdamGnT.py  \r\n",
      "  inflating: /kaggle/working/loss-of-plasticity-main/lop/utils/ltu.py  \r\n",
      "  inflating: /kaggle/working/loss-of-plasticity-main/lop/utils/miscellaneous.py  \r\n",
      "  inflating: /kaggle/working/loss-of-plasticity-main/lop/utils/plot_online_performance.py  \r\n",
      "  inflating: /kaggle/working/loss-of-plasticity-main/lop/utils/plot_param_sensetivity.py  \r\n",
      "  inflating: /kaggle/working/loss-of-plasticity-main/requirements.txt  \r\n",
      "  inflating: /kaggle/working/loss-of-plasticity-main/setup.py  \r\n"
     ]
    }
   ],
   "source": [
    "!echo \"A\" | unzip /kaggle/working/main.zip -d /kaggle/working/\n",
    "!mkdir /kaggle/working/lop\n",
    "!mkdir /kaggle/working/data/\n",
    "!mv /kaggle/working/loss-of-plasticity-main/* /kaggle/working/lop/"
   ]
  },
  {
   "cell_type": "code",
   "execution_count": 4,
   "id": "4155608e",
   "metadata": {
    "execution": {
     "iopub.execute_input": "2023-10-03T16:46:30.738746Z",
     "iopub.status.busy": "2023-10-03T16:46:30.738337Z",
     "iopub.status.idle": "2023-10-03T16:46:40.072900Z",
     "shell.execute_reply": "2023-10-03T16:46:40.071939Z"
    },
    "papermill": {
     "duration": 9.382225,
     "end_time": "2023-10-03T16:46:40.075244",
     "exception": false,
     "start_time": "2023-10-03T16:46:30.693019",
     "status": "completed"
    },
    "tags": []
   },
   "outputs": [
    {
     "name": "stderr",
     "output_type": "stream",
     "text": [
      "/opt/conda/lib/python3.10/site-packages/scipy/__init__.py:146: UserWarning: A NumPy version >=1.16.5 and <1.23.0 is required for this version of SciPy (detected version 1.23.5\n",
      "  warnings.warn(f\"A NumPy version >={np_minversion} and <{np_maxversion}\"\n"
     ]
    }
   ],
   "source": [
    "import sys\n",
    "import json\n",
    "import torch\n",
    "import pickle\n",
    "import argparse\n",
    "import numpy as np\n",
    "import matplotlib.pyplot as plt\n",
    "import keras.utils as image\n",
    "from tqdm import tqdm\n",
    "from torch.nn.functional import softmax\n",
    "from glob import glob\n",
    "from PIL import Image\n",
    "import matplotlib.pyplot as plt"
   ]
  },
  {
   "cell_type": "code",
   "execution_count": 5,
   "id": "bd75b6e9",
   "metadata": {
    "execution": {
     "iopub.execute_input": "2023-10-03T16:46:40.147241Z",
     "iopub.status.busy": "2023-10-03T16:46:40.146640Z",
     "iopub.status.idle": "2023-10-03T16:46:40.151207Z",
     "shell.execute_reply": "2023-10-03T16:46:40.150176Z"
    },
    "papermill": {
     "duration": 0.042825,
     "end_time": "2023-10-03T16:46:40.153074",
     "exception": false,
     "start_time": "2023-10-03T16:46:40.110249",
     "status": "completed"
    },
    "tags": []
   },
   "outputs": [],
   "source": [
    "sys.path.append('/kaggle/working/lop/')\n",
    "sys.path.append('/kaggle/input')"
   ]
  },
  {
   "cell_type": "code",
   "execution_count": 6,
   "id": "2d53b90f",
   "metadata": {
    "execution": {
     "iopub.execute_input": "2023-10-03T16:46:40.223392Z",
     "iopub.status.busy": "2023-10-03T16:46:40.223066Z",
     "iopub.status.idle": "2023-10-03T16:46:40.312360Z",
     "shell.execute_reply": "2023-10-03T16:46:40.311026Z"
    },
    "papermill": {
     "duration": 0.128231,
     "end_time": "2023-10-03T16:46:40.315887",
     "exception": false,
     "start_time": "2023-10-03T16:46:40.187656",
     "status": "completed"
    },
    "tags": []
   },
   "outputs": [],
   "source": [
    "from lop.algos.bp import Backprop\n",
    "from lop.nets.conv_net import ConvNet\n",
    "from lop.algos.convCBP import ConvCBP\n",
    "from lop.nets.linear import MyLinear\n",
    "from lop.utils.miscellaneous import nll_accuracy as accuracy"
   ]
  },
  {
   "cell_type": "code",
   "execution_count": 7,
   "id": "67e86854",
   "metadata": {
    "execution": {
     "iopub.execute_input": "2023-10-03T16:46:40.437604Z",
     "iopub.status.busy": "2023-10-03T16:46:40.437260Z",
     "iopub.status.idle": "2023-10-03T16:46:40.441654Z",
     "shell.execute_reply": "2023-10-03T16:46:40.440762Z"
    },
    "papermill": {
     "duration": 0.04251,
     "end_time": "2023-10-03T16:46:40.443420",
     "exception": false,
     "start_time": "2023-10-03T16:46:40.400910",
     "status": "completed"
    },
    "tags": []
   },
   "outputs": [],
   "source": [
    "import os\n",
    "import copy\n",
    "import subprocess\n",
    "import itertools"
   ]
  },
  {
   "cell_type": "code",
   "execution_count": 8,
   "id": "1924e7e2",
   "metadata": {
    "execution": {
     "iopub.execute_input": "2023-10-03T16:46:40.514023Z",
     "iopub.status.busy": "2023-10-03T16:46:40.513651Z",
     "iopub.status.idle": "2023-10-03T16:46:40.714456Z",
     "shell.execute_reply": "2023-10-03T16:46:40.713473Z"
    },
    "papermill": {
     "duration": 0.238788,
     "end_time": "2023-10-03T16:46:40.716840",
     "exception": false,
     "start_time": "2023-10-03T16:46:40.478052",
     "status": "completed"
    },
    "tags": []
   },
   "outputs": [],
   "source": [
    "import torch\n",
    "import pickle\n",
    "import torchvision\n",
    "import torchvision.transforms as transforms\n",
    "\n",
    "def mnist():\n",
    "    batch_size = 60000\n",
    "    transform = transforms.Compose(\n",
    "        [transforms.ToTensor()])\n",
    "\n",
    "    train_dataset = torchvision.datasets.MNIST(\n",
    "        root=\"data\", train=True, transform=transform, download=True\n",
    "    )\n",
    "    test_dataset = torchvision.datasets.MNIST(\n",
    "        root=\"data\", train=False, transform=transform\n",
    "    )\n",
    "    # Data loader\n",
    "    train_loader = torch.utils.data.DataLoader(\n",
    "        dataset=train_dataset, batch_size=batch_size, shuffle=True, generator=torch.Generator(device='cpu')\n",
    "\n",
    "    )\n",
    "    test_loader = torch.utils.data.DataLoader(\n",
    "        dataset=test_dataset, batch_size=batch_size, shuffle=False, generator=torch.Generator(device='cpu')\n",
    "    )\n",
    "\n",
    "    for i, (images, labels) in enumerate(train_loader):\n",
    "        images = images.flatten(start_dim=1)\n",
    "        labels = labels\n",
    "\n",
    "    x = images\n",
    "    y = labels\n",
    "\n",
    "    for i, (images_test, labels_test) in enumerate(test_loader):\n",
    "        images_test = images_test.flatten(start_dim=1)\n",
    "        labels_test = labels_test\n",
    "\n",
    "    x_test = images_test\n",
    "    y_test = labels_test\n",
    "\n",
    "    with open('data/mnist_', 'wb+') as f:\n",
    "        pickle.dump([x, y, x_test, y_test], f)\n",
    "\n",
    "    return x, y, x_test, y_test\n",
    "\n",
    "\n",
    "def get_mnist(type='reg'):\n",
    "    if type == 'reg':\n",
    "        data_file = 'data/mnist_'\n",
    "        with open(data_file, 'rb+') as f:\n",
    "            x, y, x_test, y_test = pickle.load(f)\n",
    "    return x, y, x_test, y_test\n"
   ]
  },
  {
   "cell_type": "code",
   "execution_count": 9,
   "id": "11831602",
   "metadata": {
    "execution": {
     "iopub.execute_input": "2023-10-03T16:46:40.787574Z",
     "iopub.status.busy": "2023-10-03T16:46:40.786819Z",
     "iopub.status.idle": "2023-10-03T16:46:54.578151Z",
     "shell.execute_reply": "2023-10-03T16:46:54.577213Z"
    },
    "papermill": {
     "duration": 13.828052,
     "end_time": "2023-10-03T16:46:54.580014",
     "exception": false,
     "start_time": "2023-10-03T16:46:40.751962",
     "status": "completed"
    },
    "tags": []
   },
   "outputs": [
    {
     "name": "stdout",
     "output_type": "stream",
     "text": [
      "Downloading http://yann.lecun.com/exdb/mnist/train-images-idx3-ubyte.gz\n",
      "Downloading http://yann.lecun.com/exdb/mnist/train-images-idx3-ubyte.gz to data/MNIST/raw/train-images-idx3-ubyte.gz\n"
     ]
    },
    {
     "name": "stderr",
     "output_type": "stream",
     "text": [
      "100%|██████████| 9912422/9912422 [00:00<00:00, 361144796.34it/s]\n"
     ]
    },
    {
     "name": "stdout",
     "output_type": "stream",
     "text": [
      "Extracting data/MNIST/raw/train-images-idx3-ubyte.gz to data/MNIST/raw\n",
      "\n",
      "Downloading http://yann.lecun.com/exdb/mnist/train-labels-idx1-ubyte.gz\n",
      "Downloading http://yann.lecun.com/exdb/mnist/train-labels-idx1-ubyte.gz to data/MNIST/raw/train-labels-idx1-ubyte.gz\n"
     ]
    },
    {
     "name": "stderr",
     "output_type": "stream",
     "text": [
      "100%|██████████| 28881/28881 [00:00<00:00, 49362548.42it/s]\n"
     ]
    },
    {
     "name": "stdout",
     "output_type": "stream",
     "text": [
      "Extracting data/MNIST/raw/train-labels-idx1-ubyte.gz to data/MNIST/raw\n",
      "\n",
      "Downloading http://yann.lecun.com/exdb/mnist/t10k-images-idx3-ubyte.gz\n",
      "Downloading http://yann.lecun.com/exdb/mnist/t10k-images-idx3-ubyte.gz to data/MNIST/raw/t10k-images-idx3-ubyte.gz\n"
     ]
    },
    {
     "name": "stderr",
     "output_type": "stream",
     "text": [
      "100%|██████████| 1648877/1648877 [00:00<00:00, 218063736.30it/s]\n"
     ]
    },
    {
     "name": "stdout",
     "output_type": "stream",
     "text": [
      "Extracting data/MNIST/raw/t10k-images-idx3-ubyte.gz to data/MNIST/raw\n",
      "\n",
      "Downloading http://yann.lecun.com/exdb/mnist/t10k-labels-idx1-ubyte.gz\n",
      "Downloading http://yann.lecun.com/exdb/mnist/t10k-labels-idx1-ubyte.gz to data/MNIST/raw/t10k-labels-idx1-ubyte.gz\n"
     ]
    },
    {
     "name": "stderr",
     "output_type": "stream",
     "text": [
      "100%|██████████| 4542/4542 [00:00<00:00, 20506489.52it/s]"
     ]
    },
    {
     "name": "stdout",
     "output_type": "stream",
     "text": [
      "Extracting data/MNIST/raw/t10k-labels-idx1-ubyte.gz to data/MNIST/raw\n",
      "\n"
     ]
    },
    {
     "name": "stderr",
     "output_type": "stream",
     "text": [
      "\n"
     ]
    },
    {
     "data": {
      "text/plain": [
       "(tensor([[0., 0., 0.,  ..., 0., 0., 0.],\n",
       "         [0., 0., 0.,  ..., 0., 0., 0.],\n",
       "         [0., 0., 0.,  ..., 0., 0., 0.],\n",
       "         ...,\n",
       "         [0., 0., 0.,  ..., 0., 0., 0.],\n",
       "         [0., 0., 0.,  ..., 0., 0., 0.],\n",
       "         [0., 0., 0.,  ..., 0., 0., 0.]]),\n",
       " tensor([8, 5, 4,  ..., 5, 2, 8]),\n",
       " tensor([[0., 0., 0.,  ..., 0., 0., 0.],\n",
       "         [0., 0., 0.,  ..., 0., 0., 0.],\n",
       "         [0., 0., 0.,  ..., 0., 0., 0.],\n",
       "         ...,\n",
       "         [0., 0., 0.,  ..., 0., 0., 0.],\n",
       "         [0., 0., 0.,  ..., 0., 0., 0.],\n",
       "         [0., 0., 0.,  ..., 0., 0., 0.]]),\n",
       " tensor([7, 2, 1,  ..., 4, 5, 6]))"
      ]
     },
     "execution_count": 9,
     "metadata": {},
     "output_type": "execute_result"
    }
   ],
   "source": [
    "mnist()"
   ]
  },
  {
   "cell_type": "code",
   "execution_count": 10,
   "id": "1a7101ba",
   "metadata": {
    "execution": {
     "iopub.execute_input": "2023-10-03T16:46:54.653208Z",
     "iopub.status.busy": "2023-10-03T16:46:54.652911Z",
     "iopub.status.idle": "2023-10-03T16:46:54.660971Z",
     "shell.execute_reply": "2023-10-03T16:46:54.660087Z"
    },
    "papermill": {
     "duration": 0.046131,
     "end_time": "2023-10-03T16:46:54.662658",
     "exception": false,
     "start_time": "2023-10-03T16:46:54.616527",
     "status": "completed"
    },
    "tags": []
   },
   "outputs": [],
   "source": [
    "from lop.utils.miscellaneous import get_configurations\n",
    "\n",
    "def gen_cfg(cfg_file):\n",
    "\n",
    "    with open(cfg_file, 'r') as f:\n",
    "        params = json.load(f)\n",
    "\n",
    "    list_params, hyper_param_settings = get_configurations(params=params)\n",
    "\n",
    "    # make a directory for temp cfg files\n",
    "    bash_command = \"mkdir -p temp_cfg/\"\n",
    "    subprocess.Popen(bash_command.split(), stdout=subprocess.PIPE)\n",
    "\n",
    "    bash_command = \"rm -r --force \" + params['data_dir']\n",
    "    subprocess.Popen(bash_command.split(), stdout=subprocess.PIPE)\n",
    "    bash_command = \"mkdir \" + params['data_dir']\n",
    "    subprocess.Popen(bash_command.split(), stdout=subprocess.PIPE)\n",
    "\n",
    "    \"\"\"\n",
    "        Set and write all the parameters for the individual config files\n",
    "    \"\"\"\n",
    "    for setting_index, param_setting in enumerate(hyper_param_settings):\n",
    "        new_params = copy.deepcopy(params)\n",
    "        for idx, param in enumerate(list_params):\n",
    "            new_params[param] = param_setting[idx]\n",
    "        new_params['index'] = setting_index\n",
    "        new_params['data_dir'] = params['data_dir'] + str(setting_index) + '/'\n",
    "\n",
    "        \"\"\"\n",
    "            Make the data directory\n",
    "        \"\"\"\n",
    "        bash_command = \"mkdir -p \" + new_params['data_dir']\n",
    "        subprocess.Popen(bash_command.split(), stdout=subprocess.PIPE)\n",
    "\n",
    "        for idx in tqdm(range(params['num_runs'])):\n",
    "            new_params['data_file'] = new_params['data_dir'] + str(idx)\n",
    "\n",
    "            \"\"\"\n",
    "                write data in config files\n",
    "            \"\"\"\n",
    "            new_cfg_file = 'temp_cfg/'+str(setting_index*params['num_runs']+idx)+'.json'\n",
    "            try:    f = open(new_cfg_file, 'w+')\n",
    "            except: f = open(new_cfg_file, 'w+')\n",
    "            with open(new_cfg_file, 'w+') as f:\n",
    "                json.dump(new_params, f, sort_keys=False, indent=4)"
   ]
  },
  {
   "cell_type": "code",
   "execution_count": 11,
   "id": "d38db255",
   "metadata": {
    "execution": {
     "iopub.execute_input": "2023-10-03T16:46:54.735963Z",
     "iopub.status.busy": "2023-10-03T16:46:54.735077Z",
     "iopub.status.idle": "2023-10-03T16:46:54.768878Z",
     "shell.execute_reply": "2023-10-03T16:46:54.768001Z"
    },
    "papermill": {
     "duration": 0.072841,
     "end_time": "2023-10-03T16:46:54.770683",
     "exception": false,
     "start_time": "2023-10-03T16:46:54.697842",
     "status": "completed"
    },
    "tags": []
   },
   "outputs": [
    {
     "name": "stderr",
     "output_type": "stream",
     "text": [
      "mkdir: cannot create directory ‘data/bp/std_net/’: No such file or directory\n",
      "100%|██████████| 10/10 [00:00<00:00, 4004.87it/s]\n",
      "100%|██████████| 10/10 [00:00<00:00, 3864.29it/s]\n",
      "100%|██████████| 10/10 [00:00<00:00, 3997.24it/s]\n"
     ]
    }
   ],
   "source": [
    "gen_cfg('/kaggle/working/lop/lop/permuted_mnist/cfg/bp/std_net.json')"
   ]
  },
  {
   "cell_type": "code",
   "execution_count": 12,
   "id": "4110c05b",
   "metadata": {
    "execution": {
     "iopub.execute_input": "2023-10-03T16:46:54.845240Z",
     "iopub.status.busy": "2023-10-03T16:46:54.844982Z",
     "iopub.status.idle": "2023-10-03T16:46:54.869160Z",
     "shell.execute_reply": "2023-10-03T16:46:54.868367Z"
    },
    "papermill": {
     "duration": 0.064003,
     "end_time": "2023-10-03T16:46:54.870832",
     "exception": false,
     "start_time": "2023-10-03T16:46:54.806829",
     "status": "completed"
    },
    "tags": []
   },
   "outputs": [],
   "source": [
    "from lop.algos.bp import Backprop\n",
    "from lop.algos.cbp import ContinualBackprop\n",
    "from lop.nets.linear import MyLinear\n",
    "from torch.nn.functional import softmax\n",
    "from lop.nets.deep_ffnn import DeepFFNN\n",
    "from lop.utils.miscellaneous import nll_accuracy, compute_matrix_rank_summaries\n",
    "\n",
    "\n",
    "def online_expr(params: {}):\n",
    "    agent_type = params['agent']\n",
    "    num_tasks = 60\n",
    "#     if 'num_tasks' in params.keys():\n",
    "#         num_tasks = params['num_tasks']\n",
    "#     if 'num_examples' in params.keys() and \"change_after\" in params.keys():\n",
    "#         num_tasks = int(params[\"num_examples\"]/params[\"change_after\"])\n",
    "\n",
    "    step_size = params['step_size']\n",
    "    opt = params['opt']\n",
    "    weight_decay = 0\n",
    "    use_gpu = 0\n",
    "    dev = 'cpu'\n",
    "    to_log = False\n",
    "    num_features = 2000\n",
    "    change_after = 10 * 6000\n",
    "    to_perturb = False\n",
    "    perturb_scale = 0.1\n",
    "    num_hidden_layers = 1\n",
    "    mini_batch_size = 1\n",
    "    replacement_rate = 0.0001\n",
    "    decay_rate = 0.99\n",
    "    maturity_threshold = 100\n",
    "    util_type = 'adaptable_contribution'\n",
    "\n",
    "    if 'to_log' in params.keys():\n",
    "        to_log = params['to_log']\n",
    "    if 'weight_decay' in params.keys():\n",
    "        weight_decay = params['weight_decay']\n",
    "    if 'num_features' in params.keys():\n",
    "        num_features = params['num_features']\n",
    "    if 'change_after' in params.keys():\n",
    "        change_after = params['change_after']\n",
    "    if 'use_gpu' in params.keys():\n",
    "        if params['use_gpu'] == 1:\n",
    "            use_gpu = 1\n",
    "            dev = torch.device(\"cuda\") if torch.cuda.is_available() else torch.device(\"cpu\")\n",
    "            if dev == torch.device(\"cuda\"):    torch.set_default_tensor_type('torch.cuda.FloatTensor')\n",
    "    if 'to_perturb' in params.keys():\n",
    "        to_perturb = params['to_perturb']\n",
    "    if 'perturb_scale' in params.keys():\n",
    "        perturb_scale = params['perturb_scale']\n",
    "    if 'num_hidden_layers' in params.keys():\n",
    "        num_hidden_layers = params['num_hidden_layers']\n",
    "    if 'mini_batch_size' in params.keys():\n",
    "        mini_batch_size = params['mini_batch_size']\n",
    "    if 'replacement_rate' in params.keys():\n",
    "        replacement_rate = params['replacement_rate']\n",
    "    if 'decay_rate' in params.keys():\n",
    "        decay_rate = params['decay_rate']\n",
    "    if 'maturity_threshold' in params.keys():\n",
    "        maturity_threshold = params['mt']\n",
    "    if 'util_type' in params.keys():\n",
    "        util_type = params['util_type']\n",
    "\n",
    "    classes_per_task = 10\n",
    "    images_per_class = 6000\n",
    "    input_size = 784\n",
    "    num_hidden_layers = num_hidden_layers\n",
    "    net = DeepFFNN(input_size=input_size, num_features=num_features, num_outputs=classes_per_task,\n",
    "                   num_hidden_layers=num_hidden_layers)\n",
    "\n",
    "    if agent_type == 'linear':\n",
    "        net = MyLinear(\n",
    "            input_size=input_size, num_outputs=classes_per_task\n",
    "        )\n",
    "        net.layers_to_log = []\n",
    "\n",
    "    if agent_type in ['bp', 'linear', \"l2\"]:\n",
    "        learner = Backprop(\n",
    "            net=net,\n",
    "            step_size=step_size,\n",
    "            opt=opt,\n",
    "            loss='nll',\n",
    "            weight_decay=weight_decay,\n",
    "            device=dev,\n",
    "            to_perturb=to_perturb,\n",
    "            perturb_scale=perturb_scale,\n",
    "        )\n",
    "    elif agent_type in ['cbp']:\n",
    "        learner = ContinualBackprop(\n",
    "            net=net,\n",
    "            step_size=step_size,\n",
    "            opt=opt,\n",
    "            loss='nll',\n",
    "            replacement_rate=replacement_rate,\n",
    "            maturity_threshold=maturity_threshold,\n",
    "            decay_rate=decay_rate,\n",
    "            util_type=util_type,\n",
    "            accumulate=True,\n",
    "            device=dev,\n",
    "        )\n",
    "\n",
    "    accuracy = nll_accuracy\n",
    "    examples_per_task = images_per_class * classes_per_task\n",
    "    total_examples = int(num_tasks * change_after)\n",
    "    total_iters = int(total_examples/mini_batch_size)\n",
    "    save_after_every_n_tasks = 1\n",
    "    if num_tasks >= 10:\n",
    "        save_after_every_n_tasks = int(num_tasks/10)\n",
    "\n",
    "    accuracies = torch.zeros(total_iters, dtype=torch.float)\n",
    "    weight_mag_sum = torch.zeros((total_iters, num_hidden_layers+1), dtype=torch.float)\n",
    "\n",
    "    rank_measure_period = 60000\n",
    "    effective_ranks = torch.zeros((int(total_examples/rank_measure_period), num_hidden_layers), dtype=torch.float)\n",
    "    approximate_ranks = torch.zeros((int(total_examples/rank_measure_period), num_hidden_layers), dtype=torch.float)\n",
    "    approximate_ranks_abs = torch.zeros((int(total_examples/rank_measure_period), num_hidden_layers), dtype=torch.float)\n",
    "    ranks = torch.zeros((int(total_examples/rank_measure_period), num_hidden_layers), dtype=torch.float)\n",
    "    dead_neurons = torch.zeros((int(total_examples/rank_measure_period), num_hidden_layers), dtype=torch.float)\n",
    "\n",
    "    iter = 0\n",
    "    with open('data/mnist_', 'rb+') as f:\n",
    "        x, y, _, _ = pickle.load(f)\n",
    "        if use_gpu == 1:\n",
    "            x = x.to(dev)\n",
    "            y = y.to(dev)\n",
    "\n",
    "    for task_idx in (range(num_tasks)):\n",
    "        new_iter_start = iter\n",
    "        pixel_permutation = np.random.permutation(input_size)\n",
    "        x = x[:, pixel_permutation]\n",
    "        data_permutation = np.random.permutation(examples_per_task)\n",
    "        x, y = x[data_permutation], y[data_permutation]\n",
    "\n",
    "        if agent_type != 'linear':\n",
    "            with torch.no_grad():\n",
    "                new_idx = int(iter / rank_measure_period)\n",
    "                m = net.predict(x[:2000])[1]\n",
    "                for rep_layer_idx in range(num_hidden_layers):\n",
    "                    ranks[new_idx][rep_layer_idx], effective_ranks[new_idx][rep_layer_idx], \\\n",
    "                    approximate_ranks[new_idx][rep_layer_idx], approximate_ranks_abs[new_idx][rep_layer_idx] = \\\n",
    "                        compute_matrix_rank_summaries(m=m[rep_layer_idx], use_scipy=True)\n",
    "                    dead_neurons[new_idx][rep_layer_idx] = (m[rep_layer_idx].abs().sum(dim=0) == 0).sum()\n",
    "                print('approximate rank: ', approximate_ranks[new_idx], ', dead neurons: ', dead_neurons[new_idx])\n",
    "\n",
    "        for start_idx in tqdm(range(0, change_after, mini_batch_size)):\n",
    "            start_idx = start_idx % examples_per_task\n",
    "            batch_x = x[start_idx: start_idx+mini_batch_size]\n",
    "            batch_y = y[start_idx: start_idx+mini_batch_size]\n",
    "\n",
    "            # train the network\n",
    "            loss, network_output = learner.learn(x=batch_x, target=batch_y)\n",
    "\n",
    "            if to_log and agent_type != 'linear':\n",
    "                for idx, layer_idx in enumerate(learner.net.layers_to_log):\n",
    "                    weight_mag_sum[iter][idx] = learner.net.layers[layer_idx].weight.data.abs().sum()\n",
    "            # log accuracy\n",
    "            with torch.no_grad():\n",
    "                accuracies[iter] = accuracy(softmax(network_output, dim=1), batch_y).cpu()\n",
    "            iter += 1\n",
    "\n",
    "        print('recent accuracy', accuracies[new_iter_start:iter - 1].mean())\n",
    "        if task_idx % save_after_every_n_tasks == 0:\n",
    "            data = {\n",
    "                'accuracies': accuracies.cpu(),\n",
    "                'weight_mag_sum': weight_mag_sum.cpu(),\n",
    "                'ranks': ranks.cpu(),\n",
    "                'effective_ranks': effective_ranks.cpu(),\n",
    "                'approximate_ranks': approximate_ranks.cpu(),\n",
    "                'abs_approximate_ranks': approximate_ranks_abs.cpu(),\n",
    "                'dead_neurons': dead_neurons.cpu(),\n",
    "            }\n",
    "            save_data(file=params['data_file'], data=data)\n",
    "\n",
    "    data = {\n",
    "        'accuracies': accuracies.cpu(),\n",
    "        'weight_mag_sum': weight_mag_sum.cpu(),\n",
    "        'ranks': ranks.cpu(),\n",
    "        'effective_ranks': effective_ranks.cpu(),\n",
    "        'approximate_ranks': approximate_ranks.cpu(),\n",
    "        'abs_approximate_ranks': approximate_ranks_abs.cpu(),\n",
    "        'dead_neurons': dead_neurons.cpu(),\n",
    "    }\n",
    "    save_data(file=params['data_file'], data=data)\n",
    "\n",
    "\n",
    "def save_data(file, data):\n",
    "    with open(file, 'wb+') as f:\n",
    "        pickle.dump(data, f)"
   ]
  },
  {
   "cell_type": "code",
   "execution_count": 13,
   "id": "757eac2d",
   "metadata": {
    "execution": {
     "iopub.execute_input": "2023-10-03T16:46:54.943087Z",
     "iopub.status.busy": "2023-10-03T16:46:54.942520Z",
     "iopub.status.idle": "2023-10-03T16:46:56.898329Z",
     "shell.execute_reply": "2023-10-03T16:46:56.897185Z"
    },
    "papermill": {
     "duration": 1.993928,
     "end_time": "2023-10-03T16:46:56.900391",
     "exception": false,
     "start_time": "2023-10-03T16:46:54.906463",
     "status": "completed"
    },
    "tags": []
   },
   "outputs": [
    {
     "name": "stdout",
     "output_type": "stream",
     "text": [
      "mkdir: cannot create directory ‘data/bp/std_net’: File exists\r\n",
      "mkdir: cannot create directory ‘data/bp/std_net/0’: File exists\r\n"
     ]
    }
   ],
   "source": [
    "!mkdir data/bp/std_net\n",
    "!mkdir data/bp/std_net/0"
   ]
  },
  {
   "cell_type": "code",
   "execution_count": 14,
   "id": "9e49f400",
   "metadata": {
    "execution": {
     "iopub.execute_input": "2023-10-03T16:46:56.974988Z",
     "iopub.status.busy": "2023-10-03T16:46:56.974317Z",
     "iopub.status.idle": "2023-10-03T18:31:47.699501Z",
     "shell.execute_reply": "2023-10-03T18:31:47.698523Z"
    },
    "papermill": {
     "duration": 6290.764668,
     "end_time": "2023-10-03T18:31:47.701640",
     "exception": false,
     "start_time": "2023-10-03T16:46:56.936972",
     "status": "completed"
    },
    "tags": []
   },
   "outputs": [
    {
     "name": "stdout",
     "output_type": "stream",
     "text": [
      "approximate rank:  tensor([692., 711., 660.]) , dead neurons:  tensor([ 0.,  5., 22.])\n"
     ]
    },
    {
     "name": "stderr",
     "output_type": "stream",
     "text": [
      "100%|██████████| 60000/60000 [01:37<00:00, 612.51it/s]\n"
     ]
    },
    {
     "name": "stdout",
     "output_type": "stream",
     "text": [
      "recent accuracy tensor(0.9431)\n",
      "approximate rank:  tensor([831., 904., 971.]) , dead neurons:  tensor([ 1., 12.,  4.])\n"
     ]
    },
    {
     "name": "stderr",
     "output_type": "stream",
     "text": [
      "100%|██████████| 60000/60000 [01:37<00:00, 615.98it/s]\n"
     ]
    },
    {
     "name": "stdout",
     "output_type": "stream",
     "text": [
      "recent accuracy tensor(0.9460)\n",
      "approximate rank:  tensor([854., 816., 909.]) , dead neurons:  tensor([ 1., 38., 11.])\n"
     ]
    },
    {
     "name": "stderr",
     "output_type": "stream",
     "text": [
      "100%|██████████| 60000/60000 [01:37<00:00, 617.18it/s]\n"
     ]
    },
    {
     "name": "stdout",
     "output_type": "stream",
     "text": [
      "recent accuracy tensor(0.9455)\n",
      "approximate rank:  tensor([888., 847., 894.]) , dead neurons:  tensor([ 5., 21., 15.])\n"
     ]
    },
    {
     "name": "stderr",
     "output_type": "stream",
     "text": [
      "100%|██████████| 60000/60000 [01:37<00:00, 613.41it/s]\n"
     ]
    },
    {
     "name": "stdout",
     "output_type": "stream",
     "text": [
      "recent accuracy tensor(0.9466)\n",
      "approximate rank:  tensor([838., 794., 828.]) , dead neurons:  tensor([ 6., 35., 14.])\n"
     ]
    },
    {
     "name": "stderr",
     "output_type": "stream",
     "text": [
      "100%|██████████| 60000/60000 [01:37<00:00, 615.01it/s]\n"
     ]
    },
    {
     "name": "stdout",
     "output_type": "stream",
     "text": [
      "recent accuracy tensor(0.9453)\n",
      "approximate rank:  tensor([871., 934., 873.]) , dead neurons:  tensor([12.,  7.,  9.])\n"
     ]
    },
    {
     "name": "stderr",
     "output_type": "stream",
     "text": [
      "100%|██████████| 60000/60000 [01:38<00:00, 610.79it/s]\n"
     ]
    },
    {
     "name": "stdout",
     "output_type": "stream",
     "text": [
      "recent accuracy tensor(0.9462)\n",
      "approximate rank:  tensor([828., 828., 778.]) , dead neurons:  tensor([30., 15., 29.])\n"
     ]
    },
    {
     "name": "stderr",
     "output_type": "stream",
     "text": [
      "100%|██████████| 60000/60000 [01:38<00:00, 612.07it/s]\n"
     ]
    },
    {
     "name": "stdout",
     "output_type": "stream",
     "text": [
      "recent accuracy tensor(0.9460)\n",
      "approximate rank:  tensor([807., 884., 655.]) , dead neurons:  tensor([40., 17., 20.])\n"
     ]
    },
    {
     "name": "stderr",
     "output_type": "stream",
     "text": [
      "100%|██████████| 60000/60000 [01:37<00:00, 613.90it/s]\n"
     ]
    },
    {
     "name": "stdout",
     "output_type": "stream",
     "text": [
      "recent accuracy tensor(0.9466)\n",
      "approximate rank:  tensor([776., 911., 711.]) , dead neurons:  tensor([45.,  9., 27.])\n"
     ]
    },
    {
     "name": "stderr",
     "output_type": "stream",
     "text": [
      "100%|██████████| 60000/60000 [01:37<00:00, 615.56it/s]\n"
     ]
    },
    {
     "name": "stdout",
     "output_type": "stream",
     "text": [
      "recent accuracy tensor(0.9463)\n",
      "approximate rank:  tensor([751., 880., 581.]) , dead neurons:  tensor([76.,  8., 48.])\n"
     ]
    },
    {
     "name": "stderr",
     "output_type": "stream",
     "text": [
      "100%|██████████| 60000/60000 [01:38<00:00, 609.34it/s]\n"
     ]
    },
    {
     "name": "stdout",
     "output_type": "stream",
     "text": [
      "recent accuracy tensor(0.9450)\n",
      "approximate rank:  tensor([735., 925., 568.]) , dead neurons:  tensor([85.,  4., 39.])\n"
     ]
    },
    {
     "name": "stderr",
     "output_type": "stream",
     "text": [
      "100%|██████████| 60000/60000 [01:37<00:00, 613.78it/s]\n"
     ]
    },
    {
     "name": "stdout",
     "output_type": "stream",
     "text": [
      "recent accuracy tensor(0.9453)\n",
      "approximate rank:  tensor([699., 787., 564.]) , dead neurons:  tensor([87., 19., 83.])\n"
     ]
    },
    {
     "name": "stderr",
     "output_type": "stream",
     "text": [
      "100%|██████████| 60000/60000 [01:37<00:00, 614.48it/s]\n"
     ]
    },
    {
     "name": "stdout",
     "output_type": "stream",
     "text": [
      "recent accuracy tensor(0.9447)\n",
      "approximate rank:  tensor([658., 788., 511.]) , dead neurons:  tensor([108.,  22.,  91.])\n"
     ]
    },
    {
     "name": "stderr",
     "output_type": "stream",
     "text": [
      "100%|██████████| 60000/60000 [01:38<00:00, 611.78it/s]\n"
     ]
    },
    {
     "name": "stdout",
     "output_type": "stream",
     "text": [
      "recent accuracy tensor(0.9451)\n",
      "approximate rank:  tensor([641., 801., 540.]) , dead neurons:  tensor([109.,  18., 108.])\n"
     ]
    },
    {
     "name": "stderr",
     "output_type": "stream",
     "text": [
      "100%|██████████| 60000/60000 [01:38<00:00, 611.55it/s]\n"
     ]
    },
    {
     "name": "stdout",
     "output_type": "stream",
     "text": [
      "recent accuracy tensor(0.9434)\n",
      "approximate rank:  tensor([614., 730., 410.]) , dead neurons:  tensor([186.,  37., 172.])\n"
     ]
    },
    {
     "name": "stderr",
     "output_type": "stream",
     "text": [
      "100%|██████████| 60000/60000 [01:38<00:00, 611.81it/s]\n"
     ]
    },
    {
     "name": "stdout",
     "output_type": "stream",
     "text": [
      "recent accuracy tensor(0.9435)\n",
      "approximate rank:  tensor([643., 827., 495.]) , dead neurons:  tensor([180.,  11., 116.])\n"
     ]
    },
    {
     "name": "stderr",
     "output_type": "stream",
     "text": [
      "100%|██████████| 60000/60000 [01:38<00:00, 607.56it/s]\n"
     ]
    },
    {
     "name": "stdout",
     "output_type": "stream",
     "text": [
      "recent accuracy tensor(0.9465)\n",
      "approximate rank:  tensor([569., 648., 456.]) , dead neurons:  tensor([170.,  46., 190.])\n"
     ]
    },
    {
     "name": "stderr",
     "output_type": "stream",
     "text": [
      "100%|██████████| 60000/60000 [01:37<00:00, 613.64it/s]\n"
     ]
    },
    {
     "name": "stdout",
     "output_type": "stream",
     "text": [
      "recent accuracy tensor(0.9433)\n",
      "approximate rank:  tensor([585., 710., 434.]) , dead neurons:  tensor([187.,  35., 130.])\n"
     ]
    },
    {
     "name": "stderr",
     "output_type": "stream",
     "text": [
      "100%|██████████| 60000/60000 [01:38<00:00, 611.43it/s]\n"
     ]
    },
    {
     "name": "stdout",
     "output_type": "stream",
     "text": [
      "recent accuracy tensor(0.9438)\n",
      "approximate rank:  tensor([600., 738., 366.]) , dead neurons:  tensor([179.,  23., 143.])\n"
     ]
    },
    {
     "name": "stderr",
     "output_type": "stream",
     "text": [
      "100%|██████████| 60000/60000 [01:38<00:00, 608.32it/s]\n"
     ]
    },
    {
     "name": "stdout",
     "output_type": "stream",
     "text": [
      "recent accuracy tensor(0.9435)\n",
      "approximate rank:  tensor([617., 817., 365.]) , dead neurons:  tensor([208.,  20., 143.])\n"
     ]
    },
    {
     "name": "stderr",
     "output_type": "stream",
     "text": [
      "100%|██████████| 60000/60000 [01:38<00:00, 609.39it/s]\n"
     ]
    },
    {
     "name": "stdout",
     "output_type": "stream",
     "text": [
      "recent accuracy tensor(0.9432)\n",
      "approximate rank:  tensor([542., 655., 361.]) , dead neurons:  tensor([229.,  41., 249.])\n"
     ]
    },
    {
     "name": "stderr",
     "output_type": "stream",
     "text": [
      "100%|██████████| 60000/60000 [01:38<00:00, 608.25it/s]\n"
     ]
    },
    {
     "name": "stdout",
     "output_type": "stream",
     "text": [
      "recent accuracy tensor(0.9419)\n",
      "approximate rank:  tensor([567., 729., 366.]) , dead neurons:  tensor([248.,  43., 165.])\n"
     ]
    },
    {
     "name": "stderr",
     "output_type": "stream",
     "text": [
      "100%|██████████| 60000/60000 [01:38<00:00, 607.18it/s]\n"
     ]
    },
    {
     "name": "stdout",
     "output_type": "stream",
     "text": [
      "recent accuracy tensor(0.9427)\n",
      "approximate rank:  tensor([548., 722., 387.]) , dead neurons:  tensor([264.,  27., 167.])\n"
     ]
    },
    {
     "name": "stderr",
     "output_type": "stream",
     "text": [
      "100%|██████████| 60000/60000 [01:37<00:00, 612.28it/s]\n"
     ]
    },
    {
     "name": "stdout",
     "output_type": "stream",
     "text": [
      "recent accuracy tensor(0.9411)\n",
      "approximate rank:  tensor([507., 687., 382.]) , dead neurons:  tensor([275.,  45., 192.])\n"
     ]
    },
    {
     "name": "stderr",
     "output_type": "stream",
     "text": [
      "100%|██████████| 60000/60000 [01:38<00:00, 609.36it/s]\n"
     ]
    },
    {
     "name": "stdout",
     "output_type": "stream",
     "text": [
      "recent accuracy tensor(0.9424)\n",
      "approximate rank:  tensor([563., 774., 292.]) , dead neurons:  tensor([301.,  28., 236.])\n"
     ]
    },
    {
     "name": "stderr",
     "output_type": "stream",
     "text": [
      "100%|██████████| 60000/60000 [01:38<00:00, 610.67it/s]\n"
     ]
    },
    {
     "name": "stdout",
     "output_type": "stream",
     "text": [
      "recent accuracy tensor(0.9428)\n",
      "approximate rank:  tensor([587., 824., 349.]) , dead neurons:  tensor([245.,  19., 163.])\n"
     ]
    },
    {
     "name": "stderr",
     "output_type": "stream",
     "text": [
      "100%|██████████| 60000/60000 [01:38<00:00, 608.74it/s]\n"
     ]
    },
    {
     "name": "stdout",
     "output_type": "stream",
     "text": [
      "recent accuracy tensor(0.9418)\n",
      "approximate rank:  tensor([523., 731., 362.]) , dead neurons:  tensor([284.,  55., 195.])\n"
     ]
    },
    {
     "name": "stderr",
     "output_type": "stream",
     "text": [
      "100%|██████████| 60000/60000 [01:38<00:00, 610.24it/s]\n"
     ]
    },
    {
     "name": "stdout",
     "output_type": "stream",
     "text": [
      "recent accuracy tensor(0.9397)\n",
      "approximate rank:  tensor([517., 617., 336.]) , dead neurons:  tensor([268.,  86., 235.])\n"
     ]
    },
    {
     "name": "stderr",
     "output_type": "stream",
     "text": [
      "100%|██████████| 60000/60000 [01:38<00:00, 606.60it/s]\n"
     ]
    },
    {
     "name": "stdout",
     "output_type": "stream",
     "text": [
      "recent accuracy tensor(0.9416)\n",
      "approximate rank:  tensor([496., 714., 338.]) , dead neurons:  tensor([295.,  46., 217.])\n"
     ]
    },
    {
     "name": "stderr",
     "output_type": "stream",
     "text": [
      "100%|██████████| 60000/60000 [01:38<00:00, 609.47it/s]\n"
     ]
    },
    {
     "name": "stdout",
     "output_type": "stream",
     "text": [
      "recent accuracy tensor(0.9426)\n",
      "approximate rank:  tensor([491., 646., 331.]) , dead neurons:  tensor([281.,  61., 259.])\n"
     ]
    },
    {
     "name": "stderr",
     "output_type": "stream",
     "text": [
      "100%|██████████| 60000/60000 [01:38<00:00, 609.10it/s]\n"
     ]
    },
    {
     "name": "stdout",
     "output_type": "stream",
     "text": [
      "recent accuracy tensor(0.9395)\n",
      "approximate rank:  tensor([504., 679., 322.]) , dead neurons:  tensor([289.,  53., 285.])\n"
     ]
    },
    {
     "name": "stderr",
     "output_type": "stream",
     "text": [
      "100%|██████████| 60000/60000 [01:38<00:00, 607.20it/s]\n"
     ]
    },
    {
     "name": "stdout",
     "output_type": "stream",
     "text": [
      "recent accuracy tensor(0.9409)\n",
      "approximate rank:  tensor([501., 655., 305.]) , dead neurons:  tensor([320.,  52., 290.])\n"
     ]
    },
    {
     "name": "stderr",
     "output_type": "stream",
     "text": [
      "100%|██████████| 60000/60000 [01:39<00:00, 604.91it/s]\n"
     ]
    },
    {
     "name": "stdout",
     "output_type": "stream",
     "text": [
      "recent accuracy tensor(0.9393)\n",
      "approximate rank:  tensor([528., 670., 310.]) , dead neurons:  tensor([302.,  51., 276.])\n"
     ]
    },
    {
     "name": "stderr",
     "output_type": "stream",
     "text": [
      "100%|██████████| 60000/60000 [01:38<00:00, 606.75it/s]\n"
     ]
    },
    {
     "name": "stdout",
     "output_type": "stream",
     "text": [
      "recent accuracy tensor(0.9401)\n",
      "approximate rank:  tensor([496., 682., 337.]) , dead neurons:  tensor([341.,  53., 220.])\n"
     ]
    },
    {
     "name": "stderr",
     "output_type": "stream",
     "text": [
      "100%|██████████| 60000/60000 [01:39<00:00, 605.81it/s]\n"
     ]
    },
    {
     "name": "stdout",
     "output_type": "stream",
     "text": [
      "recent accuracy tensor(0.9400)\n",
      "approximate rank:  tensor([535., 721., 256.]) , dead neurons:  tensor([361.,  41., 312.])\n"
     ]
    },
    {
     "name": "stderr",
     "output_type": "stream",
     "text": [
      "100%|██████████| 60000/60000 [01:38<00:00, 607.67it/s]\n"
     ]
    },
    {
     "name": "stdout",
     "output_type": "stream",
     "text": [
      "recent accuracy tensor(0.9419)\n",
      "approximate rank:  tensor([470., 664., 311.]) , dead neurons:  tensor([363.,  77., 312.])\n"
     ]
    },
    {
     "name": "stderr",
     "output_type": "stream",
     "text": [
      "100%|██████████| 60000/60000 [01:38<00:00, 607.05it/s]\n"
     ]
    },
    {
     "name": "stdout",
     "output_type": "stream",
     "text": [
      "recent accuracy tensor(0.9411)\n",
      "approximate rank:  tensor([487., 671., 329.]) , dead neurons:  tensor([378.,  75., 248.])\n"
     ]
    },
    {
     "name": "stderr",
     "output_type": "stream",
     "text": [
      "100%|██████████| 60000/60000 [01:38<00:00, 606.20it/s]\n"
     ]
    },
    {
     "name": "stdout",
     "output_type": "stream",
     "text": [
      "recent accuracy tensor(0.9397)\n",
      "approximate rank:  tensor([461., 725., 354.]) , dead neurons:  tensor([347.,  66., 219.])\n"
     ]
    },
    {
     "name": "stderr",
     "output_type": "stream",
     "text": [
      "100%|██████████| 60000/60000 [01:38<00:00, 609.79it/s]\n"
     ]
    },
    {
     "name": "stdout",
     "output_type": "stream",
     "text": [
      "recent accuracy tensor(0.9388)\n",
      "approximate rank:  tensor([440., 633., 345.]) , dead neurons:  tensor([363.,  94., 260.])\n"
     ]
    },
    {
     "name": "stderr",
     "output_type": "stream",
     "text": [
      "100%|██████████| 60000/60000 [01:38<00:00, 608.54it/s]\n"
     ]
    },
    {
     "name": "stdout",
     "output_type": "stream",
     "text": [
      "recent accuracy tensor(0.9390)\n",
      "approximate rank:  tensor([444., 669., 401.]) , dead neurons:  tensor([348.,  81., 240.])\n"
     ]
    },
    {
     "name": "stderr",
     "output_type": "stream",
     "text": [
      "100%|██████████| 60000/60000 [01:38<00:00, 609.08it/s]\n"
     ]
    },
    {
     "name": "stdout",
     "output_type": "stream",
     "text": [
      "recent accuracy tensor(0.9393)\n",
      "approximate rank:  tensor([451., 586., 328.]) , dead neurons:  tensor([338., 114., 269.])\n"
     ]
    },
    {
     "name": "stderr",
     "output_type": "stream",
     "text": [
      "100%|██████████| 60000/60000 [01:39<00:00, 606.04it/s]\n"
     ]
    },
    {
     "name": "stdout",
     "output_type": "stream",
     "text": [
      "recent accuracy tensor(0.9406)\n",
      "approximate rank:  tensor([471., 696., 349.]) , dead neurons:  tensor([344.,  58., 251.])\n"
     ]
    },
    {
     "name": "stderr",
     "output_type": "stream",
     "text": [
      "100%|██████████| 60000/60000 [01:40<00:00, 595.18it/s]\n"
     ]
    },
    {
     "name": "stdout",
     "output_type": "stream",
     "text": [
      "recent accuracy tensor(0.9385)\n",
      "approximate rank:  tensor([487., 723., 353.]) , dead neurons:  tensor([349.,  64., 222.])\n"
     ]
    },
    {
     "name": "stderr",
     "output_type": "stream",
     "text": [
      "100%|██████████| 60000/60000 [01:38<00:00, 606.21it/s]\n"
     ]
    },
    {
     "name": "stdout",
     "output_type": "stream",
     "text": [
      "recent accuracy tensor(0.9411)\n",
      "approximate rank:  tensor([496., 721., 308.]) , dead neurons:  tensor([380.,  49., 278.])\n"
     ]
    },
    {
     "name": "stderr",
     "output_type": "stream",
     "text": [
      "100%|██████████| 60000/60000 [01:38<00:00, 607.51it/s]\n"
     ]
    },
    {
     "name": "stdout",
     "output_type": "stream",
     "text": [
      "recent accuracy tensor(0.9386)\n",
      "approximate rank:  tensor([450., 691., 315.]) , dead neurons:  tensor([377.,  69., 256.])\n"
     ]
    },
    {
     "name": "stderr",
     "output_type": "stream",
     "text": [
      "100%|██████████| 60000/60000 [01:38<00:00, 608.99it/s]\n"
     ]
    },
    {
     "name": "stdout",
     "output_type": "stream",
     "text": [
      "recent accuracy tensor(0.9391)\n",
      "approximate rank:  tensor([496., 665., 323.]) , dead neurons:  tensor([333.,  68., 253.])\n"
     ]
    },
    {
     "name": "stderr",
     "output_type": "stream",
     "text": [
      "100%|██████████| 60000/60000 [01:39<00:00, 604.08it/s]\n"
     ]
    },
    {
     "name": "stdout",
     "output_type": "stream",
     "text": [
      "recent accuracy tensor(0.9391)\n",
      "approximate rank:  tensor([470., 705., 324.]) , dead neurons:  tensor([364.,  84., 229.])\n"
     ]
    },
    {
     "name": "stderr",
     "output_type": "stream",
     "text": [
      "100%|██████████| 60000/60000 [01:38<00:00, 608.29it/s]\n"
     ]
    },
    {
     "name": "stdout",
     "output_type": "stream",
     "text": [
      "recent accuracy tensor(0.9386)\n",
      "approximate rank:  tensor([451., 652., 317.]) , dead neurons:  tensor([384.,  98., 266.])\n"
     ]
    },
    {
     "name": "stderr",
     "output_type": "stream",
     "text": [
      "100%|██████████| 60000/60000 [01:39<00:00, 601.47it/s]\n"
     ]
    },
    {
     "name": "stdout",
     "output_type": "stream",
     "text": [
      "recent accuracy tensor(0.9387)\n",
      "approximate rank:  tensor([476., 704., 355.]) , dead neurons:  tensor([359.,  69., 179.])\n"
     ]
    },
    {
     "name": "stderr",
     "output_type": "stream",
     "text": [
      "100%|██████████| 60000/60000 [01:38<00:00, 608.15it/s]\n"
     ]
    },
    {
     "name": "stdout",
     "output_type": "stream",
     "text": [
      "recent accuracy tensor(0.9400)\n",
      "approximate rank:  tensor([473., 665., 329.]) , dead neurons:  tensor([374.,  97., 248.])\n"
     ]
    },
    {
     "name": "stderr",
     "output_type": "stream",
     "text": [
      "100%|██████████| 60000/60000 [01:38<00:00, 608.12it/s]\n"
     ]
    },
    {
     "name": "stdout",
     "output_type": "stream",
     "text": [
      "recent accuracy tensor(0.9379)\n",
      "approximate rank:  tensor([495., 667., 245.]) , dead neurons:  tensor([386.,  81., 339.])\n"
     ]
    },
    {
     "name": "stderr",
     "output_type": "stream",
     "text": [
      "100%|██████████| 60000/60000 [01:38<00:00, 606.93it/s]\n"
     ]
    },
    {
     "name": "stdout",
     "output_type": "stream",
     "text": [
      "recent accuracy tensor(0.9387)\n",
      "approximate rank:  tensor([459., 667., 325.]) , dead neurons:  tensor([372.,  75., 250.])\n"
     ]
    },
    {
     "name": "stderr",
     "output_type": "stream",
     "text": [
      "100%|██████████| 60000/60000 [01:39<00:00, 603.36it/s]\n"
     ]
    },
    {
     "name": "stdout",
     "output_type": "stream",
     "text": [
      "recent accuracy tensor(0.9378)\n",
      "approximate rank:  tensor([498., 754., 331.]) , dead neurons:  tensor([365.,  51., 221.])\n"
     ]
    },
    {
     "name": "stderr",
     "output_type": "stream",
     "text": [
      "100%|██████████| 60000/60000 [01:38<00:00, 607.70it/s]\n"
     ]
    },
    {
     "name": "stdout",
     "output_type": "stream",
     "text": [
      "recent accuracy tensor(0.9397)\n",
      "approximate rank:  tensor([498., 676., 268.]) , dead neurons:  tensor([387.,  72., 269.])\n"
     ]
    },
    {
     "name": "stderr",
     "output_type": "stream",
     "text": [
      "100%|██████████| 60000/60000 [01:39<00:00, 605.16it/s]\n"
     ]
    },
    {
     "name": "stdout",
     "output_type": "stream",
     "text": [
      "recent accuracy tensor(0.9374)\n",
      "approximate rank:  tensor([458., 629., 290.]) , dead neurons:  tensor([370.,  95., 305.])\n"
     ]
    },
    {
     "name": "stderr",
     "output_type": "stream",
     "text": [
      "100%|██████████| 60000/60000 [01:39<00:00, 605.05it/s]\n"
     ]
    },
    {
     "name": "stdout",
     "output_type": "stream",
     "text": [
      "recent accuracy tensor(0.9389)\n",
      "approximate rank:  tensor([462., 670., 309.]) , dead neurons:  tensor([404.,  93., 291.])\n"
     ]
    },
    {
     "name": "stderr",
     "output_type": "stream",
     "text": [
      "100%|██████████| 60000/60000 [01:39<00:00, 604.90it/s]\n"
     ]
    },
    {
     "name": "stdout",
     "output_type": "stream",
     "text": [
      "recent accuracy tensor(0.9383)\n",
      "approximate rank:  tensor([473., 684., 335.]) , dead neurons:  tensor([391.,  90., 279.])\n"
     ]
    },
    {
     "name": "stderr",
     "output_type": "stream",
     "text": [
      "100%|██████████| 60000/60000 [01:39<00:00, 605.77it/s]\n"
     ]
    },
    {
     "name": "stdout",
     "output_type": "stream",
     "text": [
      "recent accuracy tensor(0.9398)\n",
      "approximate rank:  tensor([450., 674., 337.]) , dead neurons:  tensor([366.,  83., 270.])\n"
     ]
    },
    {
     "name": "stderr",
     "output_type": "stream",
     "text": [
      "100%|██████████| 60000/60000 [01:40<00:00, 599.92it/s]\n"
     ]
    },
    {
     "name": "stdout",
     "output_type": "stream",
     "text": [
      "recent accuracy tensor(0.9384)\n",
      "approximate rank:  tensor([486., 682., 336.]) , dead neurons:  tensor([367.,  79., 279.])\n"
     ]
    },
    {
     "name": "stderr",
     "output_type": "stream",
     "text": [
      "100%|██████████| 60000/60000 [01:38<00:00, 606.21it/s]\n"
     ]
    },
    {
     "name": "stdout",
     "output_type": "stream",
     "text": [
      "recent accuracy tensor(0.9376)\n",
      "approximate rank:  tensor([474., 690., 333.]) , dead neurons:  tensor([403.,  85., 273.])\n"
     ]
    },
    {
     "name": "stderr",
     "output_type": "stream",
     "text": [
      "100%|██████████| 60000/60000 [01:39<00:00, 604.39it/s]\n"
     ]
    },
    {
     "name": "stdout",
     "output_type": "stream",
     "text": [
      "recent accuracy tensor(0.9369)\n"
     ]
    }
   ],
   "source": [
    "with open(f'temp_cfg/0.json', 'r') as f:\n",
    "    params = json.load(f)\n",
    "    online_expr(params)"
   ]
  },
  {
   "cell_type": "code",
   "execution_count": 15,
   "id": "84b51e3c",
   "metadata": {
    "execution": {
     "iopub.execute_input": "2023-10-03T18:31:53.265422Z",
     "iopub.status.busy": "2023-10-03T18:31:53.264919Z",
     "iopub.status.idle": "2023-10-03T18:31:53.284760Z",
     "shell.execute_reply": "2023-10-03T18:31:53.283914Z"
    },
    "papermill": {
     "duration": 2.787042,
     "end_time": "2023-10-03T18:31:53.286522",
     "exception": false,
     "start_time": "2023-10-03T18:31:50.499480",
     "status": "completed"
    },
    "tags": []
   },
   "outputs": [],
   "source": [
    "from lop.utils.miscellaneous import *\n",
    "from lop.utils.plot_online_performance import generate_online_performance_plot\n",
    "\n",
    "\n",
    "def add_cfg_performance(cfg='', setting_idx=0, m=2*10*1000, num_runs=30, metric='accuracy'):\n",
    "    with open(cfg, 'r') as f:\n",
    "        params = json.load(f)\n",
    "    list_params, param_settings = get_configurations(params=params)\n",
    "    per_param_setting_performance = []\n",
    "    for idx in range(num_runs):\n",
    "        file = params['data_dir'] + str(setting_idx) + '/' + str(idx)\n",
    "        with open(file, 'rb') as f:\n",
    "            data = pickle.load(f)\n",
    "\n",
    "        if metric == 'weight':\n",
    "            num_weights = 9588000\n",
    "            per_param_setting_performance.append(np.array(torch.Tensor.cpu(bin_m_errs(errs=data['weight_mag_sum'].sum(dim=1)/num_weights, m=m))))\n",
    "        elif metric == 'dead_neurons':\n",
    "            num_units = 3*2000\n",
    "            per_param_setting_performance.append(np.array(torch.Tensor.cpu(bin_m_errs(errs=data['dead_neurons'].sum(dim=1)/num_units*100, m=m))))\n",
    "        elif metric == 'effective_rank':\n",
    "            rank_normlization = 3*2000/100\n",
    "            per_param_setting_performance.append(np.array(torch.Tensor.cpu(bin_m_errs(errs=data['effective_ranks'].sum(dim=1)/rank_normlization, m=m))))\n",
    "        else:\n",
    "            per_param_setting_performance.append(np.array(torch.Tensor.cpu(bin_m_errs(errs=data['accuracies'] * 100, m=m))))\n",
    "    print(param_settings[setting_idx], setting_idx, np.array(per_param_setting_performance).mean())\n",
    "    return np.array(per_param_setting_performance)\n",
    "\n",
    "def bp_metrics(cfg_file, metric):\n",
    "    with open(cfg_file, 'r') as f:\n",
    "        params = json.load(f)\n",
    "    list_params, param_settings = get_configurations(params=params)\n",
    "\n",
    "    performances = []\n",
    "    m = {'weight': 60*1000, 'accuracy': 60*1000, 'dead_neurons': 1, 'effective_rank': 1}[metric]\n",
    "\n",
    "    performances.append(add_cfg_performance(cfg=cfg_file, setting_idx=0, m=m, num_runs=1, metric=metric))\n",
    "    \n",
    "    print(performances)\n",
    "\n",
    "    yticks = {'weight': [0, 0.02, 0.04, 0.06, 0.08, 0.10], 'accuracy': [88, 90, 92, 94, 96],\n",
    "              'dead_neurons': [0, 10, 20, 30], 'effective_rank': [0, 10, 20, 30, 40, 50]}[metric]\n",
    "    generate_online_performance_plot(\n",
    "        performances=performances,\n",
    "        colors=['C1', 'C3', 'C5', 'C2', 'C4', 'C6'],\n",
    "        yticks=yticks,\n",
    "        xticks=[0, 15*m, 30*m, 45*m, 60*m],\n",
    "        xticks_labels=['0', '15', '30', '45', '60'],\n",
    "        m=m,\n",
    "        fontsize=18,\n",
    "        labels=param_settings,\n",
    "    )"
   ]
  },
  {
   "cell_type": "code",
   "execution_count": 16,
   "id": "79a349b7",
   "metadata": {
    "execution": {
     "iopub.execute_input": "2023-10-03T18:31:58.671838Z",
     "iopub.status.busy": "2023-10-03T18:31:58.671379Z",
     "iopub.status.idle": "2023-10-03T18:32:00.269023Z",
     "shell.execute_reply": "2023-10-03T18:32:00.268114Z"
    },
    "papermill": {
     "duration": 4.326479,
     "end_time": "2023-10-03T18:32:00.270957",
     "exception": false,
     "start_time": "2023-10-03T18:31:55.944478",
     "status": "completed"
    },
    "tags": []
   },
   "outputs": [
    {
     "name": "stderr",
     "output_type": "stream",
     "text": [
      "100%|██████████| 60/60 [00:00<00:00, 16245.45it/s]\n"
     ]
    },
    {
     "name": "stdout",
     "output_type": "stream",
     "text": [
      "(0.01,) 0 94.15202\n",
      "[array([[94.30666 , 94.598335, 94.55334 , 94.65667 , 94.526665, 94.61833 ,\n",
      "        94.598335, 94.66    , 94.63    , 94.50166 , 94.53167 , 94.475   ,\n",
      "        94.513336, 94.345   , 94.355   , 94.64833 , 94.32667 , 94.38    ,\n",
      "        94.35333 , 94.31834 , 94.18833 , 94.275   , 94.10833 , 94.236664,\n",
      "        94.278336, 94.185   , 93.97    , 94.165   , 94.25667 , 93.95167 ,\n",
      "        94.08833 , 93.933334, 94.013336, 94.00166 , 94.18667 , 94.11    ,\n",
      "        93.96833 , 93.87666 , 93.903336, 93.92834 , 94.05666 , 93.855   ,\n",
      "        94.10833 , 93.863335, 93.91    , 93.91    , 93.85833 , 93.87    ,\n",
      "        93.996666, 93.795   , 93.875   , 93.78    , 93.971664, 93.745   ,\n",
      "        93.895   , 93.833336, 93.97833 , 93.84333 , 93.76    , 93.695   ]],\n",
      "      dtype=float32)]\n"
     ]
    },
    {
     "data": {
      "text/plain": [
       "<matplotlib.image.AxesImage at 0x7dbbae359000>"
      ]
     },
     "execution_count": 16,
     "metadata": {},
     "output_type": "execute_result"
    },
    {
     "data": {
      "image/png": "[encoded data removed]",
      "text/plain": [
       "<Figure size 640x480 with 1 Axes>"
      ]
     },
     "metadata": {},
     "output_type": "display_data"
    }
   ],
   "source": [
    "bp_metrics('/kaggle/working/lop/lop/permuted_mnist/cfg/bp/std_net.json', 'accuracy')\n",
    "graph = np.asarray(Image.open('comparison.png'))\n",
    "plt.imshow(graph)"
   ]
  },
  {
   "cell_type": "code",
   "execution_count": 17,
   "id": "d01d7dd4",
   "metadata": {
    "execution": {
     "iopub.execute_input": "2023-10-03T18:32:06.464846Z",
     "iopub.status.busy": "2023-10-03T18:32:06.464464Z",
     "iopub.status.idle": "2023-10-03T18:32:08.023169Z",
     "shell.execute_reply": "2023-10-03T18:32:08.022307Z"
    },
    "papermill": {
     "duration": 5.061623,
     "end_time": "2023-10-03T18:32:08.024932",
     "exception": false,
     "start_time": "2023-10-03T18:32:02.963309",
     "status": "completed"
    },
    "tags": []
   },
   "outputs": [
    {
     "name": "stderr",
     "output_type": "stream",
     "text": [
      "100%|██████████| 60/60 [00:00<00:00, 34327.96it/s]\n"
     ]
    },
    {
     "name": "stdout",
     "output_type": "stream",
     "text": [
      "(0.01,) 0 8.244722\n",
      "[array([[ 0.45      ,  0.28333333,  0.8333334 ,  0.68333334,  0.9166666 ,\n",
      "         0.46666664,  1.2333333 ,  1.2833333 ,  1.35      ,  2.2       ,\n",
      "         2.1333332 ,  3.15      ,  3.6833334 ,  3.9166667 ,  6.583333  ,\n",
      "         5.1166663 ,  6.7666664 ,  5.8666663 ,  5.75      ,  6.1833334 ,\n",
      "         8.65      ,  7.6       ,  7.6333337 ,  8.533333  ,  9.416667  ,\n",
      "         7.1166663 ,  8.900001  ,  9.816667  ,  9.3       , 10.016666  ,\n",
      "        10.450001  , 11.033333  , 10.483334  , 10.233333  , 11.900001  ,\n",
      "        12.533334  , 11.683333  , 10.533334  , 11.95      , 11.150001  ,\n",
      "        12.016666  , 10.883333  , 10.583334  , 11.783333  , 11.7       ,\n",
      "        10.9       , 11.283334  , 12.466667  , 10.116667  , 11.983334  ,\n",
      "        13.433332  , 11.616667  , 10.616667  , 12.133333  , 12.833333  ,\n",
      "        13.133333  , 12.666666  , 11.983334  , 12.083333  , 12.683333  ]],\n",
      "      dtype=float32)]\n"
     ]
    },
    {
     "data": {
      "text/plain": [
       "<matplotlib.image.AxesImage at 0x7dbbaebb2a10>"
      ]
     },
     "execution_count": 17,
     "metadata": {},
     "output_type": "execute_result"
    },
    {
     "data": {
      "image/png": "[encoded data removed]",
      "text/plain": [
       "<Figure size 640x480 with 1 Axes>"
      ]
     },
     "metadata": {},
     "output_type": "display_data"
    }
   ],
   "source": [
    "bp_metrics('/kaggle/working/lop/lop/permuted_mnist/cfg/bp/std_net.json', 'dead_neurons')\n",
    "graph = np.asarray(Image.open('comparison.png'))\n",
    "plt.imshow(graph)"
   ]
  },
  {
   "cell_type": "code",
   "execution_count": 18,
   "id": "a1b52826",
   "metadata": {
    "execution": {
     "iopub.execute_input": "2023-10-03T18:32:13.499274Z",
     "iopub.status.busy": "2023-10-03T18:32:13.498945Z",
     "iopub.status.idle": "2023-10-03T18:32:15.132993Z",
     "shell.execute_reply": "2023-10-03T18:32:15.132007Z"
    },
    "papermill": {
     "duration": 4.413148,
     "end_time": "2023-10-03T18:32:15.134791",
     "exception": false,
     "start_time": "2023-10-03T18:32:10.721643",
     "status": "completed"
    },
    "tags": []
   },
   "outputs": [
    {
     "name": "stderr",
     "output_type": "stream",
     "text": [
      "100%|██████████| 60/60 [00:00<00:00, 18793.09it/s]\n"
     ]
    },
    {
     "name": "stdout",
     "output_type": "stream",
     "text": [
      "(0.01,) 0 0.036433138\n",
      "[array([[0.03025338, 0.03055773, 0.03085185, 0.03112853, 0.03139959,\n",
      "        0.03165026, 0.03190101, 0.03214146, 0.03237658, 0.03260974,\n",
      "        0.03283369, 0.03305093, 0.03326647, 0.03348096, 0.0336884 ,\n",
      "        0.03389029, 0.03408999, 0.03429473, 0.03449103, 0.03468504,\n",
      "        0.03487632, 0.03506418, 0.03525197, 0.03544048, 0.03562503,\n",
      "        0.03581236, 0.03599701, 0.03618259, 0.03636236, 0.03654358,\n",
      "        0.03672577, 0.03690723, 0.03708683, 0.03725882, 0.03743257,\n",
      "        0.03760708, 0.03777764, 0.03795257, 0.03812446, 0.03829538,\n",
      "        0.038466  , 0.0386353 , 0.03880285, 0.03896807, 0.03913675,\n",
      "        0.03930608, 0.03947174, 0.03964026, 0.03980859, 0.0399736 ,\n",
      "        0.04013641, 0.04030094, 0.04046629, 0.04062928, 0.04079706,\n",
      "        0.04096399, 0.04113166, 0.04129828, 0.04146188, 0.0416269 ]],\n",
      "      dtype=float32)]\n"
     ]
    },
    {
     "data": {
      "text/plain": [
       "<matplotlib.image.AxesImage at 0x7dbbae8b59f0>"
      ]
     },
     "execution_count": 18,
     "metadata": {},
     "output_type": "execute_result"
    },
    {
     "data": {
      "image/png": "[encoded data removed]",
      "text/plain": [
       "<Figure size 640x480 with 1 Axes>"
      ]
     },
     "metadata": {},
     "output_type": "display_data"
    }
   ],
   "source": [
    "bp_metrics('/kaggle/working/lop/lop/permuted_mnist/cfg/bp/std_net.json', 'weight')\n",
    "graph = np.asarray(Image.open('comparison.png'))\n",
    "plt.imshow(graph)"
   ]
  },
  {
   "cell_type": "code",
   "execution_count": 19,
   "id": "1fa4ed1f",
   "metadata": {
    "execution": {
     "iopub.execute_input": "2023-10-03T18:32:20.521701Z",
     "iopub.status.busy": "2023-10-03T18:32:20.521334Z",
     "iopub.status.idle": "2023-10-03T18:32:22.131573Z",
     "shell.execute_reply": "2023-10-03T18:32:22.130741Z"
    },
    "papermill": {
     "duration": 4.357741,
     "end_time": "2023-10-03T18:32:22.133412",
     "exception": false,
     "start_time": "2023-10-03T18:32:17.775671",
     "status": "completed"
    },
    "tags": []
   },
   "outputs": [
    {
     "name": "stderr",
     "output_type": "stream",
     "text": [
      "100%|██████████| 60/60 [00:00<00:00, 30012.91it/s]\n"
     ]
    },
    {
     "name": "stdout",
     "output_type": "stream",
     "text": [
      "(0.01,) 0 32.73794\n",
      "[array([[40.712296, 47.521297, 45.764603, 46.414536, 43.948536, 46.75371 ,\n",
      "        43.517822, 42.68574 , 43.151978, 40.464413, 40.85467 , 37.820805,\n",
      "        36.478287, 36.652874, 33.460556, 36.28144 , 32.107296, 33.187008,\n",
      "        32.966316, 34.18799 , 30.320435, 32.025978, 31.869425, 30.587217,\n",
      "        31.49247 , 33.581127, 30.954613, 29.06704 , 30.09685 , 28.729391,\n",
      "        29.262943, 28.586803, 29.293953, 29.396029, 29.455057, 28.393606,\n",
      "        28.908506, 29.763409, 27.873682, 29.05637 , 27.009647, 29.349415,\n",
      "        29.985903, 29.240911, 28.391813, 28.966394, 28.80726 , 27.73754 ,\n",
      "        29.613699, 28.333454, 27.580383, 28.256126, 30.17478 , 28.02274 ,\n",
      "        27.111025, 27.869091, 28.582003, 28.246405, 28.704435, 28.646448]],\n",
      "      dtype=float32)]\n"
     ]
    },
    {
     "data": {
      "text/plain": [
       "<matplotlib.image.AxesImage at 0x7dbbae4b4af0>"
      ]
     },
     "execution_count": 19,
     "metadata": {},
     "output_type": "execute_result"
    },
    {
     "data": {
      "image/png": "[encoded data removed]",
      "text/plain": [
       "<Figure size 640x480 with 1 Axes>"
      ]
     },
     "metadata": {},
     "output_type": "display_data"
    }
   ],
   "source": [
    "bp_metrics('/kaggle/working/lop/lop/permuted_mnist/cfg/bp/std_net.json', 'effective_rank')\n",
    "graph = np.asarray(Image.open('comparison.png'))\n",
    "plt.imshow(graph)"
   ]
  },
  {
   "cell_type": "code",
   "execution_count": 20,
   "id": "8d03155b",
   "metadata": {
    "execution": {
     "iopub.execute_input": "2023-10-03T18:32:27.581574Z",
     "iopub.status.busy": "2023-10-03T18:32:27.581233Z",
     "iopub.status.idle": "2023-10-03T18:32:29.591966Z",
     "shell.execute_reply": "2023-10-03T18:32:29.590618Z"
    },
    "papermill": {
     "duration": 4.742295,
     "end_time": "2023-10-03T18:32:29.594179",
     "exception": false,
     "start_time": "2023-10-03T18:32:24.851884",
     "status": "completed"
    },
    "tags": []
   },
   "outputs": [],
   "source": [
    "!mkdir data/bp/small_net\n",
    "!mkdir data/bp/small_net/0"
   ]
  },
  {
   "cell_type": "code",
   "execution_count": 21,
   "id": "4168fe93",
   "metadata": {
    "execution": {
     "iopub.execute_input": "2023-10-03T18:32:35.075137Z",
     "iopub.status.busy": "2023-10-03T18:32:35.074680Z",
     "iopub.status.idle": "2023-10-03T20:01:32.062013Z",
     "shell.execute_reply": "2023-10-03T20:01:32.060777Z"
    },
    "papermill": {
     "duration": 5339.834365,
     "end_time": "2023-10-03T20:01:32.064134",
     "exception": false,
     "start_time": "2023-10-03T18:32:32.229769",
     "status": "completed"
    },
    "tags": []
   },
   "outputs": [
    {
     "name": "stderr",
     "output_type": "stream",
     "text": [
      "100%|██████████| 1/1 [00:00<00:00, 2091.92it/s]\n",
      "100%|██████████| 1/1 [00:00<00:00, 2737.80it/s]\n",
      "100%|██████████| 1/1 [00:00<00:00, 2761.23it/s]\n"
     ]
    },
    {
     "name": "stdout",
     "output_type": "stream",
     "text": [
      "approximate rank:  tensor([75., 62., 49.]) , dead neurons:  tensor([0., 1., 0.])\n"
     ]
    },
    {
     "name": "stderr",
     "output_type": "stream",
     "text": [
      "100%|██████████| 60000/60000 [01:27<00:00, 684.99it/s]\n"
     ]
    },
    {
     "name": "stdout",
     "output_type": "stream",
     "text": [
      "recent accuracy tensor(0.9245)\n",
      "approximate rank:  tensor([66., 64., 67.]) , dead neurons:  tensor([0., 0., 0.])\n"
     ]
    },
    {
     "name": "stderr",
     "output_type": "stream",
     "text": [
      "100%|██████████| 60000/60000 [01:29<00:00, 669.88it/s]\n"
     ]
    },
    {
     "name": "stdout",
     "output_type": "stream",
     "text": [
      "recent accuracy tensor(0.9256)\n",
      "approximate rank:  tensor([56., 62., 52.]) , dead neurons:  tensor([0., 0., 0.])\n"
     ]
    },
    {
     "name": "stderr",
     "output_type": "stream",
     "text": [
      "100%|██████████| 60000/60000 [01:28<00:00, 681.75it/s]\n"
     ]
    },
    {
     "name": "stdout",
     "output_type": "stream",
     "text": [
      "recent accuracy tensor(0.9213)\n",
      "approximate rank:  tensor([49., 49., 43.]) , dead neurons:  tensor([1., 0., 1.])\n"
     ]
    },
    {
     "name": "stderr",
     "output_type": "stream",
     "text": [
      "100%|██████████| 60000/60000 [01:29<00:00, 670.60it/s]\n"
     ]
    },
    {
     "name": "stdout",
     "output_type": "stream",
     "text": [
      "recent accuracy tensor(0.9206)\n",
      "approximate rank:  tensor([44., 44., 40.]) , dead neurons:  tensor([5., 0., 0.])\n"
     ]
    },
    {
     "name": "stderr",
     "output_type": "stream",
     "text": [
      "100%|██████████| 60000/60000 [01:27<00:00, 684.29it/s]\n"
     ]
    },
    {
     "name": "stdout",
     "output_type": "stream",
     "text": [
      "recent accuracy tensor(0.9168)\n",
      "approximate rank:  tensor([34., 35., 31.]) , dead neurons:  tensor([7., 5., 5.])\n"
     ]
    },
    {
     "name": "stderr",
     "output_type": "stream",
     "text": [
      "100%|██████████| 60000/60000 [01:29<00:00, 671.14it/s]\n"
     ]
    },
    {
     "name": "stdout",
     "output_type": "stream",
     "text": [
      "recent accuracy tensor(0.9110)\n",
      "approximate rank:  tensor([35., 44., 43.]) , dead neurons:  tensor([11.,  3.,  0.])\n"
     ]
    },
    {
     "name": "stderr",
     "output_type": "stream",
     "text": [
      "100%|██████████| 60000/60000 [01:28<00:00, 681.47it/s]\n"
     ]
    },
    {
     "name": "stdout",
     "output_type": "stream",
     "text": [
      "recent accuracy tensor(0.9077)\n",
      "approximate rank:  tensor([37., 49., 46.]) , dead neurons:  tensor([9., 3., 3.])\n"
     ]
    },
    {
     "name": "stderr",
     "output_type": "stream",
     "text": [
      "100%|██████████| 60000/60000 [01:30<00:00, 665.24it/s]\n"
     ]
    },
    {
     "name": "stdout",
     "output_type": "stream",
     "text": [
      "recent accuracy tensor(0.9062)\n",
      "approximate rank:  tensor([26., 35., 39.]) , dead neurons:  tensor([11.,  3.,  9.])\n"
     ]
    },
    {
     "name": "stderr",
     "output_type": "stream",
     "text": [
      "100%|██████████| 60000/60000 [01:27<00:00, 682.21it/s]\n"
     ]
    },
    {
     "name": "stdout",
     "output_type": "stream",
     "text": [
      "recent accuracy tensor(0.9027)\n",
      "approximate rank:  tensor([22., 28., 27.]) , dead neurons:  tensor([ 7., 11., 14.])\n"
     ]
    },
    {
     "name": "stderr",
     "output_type": "stream",
     "text": [
      "100%|██████████| 60000/60000 [01:29<00:00, 670.47it/s]\n"
     ]
    },
    {
     "name": "stdout",
     "output_type": "stream",
     "text": [
      "recent accuracy tensor(0.8934)\n",
      "approximate rank:  tensor([32., 42., 35.]) , dead neurons:  tensor([12.,  1.,  4.])\n"
     ]
    },
    {
     "name": "stderr",
     "output_type": "stream",
     "text": [
      "100%|██████████| 60000/60000 [01:28<00:00, 681.51it/s]\n"
     ]
    },
    {
     "name": "stdout",
     "output_type": "stream",
     "text": [
      "recent accuracy tensor(0.9050)\n",
      "approximate rank:  tensor([32., 49., 34.]) , dead neurons:  tensor([8., 1., 4.])\n"
     ]
    },
    {
     "name": "stderr",
     "output_type": "stream",
     "text": [
      "100%|██████████| 60000/60000 [01:30<00:00, 660.56it/s]\n"
     ]
    },
    {
     "name": "stdout",
     "output_type": "stream",
     "text": [
      "recent accuracy tensor(0.9047)\n",
      "approximate rank:  tensor([37., 48., 36.]) , dead neurons:  tensor([9., 3., 3.])\n"
     ]
    },
    {
     "name": "stderr",
     "output_type": "stream",
     "text": [
      "100%|██████████| 60000/60000 [01:30<00:00, 665.01it/s]\n"
     ]
    },
    {
     "name": "stdout",
     "output_type": "stream",
     "text": [
      "recent accuracy tensor(0.9001)\n",
      "approximate rank:  tensor([27., 31., 23.]) , dead neurons:  tensor([10.,  4., 11.])\n"
     ]
    },
    {
     "name": "stderr",
     "output_type": "stream",
     "text": [
      "100%|██████████| 60000/60000 [01:30<00:00, 661.37it/s]\n"
     ]
    },
    {
     "name": "stdout",
     "output_type": "stream",
     "text": [
      "recent accuracy tensor(0.8943)\n",
      "approximate rank:  tensor([27., 35., 27.]) , dead neurons:  tensor([10.,  5., 15.])\n"
     ]
    },
    {
     "name": "stderr",
     "output_type": "stream",
     "text": [
      "100%|██████████| 60000/60000 [01:28<00:00, 674.48it/s]\n"
     ]
    },
    {
     "name": "stdout",
     "output_type": "stream",
     "text": [
      "recent accuracy tensor(0.9005)\n",
      "approximate rank:  tensor([35., 43., 28.]) , dead neurons:  tensor([11.,  4.,  7.])\n"
     ]
    },
    {
     "name": "stderr",
     "output_type": "stream",
     "text": [
      "100%|██████████| 60000/60000 [01:30<00:00, 665.94it/s]\n"
     ]
    },
    {
     "name": "stdout",
     "output_type": "stream",
     "text": [
      "recent accuracy tensor(0.8967)\n",
      "approximate rank:  tensor([38., 49., 35.]) , dead neurons:  tensor([9., 4., 5.])\n"
     ]
    },
    {
     "name": "stderr",
     "output_type": "stream",
     "text": [
      "100%|██████████| 60000/60000 [01:28<00:00, 674.52it/s]\n"
     ]
    },
    {
     "name": "stdout",
     "output_type": "stream",
     "text": [
      "recent accuracy tensor(0.8970)\n",
      "approximate rank:  tensor([35., 41., 28.]) , dead neurons:  tensor([ 9.,  6., 12.])\n"
     ]
    },
    {
     "name": "stderr",
     "output_type": "stream",
     "text": [
      "100%|██████████| 60000/60000 [01:30<00:00, 662.25it/s]\n"
     ]
    },
    {
     "name": "stdout",
     "output_type": "stream",
     "text": [
      "recent accuracy tensor(0.8978)\n",
      "approximate rank:  tensor([34., 33., 25.]) , dead neurons:  tensor([ 7., 11., 21.])\n"
     ]
    },
    {
     "name": "stderr",
     "output_type": "stream",
     "text": [
      "100%|██████████| 60000/60000 [01:28<00:00, 678.87it/s]\n"
     ]
    },
    {
     "name": "stdout",
     "output_type": "stream",
     "text": [
      "recent accuracy tensor(0.8936)\n",
      "approximate rank:  tensor([28., 33., 34.]) , dead neurons:  tensor([12., 13.,  6.])\n"
     ]
    },
    {
     "name": "stderr",
     "output_type": "stream",
     "text": [
      "100%|██████████| 60000/60000 [01:31<00:00, 658.25it/s]\n"
     ]
    },
    {
     "name": "stdout",
     "output_type": "stream",
     "text": [
      "recent accuracy tensor(0.8912)\n",
      "approximate rank:  tensor([29., 33., 39.]) , dead neurons:  tensor([18., 10.,  7.])\n"
     ]
    },
    {
     "name": "stderr",
     "output_type": "stream",
     "text": [
      "100%|██████████| 60000/60000 [01:28<00:00, 675.28it/s]\n"
     ]
    },
    {
     "name": "stdout",
     "output_type": "stream",
     "text": [
      "recent accuracy tensor(0.8961)\n",
      "approximate rank:  tensor([31., 25., 18.]) , dead neurons:  tensor([11.,  8., 19.])\n"
     ]
    },
    {
     "name": "stderr",
     "output_type": "stream",
     "text": [
      "100%|██████████| 60000/60000 [01:30<00:00, 660.86it/s]\n"
     ]
    },
    {
     "name": "stdout",
     "output_type": "stream",
     "text": [
      "recent accuracy tensor(0.8860)\n",
      "approximate rank:  tensor([29., 36., 26.]) , dead neurons:  tensor([ 9., 13., 13.])\n"
     ]
    },
    {
     "name": "stderr",
     "output_type": "stream",
     "text": [
      "100%|██████████| 60000/60000 [01:29<00:00, 671.75it/s]\n"
     ]
    },
    {
     "name": "stdout",
     "output_type": "stream",
     "text": [
      "recent accuracy tensor(0.8907)\n",
      "approximate rank:  tensor([29., 35., 30.]) , dead neurons:  tensor([13.,  7., 10.])\n"
     ]
    },
    {
     "name": "stderr",
     "output_type": "stream",
     "text": [
      "100%|██████████| 60000/60000 [01:30<00:00, 666.49it/s]\n"
     ]
    },
    {
     "name": "stdout",
     "output_type": "stream",
     "text": [
      "recent accuracy tensor(0.8826)\n",
      "approximate rank:  tensor([27., 31., 37.]) , dead neurons:  tensor([16., 22.,  4.])\n"
     ]
    },
    {
     "name": "stderr",
     "output_type": "stream",
     "text": [
      "100%|██████████| 60000/60000 [01:29<00:00, 667.38it/s]\n"
     ]
    },
    {
     "name": "stdout",
     "output_type": "stream",
     "text": [
      "recent accuracy tensor(0.8875)\n",
      "approximate rank:  tensor([28., 23., 25.]) , dead neurons:  tensor([12., 16., 13.])\n"
     ]
    },
    {
     "name": "stderr",
     "output_type": "stream",
     "text": [
      "100%|██████████| 60000/60000 [01:29<00:00, 673.20it/s]\n"
     ]
    },
    {
     "name": "stdout",
     "output_type": "stream",
     "text": [
      "recent accuracy tensor(0.8844)\n",
      "approximate rank:  tensor([27., 27., 27.]) , dead neurons:  tensor([15., 16., 10.])\n"
     ]
    },
    {
     "name": "stderr",
     "output_type": "stream",
     "text": [
      "100%|██████████| 60000/60000 [01:27<00:00, 685.25it/s]\n"
     ]
    },
    {
     "name": "stdout",
     "output_type": "stream",
     "text": [
      "recent accuracy tensor(0.8825)\n",
      "approximate rank:  tensor([40., 51., 26.]) , dead neurons:  tensor([12.,  3., 12.])\n"
     ]
    },
    {
     "name": "stderr",
     "output_type": "stream",
     "text": [
      "100%|██████████| 60000/60000 [01:27<00:00, 682.28it/s]\n"
     ]
    },
    {
     "name": "stdout",
     "output_type": "stream",
     "text": [
      "recent accuracy tensor(0.8860)\n",
      "approximate rank:  tensor([29., 29., 21.]) , dead neurons:  tensor([ 9.,  6., 12.])\n"
     ]
    },
    {
     "name": "stderr",
     "output_type": "stream",
     "text": [
      "100%|██████████| 60000/60000 [01:27<00:00, 686.28it/s]\n"
     ]
    },
    {
     "name": "stdout",
     "output_type": "stream",
     "text": [
      "recent accuracy tensor(0.8889)\n",
      "approximate rank:  tensor([27., 32., 27.]) , dead neurons:  tensor([15.,  8.,  9.])\n"
     ]
    },
    {
     "name": "stderr",
     "output_type": "stream",
     "text": [
      "100%|██████████| 60000/60000 [01:29<00:00, 673.58it/s]\n"
     ]
    },
    {
     "name": "stdout",
     "output_type": "stream",
     "text": [
      "recent accuracy tensor(0.8866)\n",
      "approximate rank:  tensor([33., 33., 24.]) , dead neurons:  tensor([10.,  4., 15.])\n"
     ]
    },
    {
     "name": "stderr",
     "output_type": "stream",
     "text": [
      "100%|██████████| 60000/60000 [01:27<00:00, 687.27it/s]\n"
     ]
    },
    {
     "name": "stdout",
     "output_type": "stream",
     "text": [
      "recent accuracy tensor(0.8849)\n",
      "approximate rank:  tensor([28., 30., 34.]) , dead neurons:  tensor([15., 12.,  7.])\n"
     ]
    },
    {
     "name": "stderr",
     "output_type": "stream",
     "text": [
      "100%|██████████| 60000/60000 [01:26<00:00, 689.75it/s]\n"
     ]
    },
    {
     "name": "stdout",
     "output_type": "stream",
     "text": [
      "recent accuracy tensor(0.8797)\n",
      "approximate rank:  tensor([22., 15., 18.]) , dead neurons:  tensor([11., 30., 36.])\n"
     ]
    },
    {
     "name": "stderr",
     "output_type": "stream",
     "text": [
      "100%|██████████| 60000/60000 [01:29<00:00, 667.45it/s]\n"
     ]
    },
    {
     "name": "stdout",
     "output_type": "stream",
     "text": [
      "recent accuracy tensor(0.8677)\n",
      "approximate rank:  tensor([26., 15., 19.]) , dead neurons:  tensor([10., 26., 23.])\n"
     ]
    },
    {
     "name": "stderr",
     "output_type": "stream",
     "text": [
      "100%|██████████| 60000/60000 [01:27<00:00, 683.22it/s]\n"
     ]
    },
    {
     "name": "stdout",
     "output_type": "stream",
     "text": [
      "recent accuracy tensor(0.8665)\n",
      "approximate rank:  tensor([26., 24., 22.]) , dead neurons:  tensor([12., 15., 19.])\n"
     ]
    },
    {
     "name": "stderr",
     "output_type": "stream",
     "text": [
      "100%|██████████| 60000/60000 [01:29<00:00, 667.58it/s]\n"
     ]
    },
    {
     "name": "stdout",
     "output_type": "stream",
     "text": [
      "recent accuracy tensor(0.8783)\n",
      "approximate rank:  tensor([27., 26., 25.]) , dead neurons:  tensor([12.,  9., 22.])\n"
     ]
    },
    {
     "name": "stderr",
     "output_type": "stream",
     "text": [
      "100%|██████████| 60000/60000 [01:28<00:00, 674.33it/s]\n"
     ]
    },
    {
     "name": "stdout",
     "output_type": "stream",
     "text": [
      "recent accuracy tensor(0.8656)\n",
      "approximate rank:  tensor([25., 15., 15.]) , dead neurons:  tensor([17., 24., 29.])\n"
     ]
    },
    {
     "name": "stderr",
     "output_type": "stream",
     "text": [
      "100%|██████████| 60000/60000 [01:27<00:00, 687.26it/s]\n"
     ]
    },
    {
     "name": "stdout",
     "output_type": "stream",
     "text": [
      "recent accuracy tensor(0.8703)\n",
      "approximate rank:  tensor([26., 23., 29.]) , dead neurons:  tensor([17., 19., 22.])\n"
     ]
    },
    {
     "name": "stderr",
     "output_type": "stream",
     "text": [
      "100%|██████████| 60000/60000 [01:27<00:00, 683.19it/s]\n"
     ]
    },
    {
     "name": "stdout",
     "output_type": "stream",
     "text": [
      "recent accuracy tensor(0.8711)\n",
      "approximate rank:  tensor([22., 21., 18.]) , dead neurons:  tensor([14., 20., 20.])\n"
     ]
    },
    {
     "name": "stderr",
     "output_type": "stream",
     "text": [
      "100%|██████████| 60000/60000 [01:30<00:00, 665.00it/s]\n"
     ]
    },
    {
     "name": "stdout",
     "output_type": "stream",
     "text": [
      "recent accuracy tensor(0.8561)\n",
      "approximate rank:  tensor([20., 21., 22.]) , dead neurons:  tensor([13., 38., 27.])\n"
     ]
    },
    {
     "name": "stderr",
     "output_type": "stream",
     "text": [
      "100%|██████████| 60000/60000 [01:27<00:00, 686.14it/s]\n"
     ]
    },
    {
     "name": "stdout",
     "output_type": "stream",
     "text": [
      "recent accuracy tensor(0.8767)\n",
      "approximate rank:  tensor([21., 19., 24.]) , dead neurons:  tensor([17., 31., 17.])\n"
     ]
    },
    {
     "name": "stderr",
     "output_type": "stream",
     "text": [
      "100%|██████████| 60000/60000 [01:27<00:00, 683.27it/s]\n"
     ]
    },
    {
     "name": "stdout",
     "output_type": "stream",
     "text": [
      "recent accuracy tensor(0.8779)\n",
      "approximate rank:  tensor([20., 14., 21.]) , dead neurons:  tensor([20., 42., 24.])\n"
     ]
    },
    {
     "name": "stderr",
     "output_type": "stream",
     "text": [
      "100%|██████████| 60000/60000 [01:28<00:00, 676.83it/s]\n"
     ]
    },
    {
     "name": "stdout",
     "output_type": "stream",
     "text": [
      "recent accuracy tensor(0.8548)\n",
      "approximate rank:  tensor([23., 21., 28.]) , dead neurons:  tensor([10., 25., 17.])\n"
     ]
    },
    {
     "name": "stderr",
     "output_type": "stream",
     "text": [
      "100%|██████████| 60000/60000 [01:29<00:00, 671.72it/s]\n"
     ]
    },
    {
     "name": "stdout",
     "output_type": "stream",
     "text": [
      "recent accuracy tensor(0.8787)\n",
      "approximate rank:  tensor([26., 30., 26.]) , dead neurons:  tensor([14., 15., 17.])\n"
     ]
    },
    {
     "name": "stderr",
     "output_type": "stream",
     "text": [
      "100%|██████████| 60000/60000 [01:27<00:00, 687.38it/s]\n"
     ]
    },
    {
     "name": "stdout",
     "output_type": "stream",
     "text": [
      "recent accuracy tensor(0.8707)\n",
      "approximate rank:  tensor([28., 24., 21.]) , dead neurons:  tensor([11., 14., 26.])\n"
     ]
    },
    {
     "name": "stderr",
     "output_type": "stream",
     "text": [
      "100%|██████████| 60000/60000 [01:27<00:00, 684.81it/s]\n"
     ]
    },
    {
     "name": "stdout",
     "output_type": "stream",
     "text": [
      "recent accuracy tensor(0.8663)\n",
      "approximate rank:  tensor([29., 35., 29.]) , dead neurons:  tensor([19., 13., 16.])\n"
     ]
    },
    {
     "name": "stderr",
     "output_type": "stream",
     "text": [
      "100%|██████████| 60000/60000 [01:29<00:00, 668.69it/s]\n"
     ]
    },
    {
     "name": "stdout",
     "output_type": "stream",
     "text": [
      "recent accuracy tensor(0.8679)\n",
      "approximate rank:  tensor([25., 32., 19.]) , dead neurons:  tensor([17.,  9., 24.])\n"
     ]
    },
    {
     "name": "stderr",
     "output_type": "stream",
     "text": [
      "100%|██████████| 60000/60000 [01:27<00:00, 685.25it/s]\n"
     ]
    },
    {
     "name": "stdout",
     "output_type": "stream",
     "text": [
      "recent accuracy tensor(0.8710)\n",
      "approximate rank:  tensor([23., 20., 21.]) , dead neurons:  tensor([18., 18., 23.])\n"
     ]
    },
    {
     "name": "stderr",
     "output_type": "stream",
     "text": [
      "100%|██████████| 60000/60000 [01:28<00:00, 681.23it/s]\n"
     ]
    },
    {
     "name": "stdout",
     "output_type": "stream",
     "text": [
      "recent accuracy tensor(0.8683)\n",
      "approximate rank:  tensor([27., 37., 29.]) , dead neurons:  tensor([19., 16., 13.])\n"
     ]
    },
    {
     "name": "stderr",
     "output_type": "stream",
     "text": [
      "100%|██████████| 60000/60000 [01:30<00:00, 664.90it/s]\n"
     ]
    },
    {
     "name": "stdout",
     "output_type": "stream",
     "text": [
      "recent accuracy tensor(0.8754)\n",
      "approximate rank:  tensor([27., 29., 20.]) , dead neurons:  tensor([19., 14., 28.])\n"
     ]
    },
    {
     "name": "stderr",
     "output_type": "stream",
     "text": [
      "100%|██████████| 60000/60000 [01:27<00:00, 685.00it/s]\n"
     ]
    },
    {
     "name": "stdout",
     "output_type": "stream",
     "text": [
      "recent accuracy tensor(0.8636)\n",
      "approximate rank:  tensor([27., 32., 22.]) , dead neurons:  tensor([17., 17., 14.])\n"
     ]
    },
    {
     "name": "stderr",
     "output_type": "stream",
     "text": [
      "100%|██████████| 60000/60000 [01:27<00:00, 684.84it/s]\n"
     ]
    },
    {
     "name": "stdout",
     "output_type": "stream",
     "text": [
      "recent accuracy tensor(0.8599)\n",
      "approximate rank:  tensor([25., 28., 20.]) , dead neurons:  tensor([21., 15., 26.])\n"
     ]
    },
    {
     "name": "stderr",
     "output_type": "stream",
     "text": [
      "100%|██████████| 60000/60000 [01:28<00:00, 681.04it/s]\n"
     ]
    },
    {
     "name": "stdout",
     "output_type": "stream",
     "text": [
      "recent accuracy tensor(0.8565)\n",
      "approximate rank:  tensor([25., 27., 26.]) , dead neurons:  tensor([18., 32., 15.])\n"
     ]
    },
    {
     "name": "stderr",
     "output_type": "stream",
     "text": [
      "100%|██████████| 60000/60000 [01:29<00:00, 667.34it/s]\n"
     ]
    },
    {
     "name": "stdout",
     "output_type": "stream",
     "text": [
      "recent accuracy tensor(0.8628)\n",
      "approximate rank:  tensor([24., 25., 26.]) , dead neurons:  tensor([18., 17., 23.])\n"
     ]
    },
    {
     "name": "stderr",
     "output_type": "stream",
     "text": [
      "100%|██████████| 60000/60000 [01:27<00:00, 686.16it/s]\n"
     ]
    },
    {
     "name": "stdout",
     "output_type": "stream",
     "text": [
      "recent accuracy tensor(0.8563)\n",
      "approximate rank:  tensor([17., 16., 18.]) , dead neurons:  tensor([20., 45., 29.])\n"
     ]
    },
    {
     "name": "stderr",
     "output_type": "stream",
     "text": [
      "100%|██████████| 60000/60000 [01:28<00:00, 680.44it/s]\n"
     ]
    },
    {
     "name": "stdout",
     "output_type": "stream",
     "text": [
      "recent accuracy tensor(0.8645)\n",
      "approximate rank:  tensor([19., 22., 22.]) , dead neurons:  tensor([22., 24., 18.])\n"
     ]
    },
    {
     "name": "stderr",
     "output_type": "stream",
     "text": [
      "100%|██████████| 60000/60000 [01:30<00:00, 660.72it/s]\n"
     ]
    },
    {
     "name": "stdout",
     "output_type": "stream",
     "text": [
      "recent accuracy tensor(0.8583)\n",
      "approximate rank:  tensor([23., 28., 28.]) , dead neurons:  tensor([20., 15., 19.])\n"
     ]
    },
    {
     "name": "stderr",
     "output_type": "stream",
     "text": [
      "100%|██████████| 60000/60000 [01:28<00:00, 679.52it/s]\n"
     ]
    },
    {
     "name": "stdout",
     "output_type": "stream",
     "text": [
      "recent accuracy tensor(0.8521)\n",
      "approximate rank:  tensor([25., 39., 30.]) , dead neurons:  tensor([15.,  9., 17.])\n"
     ]
    },
    {
     "name": "stderr",
     "output_type": "stream",
     "text": [
      "100%|██████████| 60000/60000 [01:28<00:00, 681.08it/s]\n"
     ]
    },
    {
     "name": "stdout",
     "output_type": "stream",
     "text": [
      "recent accuracy tensor(0.8533)\n",
      "approximate rank:  tensor([23., 14., 15.]) , dead neurons:  tensor([19., 33., 21.])\n"
     ]
    },
    {
     "name": "stderr",
     "output_type": "stream",
     "text": [
      "100%|██████████| 60000/60000 [01:28<00:00, 680.78it/s]\n"
     ]
    },
    {
     "name": "stdout",
     "output_type": "stream",
     "text": [
      "recent accuracy tensor(0.8583)\n",
      "approximate rank:  tensor([29., 35., 23.]) , dead neurons:  tensor([19.,  9., 31.])\n"
     ]
    },
    {
     "name": "stderr",
     "output_type": "stream",
     "text": [
      "100%|██████████| 60000/60000 [01:30<00:00, 661.99it/s]\n"
     ]
    },
    {
     "name": "stdout",
     "output_type": "stream",
     "text": [
      "recent accuracy tensor(0.8536)\n"
     ]
    }
   ],
   "source": [
    "gen_cfg('/kaggle/working/lop/lop/permuted_mnist/cfg/bp/small_net.json')\n",
    "with open(f'temp_cfg/0.json', 'r') as f:\n",
    "    params = json.load(f)\n",
    "    online_expr(params)"
   ]
  },
  {
   "cell_type": "code",
   "execution_count": 22,
   "id": "c6b40668",
   "metadata": {
    "execution": {
     "iopub.execute_input": "2023-10-03T20:01:43.217503Z",
     "iopub.status.busy": "2023-10-03T20:01:43.216975Z",
     "iopub.status.idle": "2023-10-03T20:01:44.832886Z",
     "shell.execute_reply": "2023-10-03T20:01:44.831998Z"
    },
    "papermill": {
     "duration": 7.680819,
     "end_time": "2023-10-03T20:01:44.834622",
     "exception": false,
     "start_time": "2023-10-03T20:01:37.153803",
     "status": "completed"
    },
    "tags": []
   },
   "outputs": [
    {
     "name": "stderr",
     "output_type": "stream",
     "text": [
      "100%|██████████| 60/60 [00:00<00:00, 19030.42it/s]\n"
     ]
    },
    {
     "name": "stdout",
     "output_type": "stream",
     "text": [
      "(0.01,) 0 88.28261\n",
      "[array([[92.455   , 92.56333 , 92.13167 , 92.05666 , 91.685   , 91.10167 ,\n",
      "        90.775   , 90.62334 , 90.26667 , 89.34    , 90.50166 , 90.46833 ,\n",
      "        90.01    , 89.42834 , 90.055   , 89.67333 , 89.69833 , 89.78167 ,\n",
      "        89.365   , 89.11667 , 89.61    , 88.598335, 89.075   , 88.25833 ,\n",
      "        88.74834 , 88.44334 , 88.25166 , 88.605   , 88.89333 , 88.66333 ,\n",
      "        88.486664, 87.97    , 86.76833 , 86.655   , 87.82667 , 86.56333 ,\n",
      "        87.035   , 87.111664, 85.611664, 87.67167 , 87.79    , 85.475   ,\n",
      "        87.86833 , 87.066666, 86.628334, 86.793335, 87.096664, 86.82833 ,\n",
      "        87.53833 , 86.35833 , 85.99167 , 85.653336, 86.285   , 85.628334,\n",
      "        86.44833 , 85.83    , 85.21167 , 85.33    , 85.83    , 85.361664]],\n",
      "      dtype=float32)]\n"
     ]
    },
    {
     "data": {
      "text/plain": [
       "<matplotlib.image.AxesImage at 0x7dbbae0a3130>"
      ]
     },
     "execution_count": 22,
     "metadata": {},
     "output_type": "execute_result"
    },
    {
     "data": {
      "image/png": "[encoded data removed]",
      "text/plain": [
       "<Figure size 640x480 with 1 Axes>"
      ]
     },
     "metadata": {},
     "output_type": "display_data"
    }
   ],
   "source": [
    "bp_metrics('/kaggle/working/lop/lop/permuted_mnist/cfg/bp/small_net.json', 'accuracy')\n",
    "graph = np.asarray(Image.open('comparison.png'))\n",
    "plt.imshow(graph)"
   ]
  },
  {
   "cell_type": "code",
   "execution_count": 23,
   "id": "2b5f643f",
   "metadata": {
    "execution": {
     "iopub.execute_input": "2023-10-03T20:01:55.109526Z",
     "iopub.status.busy": "2023-10-03T20:01:55.109189Z",
     "iopub.status.idle": "2023-10-03T20:01:56.672781Z",
     "shell.execute_reply": "2023-10-03T20:01:56.671935Z"
    },
    "papermill": {
     "duration": 6.734272,
     "end_time": "2023-10-03T20:01:56.674459",
     "exception": false,
     "start_time": "2023-10-03T20:01:49.940187",
     "status": "completed"
    },
    "tags": []
   },
   "outputs": [
    {
     "name": "stderr",
     "output_type": "stream",
     "text": [
      "100%|██████████| 60/60 [00:00<00:00, 31702.98it/s]\n"
     ]
    },
    {
     "name": "stdout",
     "output_type": "stream",
     "text": [
      "(0.01,) 0 0.673889\n",
      "[array([[0.01666667, 0.        , 0.        , 0.03333333, 0.08333334,\n",
      "        0.28333333, 0.23333332, 0.25      , 0.38333333, 0.5333333 ,\n",
      "        0.28333333, 0.21666665, 0.25      , 0.4166667 , 0.5       ,\n",
      "        0.36666664, 0.3       , 0.45      , 0.65000004, 0.51666665,\n",
      "        0.5833333 , 0.6333333 , 0.5833333 , 0.5       , 0.70000005,\n",
      "        0.68333334, 0.68333334, 0.45      , 0.45      , 0.5333333 ,\n",
      "        0.48333332, 0.56666666, 1.2833333 , 0.9833333 , 0.76666665,\n",
      "        0.71666664, 1.1666666 , 0.96666664, 0.9       , 1.3000001 ,\n",
      "        1.0833334 , 1.4333333 , 0.8666666 , 0.76666665, 0.85      ,\n",
      "        0.8       , 0.8333334 , 0.9833333 , 0.8       , 1.0166667 ,\n",
      "        0.8       , 1.0333333 , 1.0833334 , 0.96666664, 1.5666667 ,\n",
      "        1.0666666 , 0.9       , 0.68333334, 1.2166667 , 0.9833333 ]],\n",
      "      dtype=float32)]\n"
     ]
    },
    {
     "data": {
      "text/plain": [
       "<matplotlib.image.AxesImage at 0x7dbbaeca4d00>"
      ]
     },
     "execution_count": 23,
     "metadata": {},
     "output_type": "execute_result"
    },
    {
     "data": {
      "image/png": "[encoded data removed]",
      "text/plain": [
       "<Figure size 640x480 with 1 Axes>"
      ]
     },
     "metadata": {},
     "output_type": "display_data"
    }
   ],
   "source": [
    "bp_metrics('/kaggle/working/lop/lop/permuted_mnist/cfg/bp/small_net.json', 'dead_neurons')\n",
    "graph = np.asarray(Image.open('comparison.png'))\n",
    "plt.imshow(graph)"
   ]
  },
  {
   "cell_type": "code",
   "execution_count": 24,
   "id": "3b1baab4",
   "metadata": {
    "execution": {
     "iopub.execute_input": "2023-10-03T20:02:07.118639Z",
     "iopub.status.busy": "2023-10-03T20:02:07.118292Z",
     "iopub.status.idle": "2023-10-03T20:02:08.763217Z",
     "shell.execute_reply": "2023-10-03T20:02:08.762389Z"
    },
    "papermill": {
     "duration": 6.736663,
     "end_time": "2023-10-03T20:02:08.764989",
     "exception": false,
     "start_time": "2023-10-03T20:02:02.028326",
     "status": "completed"
    },
    "tags": []
   },
   "outputs": [
    {
     "name": "stderr",
     "output_type": "stream",
     "text": [
      "100%|██████████| 60/60 [00:00<00:00, 17915.44it/s]\n"
     ]
    },
    {
     "name": "stdout",
     "output_type": "stream",
     "text": [
      "(0.01,) 0 0.0018731164\n",
      "[array([[0.00070541, 0.00081494, 0.00090561, 0.00098135, 0.00105013,\n",
      "        0.00111021, 0.00116652, 0.00122104, 0.00126829, 0.00131357,\n",
      "        0.00135593, 0.00139979, 0.00144268, 0.00148084, 0.00151741,\n",
      "        0.00155469, 0.0015888 , 0.00162403, 0.0016579 , 0.00169282,\n",
      "        0.00172301, 0.00175167, 0.00178452, 0.00181383, 0.00184325,\n",
      "        0.00187   , 0.00189319, 0.00191595, 0.00193771, 0.00196221,\n",
      "        0.00198727, 0.0020116 , 0.00203357, 0.00205559, 0.00207389,\n",
      "        0.00209577, 0.00211712, 0.00213655, 0.00215341, 0.00216932,\n",
      "        0.00218827, 0.00221061, 0.00223216, 0.00225226, 0.00227183,\n",
      "        0.00229184, 0.00230792, 0.00232633, 0.00234328, 0.00236045,\n",
      "        0.00237645, 0.00239157, 0.00240777, 0.00242086, 0.00243237,\n",
      "        0.00244444, 0.00246113, 0.00247778, 0.00249562, 0.00251267]],\n",
      "      dtype=float32)]\n"
     ]
    },
    {
     "data": {
      "text/plain": [
       "<matplotlib.image.AxesImage at 0x7dbbae784100>"
      ]
     },
     "execution_count": 24,
     "metadata": {},
     "output_type": "execute_result"
    },
    {
     "data": {
      "image/png": "[encoded data removed]",
      "text/plain": [
       "<Figure size 640x480 with 1 Axes>"
      ]
     },
     "metadata": {},
     "output_type": "display_data"
    }
   ],
   "source": [
    "bp_metrics('/kaggle/working/lop/lop/permuted_mnist/cfg/bp/small_net.json', 'weight')\n",
    "graph = np.asarray(Image.open('comparison.png'))\n",
    "plt.imshow(graph)"
   ]
  },
  {
   "cell_type": "code",
   "execution_count": 25,
   "id": "4933bd65",
   "metadata": {
    "execution": {
     "iopub.execute_input": "2023-10-03T20:02:19.969146Z",
     "iopub.status.busy": "2023-10-03T20:02:19.968814Z",
     "iopub.status.idle": "2023-10-03T20:02:21.506465Z",
     "shell.execute_reply": "2023-10-03T20:02:21.505608Z"
    },
    "papermill": {
     "duration": 6.750474,
     "end_time": "2023-10-03T20:02:21.508235",
     "exception": false,
     "start_time": "2023-10-03T20:02:14.757761",
     "status": "completed"
    },
    "tags": []
   },
   "outputs": [
    {
     "name": "stderr",
     "output_type": "stream",
     "text": [
      "100%|██████████| 60/60 [00:00<00:00, 36647.48it/s]\n"
     ]
    },
    {
     "name": "stdout",
     "output_type": "stream",
     "text": [
      "(0.01,) 0 1.6158065\n",
      "[array([[2.816396 , 2.9136083, 2.661766 , 2.3163474, 2.1429362, 1.6904625,\n",
      "        2.0317588, 2.2369177, 1.7997876, 1.4129657, 1.9187844, 2.0418277,\n",
      "        2.047741 , 1.496828 , 1.6001556, 1.8542417, 2.0610912, 1.831443 ,\n",
      "        1.5900339, 1.7073168, 1.808137 , 1.3569436, 1.6529202, 1.6797229,\n",
      "        1.6927257, 1.4330184, 1.5033829, 1.9990488, 1.4635262, 1.5816015,\n",
      "        1.6497543, 1.6452146, 1.0375513, 1.1371287, 1.3428928, 1.4522694,\n",
      "        1.0897388, 1.4128015, 1.1832289, 1.1986327, 1.1917247, 1.0420339,\n",
      "        1.3547256, 1.4920341, 1.388403 , 1.7131103, 1.4011112, 1.263613 ,\n",
      "        1.6570672, 1.3691362, 1.4577866, 1.3292259, 1.4251224, 1.4742916,\n",
      "        0.9593076, 1.2262092, 1.4732826, 1.6901157, 1.0064622, 1.5409795]],\n",
      "      dtype=float32)]\n"
     ]
    },
    {
     "data": {
      "text/plain": [
       "<matplotlib.image.AxesImage at 0x7dbbae66bdf0>"
      ]
     },
     "execution_count": 25,
     "metadata": {},
     "output_type": "execute_result"
    },
    {
     "data": {
      "image/png": "[encoded data removed]",
      "text/plain": [
       "<Figure size 640x480 with 1 Axes>"
      ]
     },
     "metadata": {},
     "output_type": "display_data"
    }
   ],
   "source": [
    "bp_metrics('/kaggle/working/lop/lop/permuted_mnist/cfg/bp/small_net.json', 'effective_rank')\n",
    "graph = np.asarray(Image.open('comparison.png'))\n",
    "plt.imshow(graph)"
   ]
  },
  {
   "cell_type": "code",
   "execution_count": 26,
   "id": "57d6150e",
   "metadata": {
    "execution": {
     "iopub.execute_input": "2023-10-03T20:02:31.802455Z",
     "iopub.status.busy": "2023-10-03T20:02:31.802090Z",
     "iopub.status.idle": "2023-10-03T20:02:33.879408Z",
     "shell.execute_reply": "2023-10-03T20:02:33.878099Z"
    },
    "papermill": {
     "duration": 7.026432,
     "end_time": "2023-10-03T20:02:33.881641",
     "exception": false,
     "start_time": "2023-10-03T20:02:26.855209",
     "status": "completed"
    },
    "tags": []
   },
   "outputs": [],
   "source": [
    "!mkdir data/adam\n",
    "!mkdir data/adam/0"
   ]
  },
  {
   "cell_type": "code",
   "execution_count": 27,
   "id": "9c76d6e0",
   "metadata": {
    "execution": {
     "iopub.execute_input": "2023-10-03T20:02:44.120626Z",
     "iopub.status.busy": "2023-10-03T20:02:44.119915Z",
     "iopub.status.idle": "2023-10-03T23:32:27.099800Z",
     "shell.execute_reply": "2023-10-03T23:32:27.098546Z"
    },
    "papermill": {
     "duration": 12588.122372,
     "end_time": "2023-10-03T23:32:27.101933",
     "exception": false,
     "start_time": "2023-10-03T20:02:38.979561",
     "status": "completed"
    },
    "tags": []
   },
   "outputs": [
    {
     "name": "stderr",
     "output_type": "stream",
     "text": [
      "100%|██████████| 10/10 [00:00<00:00, 3162.65it/s]\n",
      "100%|██████████| 10/10 [00:00<00:00, 3097.26it/s]\n",
      "100%|██████████| 10/10 [00:00<00:00, 2684.53it/s]\n"
     ]
    },
    {
     "name": "stdout",
     "output_type": "stream",
     "text": [
      "approximate rank:  tensor([693., 713., 649.]) , dead neurons:  tensor([ 0.,  2., 18.])\n"
     ]
    },
    {
     "name": "stderr",
     "output_type": "stream",
     "text": [
      "100%|██████████| 60000/60000 [03:25<00:00, 291.29it/s]\n"
     ]
    },
    {
     "name": "stdout",
     "output_type": "stream",
     "text": [
      "recent accuracy tensor(0.9427)\n",
      "approximate rank:  tensor([752., 341.,  38.]) , dead neurons:  tensor([  0., 210., 217.])\n"
     ]
    },
    {
     "name": "stderr",
     "output_type": "stream",
     "text": [
      "100%|██████████| 60000/60000 [03:27<00:00, 288.49it/s]\n"
     ]
    },
    {
     "name": "stdout",
     "output_type": "stream",
     "text": [
      "recent accuracy tensor(0.9429)\n",
      "approximate rank:  tensor([655., 143.,  12.]) , dead neurons:  tensor([  6., 315., 291.])\n"
     ]
    },
    {
     "name": "stderr",
     "output_type": "stream",
     "text": [
      "100%|██████████| 60000/60000 [03:26<00:00, 290.70it/s]\n"
     ]
    },
    {
     "name": "stdout",
     "output_type": "stream",
     "text": [
      "recent accuracy tensor(0.9423)\n",
      "approximate rank:  tensor([493.,  45.,  40.]) , dead neurons:  tensor([  9., 861., 773.])\n"
     ]
    },
    {
     "name": "stderr",
     "output_type": "stream",
     "text": [
      "100%|██████████| 60000/60000 [03:25<00:00, 292.53it/s]\n"
     ]
    },
    {
     "name": "stdout",
     "output_type": "stream",
     "text": [
      "recent accuracy tensor(0.9433)\n",
      "approximate rank:  tensor([410.,  24.,  11.]) , dead neurons:  tensor([ 12., 909., 893.])\n"
     ]
    },
    {
     "name": "stderr",
     "output_type": "stream",
     "text": [
      "100%|██████████| 60000/60000 [03:23<00:00, 294.12it/s]\n"
     ]
    },
    {
     "name": "stdout",
     "output_type": "stream",
     "text": [
      "recent accuracy tensor(0.9423)\n",
      "approximate rank:  tensor([281.,  10.,  37.]) , dead neurons:  tensor([   8., 1352., 1189.])\n"
     ]
    },
    {
     "name": "stderr",
     "output_type": "stream",
     "text": [
      "100%|██████████| 60000/60000 [03:24<00:00, 293.83it/s]\n"
     ]
    },
    {
     "name": "stdout",
     "output_type": "stream",
     "text": [
      "recent accuracy tensor(0.9460)\n",
      "approximate rank:  tensor([258.,  12.,  28.]) , dead neurons:  tensor([  19., 1309., 1131.])\n"
     ]
    },
    {
     "name": "stderr",
     "output_type": "stream",
     "text": [
      "100%|██████████| 60000/60000 [03:23<00:00, 294.55it/s]\n"
     ]
    },
    {
     "name": "stdout",
     "output_type": "stream",
     "text": [
      "recent accuracy tensor(0.9447)\n",
      "approximate rank:  tensor([189.,   8.,  48.]) , dead neurons:  tensor([  14., 1623., 1455.])\n"
     ]
    },
    {
     "name": "stderr",
     "output_type": "stream",
     "text": [
      "100%|██████████| 60000/60000 [03:24<00:00, 293.57it/s]\n"
     ]
    },
    {
     "name": "stdout",
     "output_type": "stream",
     "text": [
      "recent accuracy tensor(0.9442)\n",
      "approximate rank:  tensor([138.,   6.,  38.]) , dead neurons:  tensor([  22., 1688., 1447.])\n"
     ]
    },
    {
     "name": "stderr",
     "output_type": "stream",
     "text": [
      "100%|██████████| 60000/60000 [03:24<00:00, 293.97it/s]\n"
     ]
    },
    {
     "name": "stdout",
     "output_type": "stream",
     "text": [
      "recent accuracy tensor(0.9426)\n",
      "approximate rank:  tensor([127.,   8.,  38.]) , dead neurons:  tensor([  29., 1675., 1413.])\n"
     ]
    },
    {
     "name": "stderr",
     "output_type": "stream",
     "text": [
      "100%|██████████| 60000/60000 [03:23<00:00, 294.65it/s]\n"
     ]
    },
    {
     "name": "stdout",
     "output_type": "stream",
     "text": [
      "recent accuracy tensor(0.9433)\n",
      "approximate rank:  tensor([98.,  7., 23.]) , dead neurons:  tensor([  20., 1659., 1332.])\n"
     ]
    },
    {
     "name": "stderr",
     "output_type": "stream",
     "text": [
      "100%|██████████| 60000/60000 [03:24<00:00, 293.56it/s]\n"
     ]
    },
    {
     "name": "stdout",
     "output_type": "stream",
     "text": [
      "recent accuracy tensor(0.9417)\n",
      "approximate rank:  tensor([110.,   8.,  44.]) , dead neurons:  tensor([  16., 1760., 1413.])\n"
     ]
    },
    {
     "name": "stderr",
     "output_type": "stream",
     "text": [
      "100%|██████████| 60000/60000 [03:24<00:00, 293.39it/s]\n"
     ]
    },
    {
     "name": "stdout",
     "output_type": "stream",
     "text": [
      "recent accuracy tensor(0.9409)\n",
      "approximate rank:  tensor([83.,  7., 45.]) , dead neurons:  tensor([  42., 1832., 1521.])\n"
     ]
    },
    {
     "name": "stderr",
     "output_type": "stream",
     "text": [
      "100%|██████████| 60000/60000 [03:23<00:00, 294.93it/s]\n"
     ]
    },
    {
     "name": "stdout",
     "output_type": "stream",
     "text": [
      "recent accuracy tensor(0.9412)\n",
      "approximate rank:  tensor([75.,  7., 43.]) , dead neurons:  tensor([  32., 1854., 1478.])\n"
     ]
    },
    {
     "name": "stderr",
     "output_type": "stream",
     "text": [
      "100%|██████████| 60000/60000 [03:23<00:00, 294.18it/s]\n"
     ]
    },
    {
     "name": "stdout",
     "output_type": "stream",
     "text": [
      "recent accuracy tensor(0.9411)\n",
      "approximate rank:  tensor([61.,  7., 50.]) , dead neurons:  tensor([  45., 1908., 1531.])\n"
     ]
    },
    {
     "name": "stderr",
     "output_type": "stream",
     "text": [
      "100%|██████████| 60000/60000 [03:23<00:00, 295.29it/s]\n"
     ]
    },
    {
     "name": "stdout",
     "output_type": "stream",
     "text": [
      "recent accuracy tensor(0.9404)\n",
      "approximate rank:  tensor([74.,  8., 26.]) , dead neurons:  tensor([  38., 1837., 1318.])\n"
     ]
    },
    {
     "name": "stderr",
     "output_type": "stream",
     "text": [
      "100%|██████████| 60000/60000 [03:22<00:00, 296.38it/s]\n"
     ]
    },
    {
     "name": "stdout",
     "output_type": "stream",
     "text": [
      "recent accuracy tensor(0.9393)\n",
      "approximate rank:  tensor([61.,  6., 42.]) , dead neurons:  tensor([  41., 1893., 1420.])\n"
     ]
    },
    {
     "name": "stderr",
     "output_type": "stream",
     "text": [
      "100%|██████████| 60000/60000 [03:22<00:00, 296.00it/s]\n"
     ]
    },
    {
     "name": "stdout",
     "output_type": "stream",
     "text": [
      "recent accuracy tensor(0.9415)\n",
      "approximate rank:  tensor([49.,  5., 50.]) , dead neurons:  tensor([  53., 1927., 1531.])\n"
     ]
    },
    {
     "name": "stderr",
     "output_type": "stream",
     "text": [
      "100%|██████████| 60000/60000 [03:25<00:00, 292.64it/s]\n"
     ]
    },
    {
     "name": "stdout",
     "output_type": "stream",
     "text": [
      "recent accuracy tensor(0.9399)\n",
      "approximate rank:  tensor([40.,  4., 40.]) , dead neurons:  tensor([  64., 1929., 1450.])\n"
     ]
    },
    {
     "name": "stderr",
     "output_type": "stream",
     "text": [
      "100%|██████████| 60000/60000 [03:24<00:00, 293.77it/s]\n"
     ]
    },
    {
     "name": "stdout",
     "output_type": "stream",
     "text": [
      "recent accuracy tensor(0.9393)\n",
      "approximate rank:  tensor([35.,  4., 51.]) , dead neurons:  tensor([  72., 1948., 1517.])\n"
     ]
    },
    {
     "name": "stderr",
     "output_type": "stream",
     "text": [
      "100%|██████████| 60000/60000 [03:24<00:00, 293.12it/s]\n"
     ]
    },
    {
     "name": "stdout",
     "output_type": "stream",
     "text": [
      "recent accuracy tensor(0.9394)\n",
      "approximate rank:  tensor([32.,  3., 34.]) , dead neurons:  tensor([  68., 1960., 1664.])\n"
     ]
    },
    {
     "name": "stderr",
     "output_type": "stream",
     "text": [
      "100%|██████████| 60000/60000 [03:24<00:00, 294.06it/s]\n"
     ]
    },
    {
     "name": "stdout",
     "output_type": "stream",
     "text": [
      "recent accuracy tensor(0.9400)\n",
      "approximate rank:  tensor([34.,  4., 47.]) , dead neurons:  tensor([  75., 1954., 1516.])\n"
     ]
    },
    {
     "name": "stderr",
     "output_type": "stream",
     "text": [
      "100%|██████████| 60000/60000 [03:24<00:00, 293.52it/s]\n"
     ]
    },
    {
     "name": "stdout",
     "output_type": "stream",
     "text": [
      "recent accuracy tensor(0.9393)\n",
      "approximate rank:  tensor([25.,  3., 40.]) , dead neurons:  tensor([  82., 1963., 1572.])\n"
     ]
    },
    {
     "name": "stderr",
     "output_type": "stream",
     "text": [
      "100%|██████████| 60000/60000 [03:24<00:00, 293.70it/s]\n"
     ]
    },
    {
     "name": "stdout",
     "output_type": "stream",
     "text": [
      "recent accuracy tensor(0.9407)\n",
      "approximate rank:  tensor([31.,  4., 50.]) , dead neurons:  tensor([  71., 1948., 1437.])\n"
     ]
    },
    {
     "name": "stderr",
     "output_type": "stream",
     "text": [
      "100%|██████████| 60000/60000 [03:24<00:00, 292.85it/s]\n"
     ]
    },
    {
     "name": "stdout",
     "output_type": "stream",
     "text": [
      "recent accuracy tensor(0.9368)\n",
      "approximate rank:  tensor([19.,  2., 42.]) , dead neurons:  tensor([  74., 1975., 1743.])\n"
     ]
    },
    {
     "name": "stderr",
     "output_type": "stream",
     "text": [
      "100%|██████████| 60000/60000 [03:23<00:00, 294.30it/s]\n"
     ]
    },
    {
     "name": "stdout",
     "output_type": "stream",
     "text": [
      "recent accuracy tensor(0.9380)\n",
      "approximate rank:  tensor([16.,  1., 28.]) , dead neurons:  tensor([  79., 1971., 1652.])\n"
     ]
    },
    {
     "name": "stderr",
     "output_type": "stream",
     "text": [
      "100%|██████████| 60000/60000 [03:23<00:00, 294.49it/s]\n"
     ]
    },
    {
     "name": "stdout",
     "output_type": "stream",
     "text": [
      "recent accuracy tensor(0.9395)\n",
      "approximate rank:  tensor([14.,  1., 25.]) , dead neurons:  tensor([  81., 1972., 1710.])\n"
     ]
    },
    {
     "name": "stderr",
     "output_type": "stream",
     "text": [
      "100%|██████████| 60000/60000 [03:21<00:00, 298.23it/s]\n"
     ]
    },
    {
     "name": "stdout",
     "output_type": "stream",
     "text": [
      "recent accuracy tensor(0.9381)\n",
      "approximate rank:  tensor([20.,  2., 28.]) , dead neurons:  tensor([  81., 1975., 1693.])\n"
     ]
    },
    {
     "name": "stderr",
     "output_type": "stream",
     "text": [
      "100%|██████████| 60000/60000 [03:23<00:00, 295.13it/s]\n"
     ]
    },
    {
     "name": "stdout",
     "output_type": "stream",
     "text": [
      "recent accuracy tensor(0.9373)\n",
      "approximate rank:  tensor([13.,  1., 18.]) , dead neurons:  tensor([ 105., 1983., 1823.])\n"
     ]
    },
    {
     "name": "stderr",
     "output_type": "stream",
     "text": [
      "100%|██████████| 60000/60000 [03:20<00:00, 298.56it/s]\n"
     ]
    },
    {
     "name": "stdout",
     "output_type": "stream",
     "text": [
      "recent accuracy tensor(0.9375)\n",
      "approximate rank:  tensor([18.,  1., 21.]) , dead neurons:  tensor([  98., 1977., 1712.])\n"
     ]
    },
    {
     "name": "stderr",
     "output_type": "stream",
     "text": [
      "100%|██████████| 60000/60000 [03:22<00:00, 295.98it/s]\n"
     ]
    },
    {
     "name": "stdout",
     "output_type": "stream",
     "text": [
      "recent accuracy tensor(0.9382)\n",
      "approximate rank:  tensor([24.,  2., 40.]) , dead neurons:  tensor([  98., 1975., 1694.])\n"
     ]
    },
    {
     "name": "stderr",
     "output_type": "stream",
     "text": [
      "100%|██████████| 60000/60000 [03:20<00:00, 299.09it/s]\n"
     ]
    },
    {
     "name": "stdout",
     "output_type": "stream",
     "text": [
      "recent accuracy tensor(0.9373)\n",
      "approximate rank:  tensor([21.,  1., 21.]) , dead neurons:  tensor([  80., 1978., 1768.])\n"
     ]
    },
    {
     "name": "stderr",
     "output_type": "stream",
     "text": [
      "100%|██████████| 60000/60000 [03:24<00:00, 294.00it/s]\n"
     ]
    },
    {
     "name": "stdout",
     "output_type": "stream",
     "text": [
      "recent accuracy tensor(0.9373)\n",
      "approximate rank:  tensor([19.,  1., 37.]) , dead neurons:  tensor([  88., 1974., 1677.])\n"
     ]
    },
    {
     "name": "stderr",
     "output_type": "stream",
     "text": [
      "100%|██████████| 60000/60000 [03:20<00:00, 299.08it/s]\n"
     ]
    },
    {
     "name": "stdout",
     "output_type": "stream",
     "text": [
      "recent accuracy tensor(0.9374)\n",
      "approximate rank:  tensor([15.,  1., 31.]) , dead neurons:  tensor([  87., 1979., 1735.])\n"
     ]
    },
    {
     "name": "stderr",
     "output_type": "stream",
     "text": [
      "100%|██████████| 60000/60000 [03:22<00:00, 295.74it/s]\n"
     ]
    },
    {
     "name": "stdout",
     "output_type": "stream",
     "text": [
      "recent accuracy tensor(0.9374)\n",
      "approximate rank:  tensor([17.,  1., 30.]) , dead neurons:  tensor([ 102., 1978., 1754.])\n"
     ]
    },
    {
     "name": "stderr",
     "output_type": "stream",
     "text": [
      "100%|██████████| 60000/60000 [03:21<00:00, 298.24it/s]\n"
     ]
    },
    {
     "name": "stdout",
     "output_type": "stream",
     "text": [
      "recent accuracy tensor(0.9370)\n",
      "approximate rank:  tensor([14.,  1., 40.]) , dead neurons:  tensor([ 101., 1978., 1740.])\n"
     ]
    },
    {
     "name": "stderr",
     "output_type": "stream",
     "text": [
      "100%|██████████| 60000/60000 [03:22<00:00, 296.63it/s]\n"
     ]
    },
    {
     "name": "stdout",
     "output_type": "stream",
     "text": [
      "recent accuracy tensor(0.9362)\n",
      "approximate rank:  tensor([17.,  1., 36.]) , dead neurons:  tensor([ 104., 1978., 1699.])\n"
     ]
    },
    {
     "name": "stderr",
     "output_type": "stream",
     "text": [
      "100%|██████████| 60000/60000 [03:22<00:00, 296.09it/s]\n"
     ]
    },
    {
     "name": "stdout",
     "output_type": "stream",
     "text": [
      "recent accuracy tensor(0.9366)\n",
      "approximate rank:  tensor([13.,  1., 27.]) , dead neurons:  tensor([  99., 1981., 1750.])\n"
     ]
    },
    {
     "name": "stderr",
     "output_type": "stream",
     "text": [
      "100%|██████████| 60000/60000 [03:21<00:00, 298.34it/s]\n"
     ]
    },
    {
     "name": "stdout",
     "output_type": "stream",
     "text": [
      "recent accuracy tensor(0.9373)\n",
      "approximate rank:  tensor([10.,  1., 15.]) , dead neurons:  tensor([ 131., 1984., 1871.])\n"
     ]
    },
    {
     "name": "stderr",
     "output_type": "stream",
     "text": [
      "100%|██████████| 60000/60000 [03:23<00:00, 295.17it/s]\n"
     ]
    },
    {
     "name": "stdout",
     "output_type": "stream",
     "text": [
      "recent accuracy tensor(0.9354)\n",
      "approximate rank:  tensor([13.,  1., 17.]) , dead neurons:  tensor([ 143., 1982., 1843.])\n"
     ]
    },
    {
     "name": "stderr",
     "output_type": "stream",
     "text": [
      "100%|██████████| 60000/60000 [03:21<00:00, 297.80it/s]\n"
     ]
    },
    {
     "name": "stdout",
     "output_type": "stream",
     "text": [
      "recent accuracy tensor(0.9334)\n",
      "approximate rank:  tensor([18.,  1., 33.]) , dead neurons:  tensor([ 124., 1976., 1709.])\n"
     ]
    },
    {
     "name": "stderr",
     "output_type": "stream",
     "text": [
      "100%|██████████| 60000/60000 [03:22<00:00, 295.81it/s]\n"
     ]
    },
    {
     "name": "stdout",
     "output_type": "stream",
     "text": [
      "recent accuracy tensor(0.9330)\n",
      "approximate rank:  tensor([13.,  1., 24.]) , dead neurons:  tensor([ 135., 1982., 1810.])\n"
     ]
    },
    {
     "name": "stderr",
     "output_type": "stream",
     "text": [
      "100%|██████████| 60000/60000 [03:21<00:00, 297.33it/s]\n"
     ]
    },
    {
     "name": "stdout",
     "output_type": "stream",
     "text": [
      "recent accuracy tensor(0.9345)\n",
      "approximate rank:  tensor([12.,  1., 16.]) , dead neurons:  tensor([ 154., 1987., 1863.])\n"
     ]
    },
    {
     "name": "stderr",
     "output_type": "stream",
     "text": [
      "100%|██████████| 60000/60000 [03:23<00:00, 295.15it/s]\n"
     ]
    },
    {
     "name": "stdout",
     "output_type": "stream",
     "text": [
      "recent accuracy tensor(0.9351)\n",
      "approximate rank:  tensor([19.,  1., 26.]) , dead neurons:  tensor([ 127., 1977., 1711.])\n"
     ]
    },
    {
     "name": "stderr",
     "output_type": "stream",
     "text": [
      "100%|██████████| 60000/60000 [03:21<00:00, 298.04it/s]\n"
     ]
    },
    {
     "name": "stdout",
     "output_type": "stream",
     "text": [
      "recent accuracy tensor(0.9350)\n",
      "approximate rank:  tensor([14.,  1., 30.]) , dead neurons:  tensor([ 138., 1985., 1799.])\n"
     ]
    },
    {
     "name": "stderr",
     "output_type": "stream",
     "text": [
      "100%|██████████| 60000/60000 [03:24<00:00, 294.11it/s]\n"
     ]
    },
    {
     "name": "stdout",
     "output_type": "stream",
     "text": [
      "recent accuracy tensor(0.9332)\n",
      "approximate rank:  tensor([19.,  1., 26.]) , dead neurons:  tensor([ 137., 1980., 1736.])\n"
     ]
    },
    {
     "name": "stderr",
     "output_type": "stream",
     "text": [
      "100%|██████████| 60000/60000 [03:21<00:00, 298.12it/s]\n"
     ]
    },
    {
     "name": "stdout",
     "output_type": "stream",
     "text": [
      "recent accuracy tensor(0.9323)\n",
      "approximate rank:  tensor([14.,  1., 21.]) , dead neurons:  tensor([ 149., 1985., 1861.])\n"
     ]
    },
    {
     "name": "stderr",
     "output_type": "stream",
     "text": [
      "100%|██████████| 60000/60000 [03:24<00:00, 294.03it/s]\n"
     ]
    },
    {
     "name": "stdout",
     "output_type": "stream",
     "text": [
      "recent accuracy tensor(0.9313)\n",
      "approximate rank:  tensor([14.,  1., 18.]) , dead neurons:  tensor([ 152., 1988., 1884.])\n"
     ]
    },
    {
     "name": "stderr",
     "output_type": "stream",
     "text": [
      "100%|██████████| 60000/60000 [03:21<00:00, 297.79it/s]\n"
     ]
    },
    {
     "name": "stdout",
     "output_type": "stream",
     "text": [
      "recent accuracy tensor(0.9339)\n",
      "approximate rank:  tensor([23.,  1., 26.]) , dead neurons:  tensor([ 146., 1978., 1719.])\n"
     ]
    },
    {
     "name": "stderr",
     "output_type": "stream",
     "text": [
      "100%|██████████| 60000/60000 [03:23<00:00, 294.15it/s]\n"
     ]
    },
    {
     "name": "stdout",
     "output_type": "stream",
     "text": [
      "recent accuracy tensor(0.9305)\n",
      "approximate rank:  tensor([17.,  1., 22.]) , dead neurons:  tensor([ 145., 1987., 1900.])\n"
     ]
    },
    {
     "name": "stderr",
     "output_type": "stream",
     "text": [
      "100%|██████████| 60000/60000 [03:21<00:00, 297.65it/s]\n"
     ]
    },
    {
     "name": "stdout",
     "output_type": "stream",
     "text": [
      "recent accuracy tensor(0.9341)\n",
      "approximate rank:  tensor([24.,  2., 15.]) , dead neurons:  tensor([ 135., 1972., 1609.])\n"
     ]
    },
    {
     "name": "stderr",
     "output_type": "stream",
     "text": [
      "100%|██████████| 60000/60000 [03:23<00:00, 294.99it/s]\n"
     ]
    },
    {
     "name": "stdout",
     "output_type": "stream",
     "text": [
      "recent accuracy tensor(0.9305)\n",
      "approximate rank:  tensor([24.,  1., 27.]) , dead neurons:  tensor([ 142., 1977., 1708.])\n"
     ]
    },
    {
     "name": "stderr",
     "output_type": "stream",
     "text": [
      "100%|██████████| 60000/60000 [03:22<00:00, 296.96it/s]\n"
     ]
    },
    {
     "name": "stdout",
     "output_type": "stream",
     "text": [
      "recent accuracy tensor(0.9323)\n",
      "approximate rank:  tensor([19.,  1., 21.]) , dead neurons:  tensor([ 153., 1982., 1790.])\n"
     ]
    },
    {
     "name": "stderr",
     "output_type": "stream",
     "text": [
      "100%|██████████| 60000/60000 [03:22<00:00, 295.99it/s]\n"
     ]
    },
    {
     "name": "stdout",
     "output_type": "stream",
     "text": [
      "recent accuracy tensor(0.9311)\n",
      "approximate rank:  tensor([24.,  1., 20.]) , dead neurons:  tensor([ 169., 1979., 1761.])\n"
     ]
    },
    {
     "name": "stderr",
     "output_type": "stream",
     "text": [
      "100%|██████████| 60000/60000 [03:22<00:00, 295.79it/s]\n"
     ]
    },
    {
     "name": "stdout",
     "output_type": "stream",
     "text": [
      "recent accuracy tensor(0.9284)\n",
      "approximate rank:  tensor([24.,  1., 22.]) , dead neurons:  tensor([ 162., 1983., 1778.])\n"
     ]
    },
    {
     "name": "stderr",
     "output_type": "stream",
     "text": [
      "100%|██████████| 60000/60000 [03:21<00:00, 297.50it/s]\n"
     ]
    },
    {
     "name": "stdout",
     "output_type": "stream",
     "text": [
      "recent accuracy tensor(0.9300)\n",
      "approximate rank:  tensor([20.,  1., 27.]) , dead neurons:  tensor([ 168., 1979., 1801.])\n"
     ]
    },
    {
     "name": "stderr",
     "output_type": "stream",
     "text": [
      "100%|██████████| 60000/60000 [03:23<00:00, 294.87it/s]\n"
     ]
    },
    {
     "name": "stdout",
     "output_type": "stream",
     "text": [
      "recent accuracy tensor(0.9297)\n",
      "approximate rank:  tensor([20.,  1., 18.]) , dead neurons:  tensor([ 197., 1980., 1783.])\n"
     ]
    },
    {
     "name": "stderr",
     "output_type": "stream",
     "text": [
      "100%|██████████| 60000/60000 [03:21<00:00, 297.67it/s]\n"
     ]
    },
    {
     "name": "stdout",
     "output_type": "stream",
     "text": [
      "recent accuracy tensor(0.9296)\n",
      "approximate rank:  tensor([25.,  1., 24.]) , dead neurons:  tensor([ 201., 1981., 1794.])\n"
     ]
    },
    {
     "name": "stderr",
     "output_type": "stream",
     "text": [
      "100%|██████████| 60000/60000 [03:24<00:00, 293.43it/s]\n"
     ]
    },
    {
     "name": "stdout",
     "output_type": "stream",
     "text": [
      "recent accuracy tensor(0.9298)\n",
      "approximate rank:  tensor([21.,  1., 15.]) , dead neurons:  tensor([ 184., 1982., 1905.])\n"
     ]
    },
    {
     "name": "stderr",
     "output_type": "stream",
     "text": [
      "100%|██████████| 60000/60000 [03:21<00:00, 297.76it/s]\n"
     ]
    },
    {
     "name": "stdout",
     "output_type": "stream",
     "text": [
      "recent accuracy tensor(0.9316)\n",
      "approximate rank:  tensor([24.,  1., 19.]) , dead neurons:  tensor([ 178., 1979., 1746.])\n"
     ]
    },
    {
     "name": "stderr",
     "output_type": "stream",
     "text": [
      "100%|██████████| 60000/60000 [03:24<00:00, 292.87it/s]\n"
     ]
    },
    {
     "name": "stdout",
     "output_type": "stream",
     "text": [
      "recent accuracy tensor(0.9328)\n"
     ]
    }
   ],
   "source": [
    "gen_cfg('/kaggle/working/lop/lop/permuted_mnist/cfg/adam.json')\n",
    "with open(f'temp_cfg/0.json', 'r') as f:\n",
    "    params = json.load(f)\n",
    "    online_expr(params)"
   ]
  },
  {
   "cell_type": "code",
   "execution_count": 28,
   "id": "bd03213b",
   "metadata": {
    "execution": {
     "iopub.execute_input": "2023-10-03T23:32:48.925326Z",
     "iopub.status.busy": "2023-10-03T23:32:48.924976Z",
     "iopub.status.idle": "2023-10-03T23:32:50.506802Z",
     "shell.execute_reply": "2023-10-03T23:32:50.505924Z"
    },
    "papermill": {
     "duration": 12.823138,
     "end_time": "2023-10-03T23:32:50.508882",
     "exception": false,
     "start_time": "2023-10-03T23:32:37.685744",
     "status": "completed"
    },
    "tags": []
   },
   "outputs": [
    {
     "name": "stderr",
     "output_type": "stream",
     "text": [
      "100%|██████████| 60/60 [00:00<00:00, 19033.30it/s]\n"
     ]
    },
    {
     "name": "stdout",
     "output_type": "stream",
     "text": [
      "(0.0001,) 0 93.71429\n",
      "[array([[94.26667 , 94.28833 , 94.22667 , 94.33    , 94.235   , 94.596664,\n",
      "        94.46833 , 94.42167 , 94.261665, 94.32833 , 94.166664, 94.08833 ,\n",
      "        94.11667 , 94.10667 , 94.043335, 93.92834 , 94.15    , 93.988335,\n",
      "        93.92667 , 93.93667 , 94.003334, 93.92834 , 94.07166 , 93.683334,\n",
      "        93.8     , 93.95167 , 93.81    , 93.73333 , 93.74834 , 93.81834 ,\n",
      "        93.72667 , 93.72667 , 93.74167 , 93.745   , 93.7     , 93.62    ,\n",
      "        93.65833 , 93.73167 , 93.545   , 93.33667 , 93.29667 , 93.44833 ,\n",
      "        93.513336, 93.496666, 93.32    , 93.235   , 93.135   , 93.39    ,\n",
      "        93.055   , 93.41333 , 93.055   , 93.22833 , 93.111664, 92.845   ,\n",
      "        93.005   , 92.971664, 92.96    , 92.98    , 93.16333 , 93.278336]],\n",
      "      dtype=float32)]\n"
     ]
    },
    {
     "data": {
      "text/plain": [
       "<matplotlib.image.AxesImage at 0x7dbbae571db0>"
      ]
     },
     "execution_count": 28,
     "metadata": {},
     "output_type": "execute_result"
    },
    {
     "data": {
      "image/png": "[encoded data removed]",
      "text/plain": [
       "<Figure size 640x480 with 1 Axes>"
      ]
     },
     "metadata": {},
     "output_type": "display_data"
    }
   ],
   "source": [
    "bp_metrics('/kaggle/working/lop/lop/permuted_mnist/cfg/adam.json', 'accuracy')\n",
    "graph = np.asarray(Image.open('comparison.png'))\n",
    "plt.imshow(graph)"
   ]
  },
  {
   "cell_type": "code",
   "execution_count": 29,
   "id": "934bb26f",
   "metadata": {
    "execution": {
     "iopub.execute_input": "2023-10-03T23:33:11.735483Z",
     "iopub.status.busy": "2023-10-03T23:33:11.735130Z",
     "iopub.status.idle": "2023-10-03T23:33:13.392351Z",
     "shell.execute_reply": "2023-10-03T23:33:13.391110Z"
    },
    "papermill": {
     "duration": 12.121254,
     "end_time": "2023-10-03T23:33:13.394176",
     "exception": false,
     "start_time": "2023-10-03T23:33:01.272922",
     "status": "completed"
    },
    "tags": []
   },
   "outputs": [
    {
     "name": "stderr",
     "output_type": "stream",
     "text": [
      "100%|██████████| 60/60 [00:00<00:00, 34797.88it/s]\n"
     ]
    },
    {
     "name": "stdout",
     "output_type": "stream",
     "text": [
      "(0.0001,) 0 57.255\n",
      "[array([[ 0.33333334,  7.1166663 , 10.2       , 27.383333  , 30.233332  ,\n",
      "        42.483334  , 40.983334  , 51.533337  , 52.61667   , 51.95      ,\n",
      "        50.18333   , 53.149998  , 56.583332  , 56.06667   , 58.066666  ,\n",
      "        53.216667  , 55.9       , 58.51667   , 57.383335  , 58.95      ,\n",
      "        61.533333  , 59.083332  , 60.283333  , 57.6       , 63.200005  ,\n",
      "        61.699997  , 62.716667  , 62.483334  , 65.183334  , 63.116665  ,\n",
      "        62.78333   , 63.766663  , 62.31667   , 63.35      , 63.9       ,\n",
      "        63.65      , 63.016666  , 63.833332  , 66.433334  , 66.13333   ,\n",
      "        63.483334  , 65.45      , 66.73333   , 63.583332  , 65.36667   ,\n",
      "        64.21667   , 66.583336  , 67.066666  , 64.05      , 67.2       ,\n",
      "        61.933334  , 63.783337  , 65.416664  , 65.15      , 65.38333   ,\n",
      "        65.8       , 66.        , 66.26667   , 67.85      , 65.05      ]],\n",
      "      dtype=float32)]\n"
     ]
    },
    {
     "data": {
      "text/plain": [
       "<matplotlib.image.AxesImage at 0x7dbbae24b670>"
      ]
     },
     "execution_count": 29,
     "metadata": {},
     "output_type": "execute_result"
    },
    {
     "data": {
      "image/png": "[encoded data removed]",
      "text/plain": [
       "<Figure size 640x480 with 1 Axes>"
      ]
     },
     "metadata": {},
     "output_type": "display_data"
    }
   ],
   "source": [
    "bp_metrics('/kaggle/working/lop/lop/permuted_mnist/cfg/adam.json', 'dead_neurons')\n",
    "graph = np.asarray(Image.open('comparison.png'))\n",
    "plt.imshow(graph)"
   ]
  },
  {
   "cell_type": "code",
   "execution_count": 30,
   "id": "fde8cabf",
   "metadata": {
    "execution": {
     "iopub.execute_input": "2023-10-03T23:33:35.544367Z",
     "iopub.status.busy": "2023-10-03T23:33:35.544010Z",
     "iopub.status.idle": "2023-10-03T23:33:37.161784Z",
     "shell.execute_reply": "2023-10-03T23:33:37.160918Z"
    },
    "papermill": {
     "duration": 12.170521,
     "end_time": "2023-10-03T23:33:37.163522",
     "exception": false,
     "start_time": "2023-10-03T23:33:24.993001",
     "status": "completed"
    },
    "tags": []
   },
   "outputs": [
    {
     "name": "stderr",
     "output_type": "stream",
     "text": [
      "100%|██████████| 60/60 [00:00<00:00, 20526.77it/s]\n"
     ]
    },
    {
     "name": "stdout",
     "output_type": "stream",
     "text": [
      "(0.0001,) 0 0.041898098\n",
      "[array([[0.03147535, 0.03349293, 0.03470828, 0.0355507 , 0.03618611,\n",
      "        0.03672293, 0.03716193, 0.03755602, 0.03792102, 0.03823898,\n",
      "        0.03854148, 0.03882144, 0.03909489, 0.03934512, 0.03959971,\n",
      "        0.03983413, 0.04006788, 0.04029744, 0.040511  , 0.04070947,\n",
      "        0.0409185 , 0.04112557, 0.04132545, 0.04152   , 0.04171043,\n",
      "        0.04188967, 0.04205789, 0.042229  , 0.04239746, 0.04256373,\n",
      "        0.04272955, 0.04289175, 0.04305391, 0.04321029, 0.0433638 ,\n",
      "        0.04351533, 0.0436602 , 0.0437959 , 0.04392825, 0.04406161,\n",
      "        0.0441902 , 0.04431481, 0.04443608, 0.04455442, 0.04467796,\n",
      "        0.04479329, 0.04491105, 0.04502643, 0.04514118, 0.04525925,\n",
      "        0.04537236, 0.04548748, 0.04560706, 0.04572137, 0.045833  ,\n",
      "        0.04594648, 0.04605634, 0.04615657, 0.04625661, 0.0463591 ]],\n",
      "      dtype=float32)]\n"
     ]
    },
    {
     "data": {
      "text/plain": [
       "<matplotlib.image.AxesImage at 0x7dbbae1464d0>"
      ]
     },
     "execution_count": 30,
     "metadata": {},
     "output_type": "execute_result"
    },
    {
     "data": {
      "image/png": "[encoded data removed]",
      "text/plain": [
       "<Figure size 640x480 with 1 Axes>"
      ]
     },
     "metadata": {},
     "output_type": "display_data"
    }
   ],
   "source": [
    "bp_metrics('/kaggle/working/lop/lop/permuted_mnist/cfg/adam.json', 'weight')\n",
    "graph = np.asarray(Image.open('comparison.png'))\n",
    "plt.imshow(graph)"
   ]
  },
  {
   "cell_type": "code",
   "execution_count": 31,
   "id": "f56a06c3",
   "metadata": {
    "execution": {
     "iopub.execute_input": "2023-10-03T23:33:59.563584Z",
     "iopub.status.busy": "2023-10-03T23:33:59.563234Z",
     "iopub.status.idle": "2023-10-03T23:34:01.498085Z",
     "shell.execute_reply": "2023-10-03T23:34:01.497218Z"
    },
    "papermill": {
     "duration": 13.486232,
     "end_time": "2023-10-03T23:34:01.499887",
     "exception": false,
     "start_time": "2023-10-03T23:33:48.013655",
     "status": "completed"
    },
    "tags": []
   },
   "outputs": [
    {
     "name": "stderr",
     "output_type": "stream",
     "text": [
      "100%|██████████| 60/60 [00:00<00:00, 33008.69it/s]\n"
     ]
    },
    {
     "name": "stdout",
     "output_type": "stream",
     "text": [
      "(0.0001,) 0 7.7702484\n",
      "[array([[40.782345 , 27.47311  , 21.82986  , 17.491125 , 14.813788 ,\n",
      "        12.424512 , 12.140153 , 10.739898 ,  9.509582 ,  9.517638 ,\n",
      "         8.686903 ,  9.422324 ,  8.531611 ,  8.325687 ,  7.883036 ,\n",
      "         8.494954 ,  7.892129 ,  7.4212527,  6.992002 ,  6.7878246,\n",
      "         6.349361 ,  6.845231 ,  6.1086493,  6.7639832,  5.733525 ,\n",
      "         5.301779 ,  5.026309 ,  5.5614405,  4.9379187,  5.129352 ,\n",
      "         5.881074 ,  5.380677 ,  5.5939107,  5.2473526,  5.1626587,\n",
      "         5.2682004,  5.3265533,  5.091701 ,  4.1829963,  4.5815425,\n",
      "         5.273812 ,  4.576576 ,  4.4252152,  5.140381 ,  4.8136926,\n",
      "         4.9885936,  4.7103176,  4.6788287,  5.242976 ,  4.912786 ,\n",
      "         5.334627 ,  5.3070683,  4.986437 ,  5.1644206,  5.155084 ,\n",
      "         5.0165663,  4.730464 ,  5.1603374,  4.8204365,  5.142293 ]],\n",
      "      dtype=float32)]\n"
     ]
    },
    {
     "data": {
      "text/plain": [
       "<matplotlib.image.AxesImage at 0x7dbbae1293c0>"
      ]
     },
     "execution_count": 31,
     "metadata": {},
     "output_type": "execute_result"
    },
    {
     "data": {
      "image/png": "[encoded data removed]",
      "text/plain": [
       "<Figure size 640x480 with 1 Axes>"
      ]
     },
     "metadata": {},
     "output_type": "display_data"
    }
   ],
   "source": [
    "bp_metrics('/kaggle/working/lop/lop/permuted_mnist/cfg/adam.json', 'effective_rank')\n",
    "graph = np.asarray(Image.open('comparison.png'))\n",
    "plt.imshow(graph)"
   ]
  },
  {
   "cell_type": "code",
   "execution_count": 32,
   "id": "d95de230",
   "metadata": {
    "execution": {
     "iopub.execute_input": "2023-10-03T23:34:22.778413Z",
     "iopub.status.busy": "2023-10-03T23:34:22.777992Z",
     "iopub.status.idle": "2023-10-03T23:34:25.097108Z",
     "shell.execute_reply": "2023-10-03T23:34:25.095786Z"
    },
    "papermill": {
     "duration": 13.055314,
     "end_time": "2023-10-03T23:34:25.099515",
     "exception": false,
     "start_time": "2023-10-03T23:34:12.044201",
     "status": "completed"
    },
    "tags": []
   },
   "outputs": [],
   "source": [
    "!mkdir data/cbp\n",
    "!mkdir data/cbp/0"
   ]
  },
  {
   "cell_type": "code",
   "execution_count": 33,
   "id": "ea0f5aa1",
   "metadata": {
    "execution": {
     "iopub.execute_input": "2023-10-03T23:34:46.247071Z",
     "iopub.status.busy": "2023-10-03T23:34:46.246664Z",
     "iopub.status.idle": "2023-10-04T02:33:04.692768Z",
     "shell.execute_reply": "2023-10-04T02:33:04.691754Z"
    },
    "papermill": {
     "duration": 10709.034973,
     "end_time": "2023-10-04T02:33:04.694937",
     "exception": false,
     "start_time": "2023-10-03T23:34:35.659964",
     "status": "completed"
    },
    "tags": []
   },
   "outputs": [
    {
     "name": "stdout",
     "output_type": "stream",
     "text": [
      "approximate rank:  tensor([321., 280., 228.]) , dead neurons:  tensor([0., 0., 4.])\n"
     ]
    },
    {
     "name": "stderr",
     "output_type": "stream",
     "text": [
      "100%|██████████| 60000/60000 [02:55<00:00, 342.79it/s]\n"
     ]
    },
    {
     "name": "stdout",
     "output_type": "stream",
     "text": [
      "recent accuracy tensor(0.9327)\n",
      "approximate rank:  tensor([320., 306., 270.]) , dead neurons:  tensor([0., 0., 0.])\n"
     ]
    },
    {
     "name": "stderr",
     "output_type": "stream",
     "text": [
      "100%|██████████| 60000/60000 [02:54<00:00, 344.76it/s]\n"
     ]
    },
    {
     "name": "stdout",
     "output_type": "stream",
     "text": [
      "recent accuracy tensor(0.9408)\n",
      "approximate rank:  tensor([325., 301., 260.]) , dead neurons:  tensor([0., 0., 0.])\n"
     ]
    },
    {
     "name": "stderr",
     "output_type": "stream",
     "text": [
      "100%|██████████| 60000/60000 [02:54<00:00, 343.57it/s]\n"
     ]
    },
    {
     "name": "stdout",
     "output_type": "stream",
     "text": [
      "recent accuracy tensor(0.9422)\n",
      "approximate rank:  tensor([324., 311., 272.]) , dead neurons:  tensor([0., 0., 1.])\n"
     ]
    },
    {
     "name": "stderr",
     "output_type": "stream",
     "text": [
      "100%|██████████| 60000/60000 [02:59<00:00, 333.58it/s]\n"
     ]
    },
    {
     "name": "stdout",
     "output_type": "stream",
     "text": [
      "recent accuracy tensor(0.9448)\n",
      "approximate rank:  tensor([312., 240., 175.]) , dead neurons:  tensor([0., 1., 3.])\n"
     ]
    },
    {
     "name": "stderr",
     "output_type": "stream",
     "text": [
      "100%|██████████| 60000/60000 [02:55<00:00, 341.89it/s]\n"
     ]
    },
    {
     "name": "stdout",
     "output_type": "stream",
     "text": [
      "recent accuracy tensor(0.9434)\n",
      "approximate rank:  tensor([320., 283., 235.]) , dead neurons:  tensor([0., 0., 0.])\n"
     ]
    },
    {
     "name": "stderr",
     "output_type": "stream",
     "text": [
      "100%|██████████| 60000/60000 [02:54<00:00, 344.29it/s]\n"
     ]
    },
    {
     "name": "stdout",
     "output_type": "stream",
     "text": [
      "recent accuracy tensor(0.9421)\n",
      "approximate rank:  tensor([312., 214., 150.]) , dead neurons:  tensor([0., 1., 4.])\n"
     ]
    },
    {
     "name": "stderr",
     "output_type": "stream",
     "text": [
      "100%|██████████| 60000/60000 [02:54<00:00, 343.94it/s]\n"
     ]
    },
    {
     "name": "stdout",
     "output_type": "stream",
     "text": [
      "recent accuracy tensor(0.9429)\n",
      "approximate rank:  tensor([332., 221., 171.]) , dead neurons:  tensor([0., 5., 4.])\n"
     ]
    },
    {
     "name": "stderr",
     "output_type": "stream",
     "text": [
      "100%|██████████| 60000/60000 [03:00<00:00, 331.56it/s]\n"
     ]
    },
    {
     "name": "stdout",
     "output_type": "stream",
     "text": [
      "recent accuracy tensor(0.9449)\n",
      "approximate rank:  tensor([308., 189., 105.]) , dead neurons:  tensor([0., 6., 8.])\n"
     ]
    },
    {
     "name": "stderr",
     "output_type": "stream",
     "text": [
      "100%|██████████| 60000/60000 [02:54<00:00, 343.42it/s]\n"
     ]
    },
    {
     "name": "stdout",
     "output_type": "stream",
     "text": [
      "recent accuracy tensor(0.9440)\n",
      "approximate rank:  tensor([321., 206., 141.]) , dead neurons:  tensor([0., 3., 1.])\n"
     ]
    },
    {
     "name": "stderr",
     "output_type": "stream",
     "text": [
      "100%|██████████| 60000/60000 [02:54<00:00, 343.11it/s]\n"
     ]
    },
    {
     "name": "stdout",
     "output_type": "stream",
     "text": [
      "recent accuracy tensor(0.9436)\n",
      "approximate rank:  tensor([322., 192., 125.]) , dead neurons:  tensor([0., 0., 0.])\n"
     ]
    },
    {
     "name": "stderr",
     "output_type": "stream",
     "text": [
      "100%|██████████| 60000/60000 [02:54<00:00, 343.74it/s]\n"
     ]
    },
    {
     "name": "stdout",
     "output_type": "stream",
     "text": [
      "recent accuracy tensor(0.9445)\n",
      "approximate rank:  tensor([324., 211., 138.]) , dead neurons:  tensor([0., 1., 2.])\n"
     ]
    },
    {
     "name": "stderr",
     "output_type": "stream",
     "text": [
      "100%|██████████| 60000/60000 [03:01<00:00, 331.06it/s]\n"
     ]
    },
    {
     "name": "stdout",
     "output_type": "stream",
     "text": [
      "recent accuracy tensor(0.9432)\n",
      "approximate rank:  tensor([327., 205., 132.]) , dead neurons:  tensor([0., 1., 2.])\n"
     ]
    },
    {
     "name": "stderr",
     "output_type": "stream",
     "text": [
      "100%|██████████| 60000/60000 [02:54<00:00, 343.02it/s]\n"
     ]
    },
    {
     "name": "stdout",
     "output_type": "stream",
     "text": [
      "recent accuracy tensor(0.9450)\n",
      "approximate rank:  tensor([329., 210.,  98.]) , dead neurons:  tensor([0., 1., 2.])\n"
     ]
    },
    {
     "name": "stderr",
     "output_type": "stream",
     "text": [
      "100%|██████████| 60000/60000 [02:55<00:00, 342.45it/s]\n"
     ]
    },
    {
     "name": "stdout",
     "output_type": "stream",
     "text": [
      "recent accuracy tensor(0.9456)\n",
      "approximate rank:  tensor([326., 192.,  94.]) , dead neurons:  tensor([ 0.,  2., 13.])\n"
     ]
    },
    {
     "name": "stderr",
     "output_type": "stream",
     "text": [
      "100%|██████████| 60000/60000 [02:56<00:00, 339.15it/s]\n"
     ]
    },
    {
     "name": "stdout",
     "output_type": "stream",
     "text": [
      "recent accuracy tensor(0.9456)\n",
      "approximate rank:  tensor([318., 179., 112.]) , dead neurons:  tensor([1., 1., 4.])\n"
     ]
    },
    {
     "name": "stderr",
     "output_type": "stream",
     "text": [
      "100%|██████████| 60000/60000 [02:59<00:00, 333.86it/s]\n"
     ]
    },
    {
     "name": "stdout",
     "output_type": "stream",
     "text": [
      "recent accuracy tensor(0.9444)\n",
      "approximate rank:  tensor([323., 215., 141.]) , dead neurons:  tensor([0., 0., 1.])\n"
     ]
    },
    {
     "name": "stderr",
     "output_type": "stream",
     "text": [
      "100%|██████████| 60000/60000 [02:55<00:00, 341.82it/s]\n"
     ]
    },
    {
     "name": "stdout",
     "output_type": "stream",
     "text": [
      "recent accuracy tensor(0.9451)\n",
      "approximate rank:  tensor([318., 189., 117.]) , dead neurons:  tensor([0., 1., 2.])\n"
     ]
    },
    {
     "name": "stderr",
     "output_type": "stream",
     "text": [
      "100%|██████████| 60000/60000 [02:54<00:00, 344.22it/s]\n"
     ]
    },
    {
     "name": "stdout",
     "output_type": "stream",
     "text": [
      "recent accuracy tensor(0.9457)\n",
      "approximate rank:  tensor([327., 185.,  87.]) , dead neurons:  tensor([ 0.,  1., 16.])\n"
     ]
    },
    {
     "name": "stderr",
     "output_type": "stream",
     "text": [
      "100%|██████████| 60000/60000 [02:57<00:00, 338.12it/s]\n"
     ]
    },
    {
     "name": "stdout",
     "output_type": "stream",
     "text": [
      "recent accuracy tensor(0.9463)\n",
      "approximate rank:  tensor([313., 154.,  90.]) , dead neurons:  tensor([0., 3., 9.])\n"
     ]
    },
    {
     "name": "stderr",
     "output_type": "stream",
     "text": [
      "100%|██████████| 60000/60000 [02:59<00:00, 334.24it/s]\n"
     ]
    },
    {
     "name": "stdout",
     "output_type": "stream",
     "text": [
      "recent accuracy tensor(0.9457)\n",
      "approximate rank:  tensor([322., 182., 115.]) , dead neurons:  tensor([0., 5., 6.])\n"
     ]
    },
    {
     "name": "stderr",
     "output_type": "stream",
     "text": [
      "100%|██████████| 60000/60000 [02:55<00:00, 341.70it/s]\n"
     ]
    },
    {
     "name": "stdout",
     "output_type": "stream",
     "text": [
      "recent accuracy tensor(0.9448)\n",
      "approximate rank:  tensor([329., 180.,  98.]) , dead neurons:  tensor([0., 0., 6.])\n"
     ]
    },
    {
     "name": "stderr",
     "output_type": "stream",
     "text": [
      "100%|██████████| 60000/60000 [02:55<00:00, 342.76it/s]\n"
     ]
    },
    {
     "name": "stdout",
     "output_type": "stream",
     "text": [
      "recent accuracy tensor(0.9456)\n",
      "approximate rank:  tensor([323., 190., 117.]) , dead neurons:  tensor([0., 1., 5.])\n"
     ]
    },
    {
     "name": "stderr",
     "output_type": "stream",
     "text": [
      "100%|██████████| 60000/60000 [02:57<00:00, 338.48it/s]\n"
     ]
    },
    {
     "name": "stdout",
     "output_type": "stream",
     "text": [
      "recent accuracy tensor(0.9454)\n",
      "approximate rank:  tensor([320., 191., 148.]) , dead neurons:  tensor([0., 2., 1.])\n"
     ]
    },
    {
     "name": "stderr",
     "output_type": "stream",
     "text": [
      "100%|██████████| 60000/60000 [03:01<00:00, 331.24it/s]\n"
     ]
    },
    {
     "name": "stdout",
     "output_type": "stream",
     "text": [
      "recent accuracy tensor(0.9458)\n",
      "approximate rank:  tensor([317., 195., 130.]) , dead neurons:  tensor([0., 1., 6.])\n"
     ]
    },
    {
     "name": "stderr",
     "output_type": "stream",
     "text": [
      "100%|██████████| 60000/60000 [02:55<00:00, 341.88it/s]\n"
     ]
    },
    {
     "name": "stdout",
     "output_type": "stream",
     "text": [
      "recent accuracy tensor(0.9448)\n",
      "approximate rank:  tensor([315., 184., 112.]) , dead neurons:  tensor([0., 3., 3.])\n"
     ]
    },
    {
     "name": "stderr",
     "output_type": "stream",
     "text": [
      "100%|██████████| 60000/60000 [02:55<00:00, 341.15it/s]\n"
     ]
    },
    {
     "name": "stdout",
     "output_type": "stream",
     "text": [
      "recent accuracy tensor(0.9445)\n",
      "approximate rank:  tensor([316., 179., 113.]) , dead neurons:  tensor([0., 3., 3.])\n"
     ]
    },
    {
     "name": "stderr",
     "output_type": "stream",
     "text": [
      "100%|██████████| 60000/60000 [02:55<00:00, 341.67it/s]\n"
     ]
    },
    {
     "name": "stdout",
     "output_type": "stream",
     "text": [
      "recent accuracy tensor(0.9454)\n",
      "approximate rank:  tensor([321., 201., 158.]) , dead neurons:  tensor([0., 1., 1.])\n"
     ]
    },
    {
     "name": "stderr",
     "output_type": "stream",
     "text": [
      "100%|██████████| 60000/60000 [03:02<00:00, 328.34it/s]\n"
     ]
    },
    {
     "name": "stdout",
     "output_type": "stream",
     "text": [
      "recent accuracy tensor(0.9465)\n",
      "approximate rank:  tensor([321., 179., 103.]) , dead neurons:  tensor([ 0.,  3., 18.])\n"
     ]
    },
    {
     "name": "stderr",
     "output_type": "stream",
     "text": [
      "100%|██████████| 60000/60000 [02:56<00:00, 340.75it/s]\n"
     ]
    },
    {
     "name": "stdout",
     "output_type": "stream",
     "text": [
      "recent accuracy tensor(0.9465)\n",
      "approximate rank:  tensor([324., 188., 141.]) , dead neurons:  tensor([0., 1., 6.])\n"
     ]
    },
    {
     "name": "stderr",
     "output_type": "stream",
     "text": [
      "100%|██████████| 60000/60000 [02:55<00:00, 342.66it/s]\n"
     ]
    },
    {
     "name": "stdout",
     "output_type": "stream",
     "text": [
      "recent accuracy tensor(0.9430)\n",
      "approximate rank:  tensor([320., 190., 129.]) , dead neurons:  tensor([0., 0., 2.])\n"
     ]
    },
    {
     "name": "stderr",
     "output_type": "stream",
     "text": [
      "100%|██████████| 60000/60000 [02:56<00:00, 340.58it/s]\n"
     ]
    },
    {
     "name": "stdout",
     "output_type": "stream",
     "text": [
      "recent accuracy tensor(0.9443)\n",
      "approximate rank:  tensor([316., 172.,  75.]) , dead neurons:  tensor([0., 0., 4.])\n"
     ]
    },
    {
     "name": "stderr",
     "output_type": "stream",
     "text": [
      "100%|██████████| 60000/60000 [03:03<00:00, 327.63it/s]\n"
     ]
    },
    {
     "name": "stdout",
     "output_type": "stream",
     "text": [
      "recent accuracy tensor(0.9448)\n",
      "approximate rank:  tensor([326., 196., 138.]) , dead neurons:  tensor([0., 0., 5.])\n"
     ]
    },
    {
     "name": "stderr",
     "output_type": "stream",
     "text": [
      "100%|██████████| 60000/60000 [02:56<00:00, 340.89it/s]\n"
     ]
    },
    {
     "name": "stdout",
     "output_type": "stream",
     "text": [
      "recent accuracy tensor(0.9465)\n",
      "approximate rank:  tensor([326., 179., 144.]) , dead neurons:  tensor([0., 0., 6.])\n"
     ]
    },
    {
     "name": "stderr",
     "output_type": "stream",
     "text": [
      "100%|██████████| 60000/60000 [02:55<00:00, 341.37it/s]\n"
     ]
    },
    {
     "name": "stdout",
     "output_type": "stream",
     "text": [
      "recent accuracy tensor(0.9474)\n",
      "approximate rank:  tensor([320., 175.,  95.]) , dead neurons:  tensor([ 0.,  1., 11.])\n"
     ]
    },
    {
     "name": "stderr",
     "output_type": "stream",
     "text": [
      "100%|██████████| 60000/60000 [02:55<00:00, 341.43it/s]\n"
     ]
    },
    {
     "name": "stdout",
     "output_type": "stream",
     "text": [
      "recent accuracy tensor(0.9442)\n",
      "approximate rank:  tensor([324., 177., 141.]) , dead neurons:  tensor([0., 0., 6.])\n"
     ]
    },
    {
     "name": "stderr",
     "output_type": "stream",
     "text": [
      "100%|██████████| 60000/60000 [03:03<00:00, 327.37it/s]\n"
     ]
    },
    {
     "name": "stdout",
     "output_type": "stream",
     "text": [
      "recent accuracy tensor(0.9446)\n",
      "approximate rank:  tensor([329., 180., 121.]) , dead neurons:  tensor([0., 2., 2.])\n"
     ]
    },
    {
     "name": "stderr",
     "output_type": "stream",
     "text": [
      "100%|██████████| 60000/60000 [02:55<00:00, 341.51it/s]\n"
     ]
    },
    {
     "name": "stdout",
     "output_type": "stream",
     "text": [
      "recent accuracy tensor(0.9435)\n",
      "approximate rank:  tensor([322., 175.,  92.]) , dead neurons:  tensor([0., 2., 9.])\n"
     ]
    },
    {
     "name": "stderr",
     "output_type": "stream",
     "text": [
      "100%|██████████| 60000/60000 [02:56<00:00, 340.26it/s]\n"
     ]
    },
    {
     "name": "stdout",
     "output_type": "stream",
     "text": [
      "recent accuracy tensor(0.9446)\n",
      "approximate rank:  tensor([304., 145.,  67.]) , dead neurons:  tensor([ 1.,  5., 24.])\n"
     ]
    },
    {
     "name": "stderr",
     "output_type": "stream",
     "text": [
      "100%|██████████| 60000/60000 [02:56<00:00, 340.38it/s]\n"
     ]
    },
    {
     "name": "stdout",
     "output_type": "stream",
     "text": [
      "recent accuracy tensor(0.9445)\n",
      "approximate rank:  tensor([328., 180.,  84.]) , dead neurons:  tensor([ 0.,  1., 11.])\n"
     ]
    },
    {
     "name": "stderr",
     "output_type": "stream",
     "text": [
      "100%|██████████| 60000/60000 [03:01<00:00, 330.92it/s]\n"
     ]
    },
    {
     "name": "stdout",
     "output_type": "stream",
     "text": [
      "recent accuracy tensor(0.9437)\n",
      "approximate rank:  tensor([325., 188., 132.]) , dead neurons:  tensor([0., 0., 1.])\n"
     ]
    },
    {
     "name": "stderr",
     "output_type": "stream",
     "text": [
      "100%|██████████| 60000/60000 [02:58<00:00, 336.24it/s]\n"
     ]
    },
    {
     "name": "stdout",
     "output_type": "stream",
     "text": [
      "recent accuracy tensor(0.9481)\n",
      "approximate rank:  tensor([316., 152.,  99.]) , dead neurons:  tensor([ 0.,  2., 19.])\n"
     ]
    },
    {
     "name": "stderr",
     "output_type": "stream",
     "text": [
      "100%|██████████| 60000/60000 [02:56<00:00, 340.84it/s]\n"
     ]
    },
    {
     "name": "stdout",
     "output_type": "stream",
     "text": [
      "recent accuracy tensor(0.9437)\n",
      "approximate rank:  tensor([311., 155., 108.]) , dead neurons:  tensor([0., 3., 4.])\n"
     ]
    },
    {
     "name": "stderr",
     "output_type": "stream",
     "text": [
      "100%|██████████| 60000/60000 [02:56<00:00, 339.38it/s]\n"
     ]
    },
    {
     "name": "stdout",
     "output_type": "stream",
     "text": [
      "recent accuracy tensor(0.9470)\n",
      "approximate rank:  tensor([310., 152., 103.]) , dead neurons:  tensor([0., 3., 8.])\n"
     ]
    },
    {
     "name": "stderr",
     "output_type": "stream",
     "text": [
      "100%|██████████| 60000/60000 [02:57<00:00, 337.49it/s]\n"
     ]
    },
    {
     "name": "stdout",
     "output_type": "stream",
     "text": [
      "recent accuracy tensor(0.9425)\n",
      "approximate rank:  tensor([332., 187., 128.]) , dead neurons:  tensor([0., 3., 6.])\n"
     ]
    },
    {
     "name": "stderr",
     "output_type": "stream",
     "text": [
      "100%|██████████| 60000/60000 [03:02<00:00, 328.01it/s]\n"
     ]
    },
    {
     "name": "stdout",
     "output_type": "stream",
     "text": [
      "recent accuracy tensor(0.9453)\n",
      "approximate rank:  tensor([312., 150., 102.]) , dead neurons:  tensor([0., 1., 7.])\n"
     ]
    },
    {
     "name": "stderr",
     "output_type": "stream",
     "text": [
      "100%|██████████| 60000/60000 [02:56<00:00, 340.58it/s]\n"
     ]
    },
    {
     "name": "stdout",
     "output_type": "stream",
     "text": [
      "recent accuracy tensor(0.9461)\n",
      "approximate rank:  tensor([313., 161., 120.]) , dead neurons:  tensor([0., 1., 4.])\n"
     ]
    },
    {
     "name": "stderr",
     "output_type": "stream",
     "text": [
      "100%|██████████| 60000/60000 [02:56<00:00, 339.00it/s]\n"
     ]
    },
    {
     "name": "stdout",
     "output_type": "stream",
     "text": [
      "recent accuracy tensor(0.9454)\n",
      "approximate rank:  tensor([314., 153.,  93.]) , dead neurons:  tensor([ 0.,  1., 11.])\n"
     ]
    },
    {
     "name": "stderr",
     "output_type": "stream",
     "text": [
      "100%|██████████| 60000/60000 [02:56<00:00, 339.58it/s]\n"
     ]
    },
    {
     "name": "stdout",
     "output_type": "stream",
     "text": [
      "recent accuracy tensor(0.9438)\n",
      "approximate rank:  tensor([313., 136.,  81.]) , dead neurons:  tensor([ 0.,  3., 16.])\n"
     ]
    },
    {
     "name": "stderr",
     "output_type": "stream",
     "text": [
      "100%|██████████| 60000/60000 [03:05<00:00, 323.92it/s]\n"
     ]
    },
    {
     "name": "stdout",
     "output_type": "stream",
     "text": [
      "recent accuracy tensor(0.9449)\n",
      "approximate rank:  tensor([318., 159.,  91.]) , dead neurons:  tensor([ 0.,  3., 13.])\n"
     ]
    },
    {
     "name": "stderr",
     "output_type": "stream",
     "text": [
      "100%|██████████| 60000/60000 [02:58<00:00, 335.61it/s]\n"
     ]
    },
    {
     "name": "stdout",
     "output_type": "stream",
     "text": [
      "recent accuracy tensor(0.9446)\n",
      "approximate rank:  tensor([317., 177., 130.]) , dead neurons:  tensor([0., 1., 3.])\n"
     ]
    },
    {
     "name": "stderr",
     "output_type": "stream",
     "text": [
      "100%|██████████| 60000/60000 [02:57<00:00, 338.73it/s]\n"
     ]
    },
    {
     "name": "stdout",
     "output_type": "stream",
     "text": [
      "recent accuracy tensor(0.9443)\n",
      "approximate rank:  tensor([320., 177., 124.]) , dead neurons:  tensor([0., 1., 2.])\n"
     ]
    },
    {
     "name": "stderr",
     "output_type": "stream",
     "text": [
      "100%|██████████| 60000/60000 [03:02<00:00, 328.59it/s]\n"
     ]
    },
    {
     "name": "stdout",
     "output_type": "stream",
     "text": [
      "recent accuracy tensor(0.9468)\n",
      "approximate rank:  tensor([314., 155., 103.]) , dead neurons:  tensor([0., 5., 7.])\n"
     ]
    },
    {
     "name": "stderr",
     "output_type": "stream",
     "text": [
      "100%|██████████| 60000/60000 [03:05<00:00, 324.03it/s]\n"
     ]
    },
    {
     "name": "stdout",
     "output_type": "stream",
     "text": [
      "recent accuracy tensor(0.9406)\n",
      "approximate rank:  tensor([329., 174., 127.]) , dead neurons:  tensor([0., 1., 2.])\n"
     ]
    },
    {
     "name": "stderr",
     "output_type": "stream",
     "text": [
      "100%|██████████| 60000/60000 [02:59<00:00, 334.05it/s]\n"
     ]
    },
    {
     "name": "stdout",
     "output_type": "stream",
     "text": [
      "recent accuracy tensor(0.9438)\n",
      "approximate rank:  tensor([313., 183., 119.]) , dead neurons:  tensor([0., 1., 6.])\n"
     ]
    },
    {
     "name": "stderr",
     "output_type": "stream",
     "text": [
      "100%|██████████| 60000/60000 [02:59<00:00, 334.41it/s]\n"
     ]
    },
    {
     "name": "stdout",
     "output_type": "stream",
     "text": [
      "recent accuracy tensor(0.9443)\n",
      "approximate rank:  tensor([315., 163., 107.]) , dead neurons:  tensor([0., 1., 3.])\n"
     ]
    },
    {
     "name": "stderr",
     "output_type": "stream",
     "text": [
      "100%|██████████| 60000/60000 [02:58<00:00, 335.49it/s]\n"
     ]
    },
    {
     "name": "stdout",
     "output_type": "stream",
     "text": [
      "recent accuracy tensor(0.9458)\n",
      "approximate rank:  tensor([316., 158., 108.]) , dead neurons:  tensor([0., 2., 2.])\n"
     ]
    },
    {
     "name": "stderr",
     "output_type": "stream",
     "text": [
      "100%|██████████| 60000/60000 [03:01<00:00, 331.26it/s]\n"
     ]
    },
    {
     "name": "stdout",
     "output_type": "stream",
     "text": [
      "recent accuracy tensor(0.9440)\n",
      "approximate rank:  tensor([305., 144., 105.]) , dead neurons:  tensor([0., 2., 8.])\n"
     ]
    },
    {
     "name": "stderr",
     "output_type": "stream",
     "text": [
      "100%|██████████| 60000/60000 [03:05<00:00, 323.11it/s]\n"
     ]
    },
    {
     "name": "stdout",
     "output_type": "stream",
     "text": [
      "recent accuracy tensor(0.9444)\n",
      "approximate rank:  tensor([320., 153., 103.]) , dead neurons:  tensor([0., 0., 9.])\n"
     ]
    },
    {
     "name": "stderr",
     "output_type": "stream",
     "text": [
      "100%|██████████| 60000/60000 [03:03<00:00, 327.44it/s]\n"
     ]
    },
    {
     "name": "stdout",
     "output_type": "stream",
     "text": [
      "recent accuracy tensor(0.9466)\n",
      "approximate rank:  tensor([313., 146.,  72.]) , dead neurons:  tensor([ 0.,  1., 14.])\n"
     ]
    },
    {
     "name": "stderr",
     "output_type": "stream",
     "text": [
      "100%|██████████| 60000/60000 [02:59<00:00, 335.14it/s]\n"
     ]
    },
    {
     "name": "stdout",
     "output_type": "stream",
     "text": [
      "recent accuracy tensor(0.9462)\n"
     ]
    }
   ],
   "source": [
    "cfg = {\n",
    "    \"model_version\": \"CBP on net with 3 hidden layer and 2000 hidden-units\",\n",
    "    \"num_runs\":  1,\n",
    "    \"num_tasks\": 60,\n",
    "    \"use_gpu\": 1,\n",
    "    \"data_dir\": \"data/cbp/0/\",\n",
    "    \"to_log\": True,\n",
    "\n",
    "    \"agent\": \"cbp\",\n",
    "    \"opt\": \"sgd\",\n",
    "    \"num_features\": 500,\n",
    "    \"num_hidden_layers\": 3,\n",
    "    \"step_size\": 0.003,\n",
    "    \"accumulate\": True,\n",
    "    \"util_type\": \"adaptable_contribution\",\n",
    "    \"replacement_rate\": 1e-4,\n",
    "    \"decay_rate\": 0.99,\n",
    "    \"mt\": 100,\n",
    "    \"index\": 0,\n",
    "    \"data_file\": \"data/cbp/0/0\"\n",
    "}\n",
    "online_expr(cfg)"
   ]
  },
  {
   "cell_type": "code",
   "execution_count": 34,
   "id": "4efeb211",
   "metadata": {
    "execution": {
     "iopub.execute_input": "2023-10-04T02:33:37.145831Z",
     "iopub.status.busy": "2023-10-04T02:33:37.145437Z",
     "iopub.status.idle": "2023-10-04T02:33:38.714159Z",
     "shell.execute_reply": "2023-10-04T02:33:38.713293Z"
    },
    "papermill": {
     "duration": 18.196067,
     "end_time": "2023-10-04T02:33:38.715995",
     "exception": false,
     "start_time": "2023-10-04T02:33:20.519928",
     "status": "completed"
    },
    "tags": []
   },
   "outputs": [
    {
     "name": "stderr",
     "output_type": "stream",
     "text": [
      "100%|██████████| 60/60 [00:00<00:00, 18698.14it/s]\n"
     ]
    },
    {
     "name": "stdout",
     "output_type": "stream",
     "text": [
      "(0.0001,) 0 94.452835\n",
      "[array([[93.26833 , 94.083336, 94.223335, 94.48333 , 94.34333 , 94.215   ,\n",
      "        94.291664, 94.488335, 94.39833 , 94.361664, 94.44833 , 94.32166 ,\n",
      "        94.505   , 94.565   , 94.565   , 94.44334 , 94.50833 , 94.57166 ,\n",
      "        94.63    , 94.57333 , 94.48    , 94.55666 , 94.545   , 94.57833 ,\n",
      "        94.48167 , 94.44666 , 94.543335, 94.65    , 94.64833 , 94.30334 ,\n",
      "        94.43    , 94.47667 , 94.64833 , 94.74167 , 94.42333 , 94.46167 ,\n",
      "        94.35167 , 94.46333 , 94.44666 , 94.37334 , 94.81167 , 94.371666,\n",
      "        94.705   , 94.246666, 94.53    , 94.60833 , 94.54    , 94.385   ,\n",
      "        94.49167 , 94.456665, 94.42834 , 94.67667 , 94.058334, 94.38333 ,\n",
      "        94.43166 , 94.57667 , 94.405   , 94.44334 , 94.65667 , 94.625   ]],\n",
      "      dtype=float32)]\n"
     ]
    },
    {
     "data": {
      "text/plain": [
       "<matplotlib.image.AxesImage at 0x7dbbae6e7fa0>"
      ]
     },
     "execution_count": 34,
     "metadata": {},
     "output_type": "execute_result"
    },
    {
     "data": {
      "image/png": "[encoded data removed]",
      "text/plain": [
       "<Figure size 640x480 with 1 Axes>"
      ]
     },
     "metadata": {},
     "output_type": "display_data"
    }
   ],
   "source": [
    "bp_metrics('/kaggle/working/lop/lop/permuted_mnist/cfg/cbp.json', 'accuracy')\n",
    "graph = np.asarray(Image.open('comparison.png'))\n",
    "plt.imshow(graph)"
   ]
  },
  {
   "cell_type": "code",
   "execution_count": 35,
   "id": "946b4ecc",
   "metadata": {
    "execution": {
     "iopub.execute_input": "2023-10-04T02:34:10.394721Z",
     "iopub.status.busy": "2023-10-04T02:34:10.394365Z",
     "iopub.status.idle": "2023-10-04T02:34:11.931298Z",
     "shell.execute_reply": "2023-10-04T02:34:11.930440Z"
    },
    "papermill": {
     "duration": 17.647542,
     "end_time": "2023-10-04T02:34:11.933168",
     "exception": false,
     "start_time": "2023-10-04T02:33:54.285626",
     "status": "completed"
    },
    "tags": []
   },
   "outputs": [
    {
     "name": "stderr",
     "output_type": "stream",
     "text": [
      "100%|██████████| 60/60 [00:00<00:00, 32009.44it/s]\n"
     ]
    },
    {
     "name": "stdout",
     "output_type": "stream",
     "text": [
      "(0.0001,) 0 0.12527777\n",
      "[array([[0.06666666, 0.        , 0.        , 0.01666667, 0.06666666,\n",
      "        0.        , 0.08333334, 0.15      , 0.23333332, 0.06666666,\n",
      "        0.        , 0.05      , 0.05      , 0.05      , 0.25      ,\n",
      "        0.1       , 0.01666667, 0.05      , 0.28333333, 0.2       ,\n",
      "        0.18333332, 0.1       , 0.1       , 0.05      , 0.11666666,\n",
      "        0.1       , 0.1       , 0.03333333, 0.35000002, 0.11666666,\n",
      "        0.03333333, 0.06666666, 0.08333334, 0.1       , 0.2       ,\n",
      "        0.1       , 0.06666666, 0.18333332, 0.5       , 0.2       ,\n",
      "        0.01666667, 0.35000002, 0.11666666, 0.18333332, 0.15      ,\n",
      "        0.13333333, 0.08333334, 0.2       , 0.31666666, 0.26666665,\n",
      "        0.06666666, 0.05      , 0.2       , 0.05      , 0.11666666,\n",
      "        0.06666666, 0.06666666, 0.16666667, 0.15      , 0.25      ]],\n",
      "      dtype=float32)]\n"
     ]
    },
    {
     "data": {
      "text/plain": [
       "<matplotlib.image.AxesImage at 0x7dbbaec4fee0>"
      ]
     },
     "execution_count": 35,
     "metadata": {},
     "output_type": "execute_result"
    },
    {
     "data": {
      "image/png": "[encoded data removed]",
      "text/plain": [
       "<Figure size 640x480 with 1 Axes>"
      ]
     },
     "metadata": {},
     "output_type": "display_data"
    }
   ],
   "source": [
    "bp_metrics('/kaggle/working/lop/lop/permuted_mnist/cfg/cbp.json', 'dead_neurons')\n",
    "graph = np.asarray(Image.open('comparison.png'))\n",
    "plt.imshow(graph)"
   ]
  },
  {
   "cell_type": "code",
   "execution_count": 36,
   "id": "8596094a",
   "metadata": {
    "execution": {
     "iopub.execute_input": "2023-10-04T02:34:44.356315Z",
     "iopub.status.busy": "2023-10-04T02:34:44.355978Z",
     "iopub.status.idle": "2023-10-04T02:34:45.988042Z",
     "shell.execute_reply": "2023-10-04T02:34:45.987098Z"
    },
    "papermill": {
     "duration": 18.116191,
     "end_time": "2023-10-04T02:34:45.989943",
     "exception": false,
     "start_time": "2023-10-04T02:34:27.873752",
     "status": "completed"
    },
    "tags": []
   },
   "outputs": [
    {
     "name": "stderr",
     "output_type": "stream",
     "text": [
      "100%|██████████| 60/60 [00:00<00:00, 17793.84it/s]\n"
     ]
    },
    {
     "name": "stdout",
     "output_type": "stream",
     "text": [
      "(0.0001,) 0 0.0032063478\n",
      "[array([[0.00452251, 0.00435562, 0.00415594, 0.00388847, 0.00371186,\n",
      "        0.00354961, 0.00346092, 0.00334872, 0.00327323, 0.0032402 ,\n",
      "        0.00320573, 0.00314962, 0.00314794, 0.00313853, 0.00313008,\n",
      "        0.00312713, 0.00309949, 0.00308668, 0.00308854, 0.0030921 ,\n",
      "        0.00310212, 0.0030924 , 0.00311591, 0.00311031, 0.00310766,\n",
      "        0.00306962, 0.00307092, 0.00309782, 0.00310996, 0.00309356,\n",
      "        0.00307495, 0.00308378, 0.00305327, 0.00305779, 0.00306681,\n",
      "        0.00307525, 0.00309101, 0.00308263, 0.0031106 , 0.00313044,\n",
      "        0.00312085, 0.00311462, 0.00308947, 0.00311732, 0.00308333,\n",
      "        0.00305587, 0.00304637, 0.00307832, 0.00308483, 0.00309046,\n",
      "        0.00307897, 0.00306184, 0.00312291, 0.00312957, 0.00308984,\n",
      "        0.00308138, 0.00308803, 0.003091  , 0.00309633, 0.00308983]],\n",
      "      dtype=float32)]\n"
     ]
    },
    {
     "data": {
      "text/plain": [
       "<matplotlib.image.AxesImage at 0x7dbbae470d90>"
      ]
     },
     "execution_count": 36,
     "metadata": {},
     "output_type": "execute_result"
    },
    {
     "data": {
      "image/png": "[encoded data removed]",
      "text/plain": [
       "<Figure size 640x480 with 1 Axes>"
      ]
     },
     "metadata": {},
     "output_type": "display_data"
    }
   ],
   "source": [
    "bp_metrics('/kaggle/working/lop/lop/permuted_mnist/cfg/cbp.json', 'weight')\n",
    "graph = np.asarray(Image.open('comparison.png'))\n",
    "plt.imshow(graph)"
   ]
  },
  {
   "cell_type": "code",
   "execution_count": 37,
   "id": "3939a8f5",
   "metadata": {
    "execution": {
     "iopub.execute_input": "2023-10-04T02:35:18.112445Z",
     "iopub.status.busy": "2023-10-04T02:35:18.111535Z",
     "iopub.status.idle": "2023-10-04T02:35:19.657623Z",
     "shell.execute_reply": "2023-10-04T02:35:19.656763Z"
    },
    "papermill": {
     "duration": 17.857866,
     "end_time": "2023-10-04T02:35:19.659428",
     "exception": false,
     "start_time": "2023-10-04T02:35:01.801562",
     "status": "completed"
    },
    "tags": []
   },
   "outputs": [
    {
     "name": "stderr",
     "output_type": "stream",
     "text": [
      "100%|██████████| 60/60 [00:00<00:00, 33825.03it/s]\n"
     ]
    },
    {
     "name": "stdout",
     "output_type": "stream",
     "text": [
      "(0.0001,) 0 11.025792\n",
      "[array([[13.228909 , 13.903353 , 13.789111 , 14.00028  , 12.156336 ,\n",
      "        13.167421 , 11.611553 , 12.050134 , 10.696997 , 11.436849 ,\n",
      "        11.117586 , 11.588079 , 11.365762 , 11.160325 , 10.82819  ,\n",
      "        10.786497 , 11.581319 , 10.959014 , 10.646572 , 10.144387 ,\n",
      "        10.836737 , 10.732514 , 10.957227 , 11.217427 , 11.050933 ,\n",
      "        10.77281  , 10.704428 , 11.487237 , 10.694866 , 11.2549305,\n",
      "        11.059026 , 10.257064 , 11.326586 , 11.141103 , 10.525216 ,\n",
      "        11.06725  , 10.956077 , 10.505224 ,  9.51794  , 10.480393 ,\n",
      "        11.095567 , 10.153242 , 10.327689 , 10.189852 , 11.1416235,\n",
      "        10.249064 , 10.545569 , 10.1287775,  9.745638 , 10.256714 ,\n",
      "        10.911289 , 10.849284 , 10.212296 , 10.9387045, 10.832528 ,\n",
      "        10.468986 , 10.454829 , 10.108756 , 10.300892 ,  9.87256  ]],\n",
      "      dtype=float32)]\n"
     ]
    },
    {
     "data": {
      "text/plain": [
       "<matplotlib.image.AxesImage at 0x7dbbb910bf10>"
      ]
     },
     "execution_count": 37,
     "metadata": {},
     "output_type": "execute_result"
    },
    {
     "data": {
      "image/png": "[encoded data removed]",
      "text/plain": [
       "<Figure size 640x480 with 1 Axes>"
      ]
     },
     "metadata": {},
     "output_type": "display_data"
    }
   ],
   "source": [
    "bp_metrics('/kaggle/working/lop/lop/permuted_mnist/cfg/cbp.json', 'effective_rank')\n",
    "graph = np.asarray(Image.open('comparison.png'))\n",
    "plt.imshow(graph)"
   ]
  }
 ],
 "metadata": {
  "kernelspec": {
   "display_name": "Python 3",
   "language": "python",
   "name": "python3"
  },
  "language_info": {
   "codemirror_mode": {
    "name": "ipython",
    "version": 3
   },
   "file_extension": ".py",
   "mimetype": "text/x-python",
   "name": "python",
   "nbconvert_exporter": "python",
   "pygments_lexer": "ipython3",
   "version": "3.10.12"
  },
  "papermill": {
   "default_parameters": {},
   "duration": 35474.991039,
   "end_time": "2023-10-04T02:35:38.302310",
   "environment_variables": {},
   "exception": null,
   "input_path": "__notebook__.ipynb",
   "output_path": "__notebook__.ipynb",
   "parameters": {},
   "start_time": "2023-10-03T16:44:23.311271",
   "version": "2.4.0"
  }
 },
 "nbformat": 4,
 "nbformat_minor": 5
}
